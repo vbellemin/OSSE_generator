{
 "cells": [
  {
   "cell_type": "code",
   "execution_count": null,
   "metadata": {},
   "outputs": [],
   "source": [
    "# Improve by ChatGPT & GitHub Copilot\n",
    "# Running the requierements.ipynb\n",
    "%run /bettik/PROJECTS/pr-data-ocean/riverama/Notebooks/requierements.ipynb"
   ]
  },
  {
   "cell_type": "markdown",
   "metadata": {},
   "source": [
    "## Filter"
   ]
  },
  {
   "cell_type": "code",
   "execution_count": null,
   "metadata": {},
   "outputs": [],
   "source": [
    "def transform_to_regular_grid(ssh_hf_1h_masked):\n",
    "    # Set up UTM Zone 58S projection\n",
    "    proj = Proj(proj='utm', zone=58, south=True, ellps='WGS84')\n",
    "\n",
    "    # Get latitude and longitude data\n",
    "    lat = ssh_hf_1h_masked.lat.values\n",
    "    lon = ssh_hf_1h_masked.lon.values\n",
    "\n",
    "    # Transform lat, lon to UTM coordinates\n",
    "    x, y = np.vectorize(proj)(lon, lat)\n",
    "\n",
    "    # Convert coordinates from meters to kilometers\n",
    "    x_km = x / 1000\n",
    "    y_km = y / 1000\n",
    "\n",
    "    x_min, x_max = x_km.min(), x_km.max()\n",
    "    y_min, y_max = y_km.min(), y_km.max()\n",
    "\n",
    "    # Define new grid\n",
    "    x_new = np.arange(x_min, x_max, dx)\n",
    "    y_new = np.arange(y_min, y_max, dy)\n",
    "    x_grid, y_grid = np.meshgrid(x_new, y_new)\n",
    "\n",
    "    # Interpolate to the new grid using 'nearest' for robust handling of NaNs\n",
    "    data_interp = griddata(\n",
    "        (x_km.flatten(), y_km.flatten()),\n",
    "        ssh_hf_1h_masked.values.flatten(),\n",
    "        (x_grid, y_grid),\n",
    "        method='nearest'\n",
    "    )\n",
    "\n",
    "    # Create new DataArray with the interpolated data on the regular grid\n",
    "    ssh_hf_1h_masked_regular = xr.DataArray(data_interp, coords=[('y', y_new), ('x', x_new)], dims=['y', 'x'])\n",
    "    \n",
    "    return ssh_hf_1h_masked_regular\n"
   ]
  },
  {
   "cell_type": "code",
   "execution_count": null,
   "metadata": {},
   "outputs": [],
   "source": [
    "def fill_nan(ssh_hf_1h_masked_regular):\n",
    "    # Define the axes correctly using pyinterp.core.Axis\n",
    "    x_axis = pyinterp.core.Axis(ssh_hf_1h_masked_regular.x.values, is_circle=True)\n",
    "    y_axis = pyinterp.core.Axis(ssh_hf_1h_masked_regular.y.values, is_circle=True)\n",
    "    \n",
    "    # Prepare the grid using pyinterp.Grid2D\n",
    "    grid = pyinterp.Grid2D(y_axis, x_axis, ssh_hf_1h_masked_regular.values)\n",
    "\n",
    "    # Apply Gauss-Seidel method to fill data\n",
    "    has_converged, ssh_hf_1h_masked_regular_filled = fill.gauss_seidel(grid, num_threads=16)\n",
    "    \n",
    "    return has_converged, ssh_hf_1h_masked_regular_filled"
   ]
  },
  {
   "cell_type": "code",
   "execution_count": null,
   "metadata": {},
   "outputs": [],
   "source": [
    "def extend(ssh,nx,ny):\n",
    "    ssh_extended = np.empty((3*ny,3*nx))\n",
    "    ssh_extended[ny:2*ny,nx:2*nx] = +ssh\n",
    "    ssh_extended[0:ny,nx:2*nx] = +ssh[::-1,:]\n",
    "    ssh_extended[2*ny:3*ny,nx:2*nx] = +ssh[::-1,:]\n",
    "    ssh_extended[:,0:nx] = ssh_extended[:,nx:2*nx][:,::-1]\n",
    "    ssh_extended[:,2*nx:3*nx] = ssh_extended[:,nx:2*nx][:,::-1]\n",
    "    return ssh_extended"
   ]
  },
  {
   "cell_type": "code",
   "execution_count": null,
   "metadata": {},
   "outputs": [],
   "source": [
    "def lowpass(_lambda,nx,ny,wavenum2D) : \n",
    "    _lowpass = np.zeros((3*ny,3*nx))\n",
    "    for i in range (3*ny):\n",
    "        for j in range(3*nx):\n",
    "            if wavenum2D[i,j]<1/_lambda:\n",
    "                _lowpass[i,j] = 1\n",
    "    return _lowpass "
   ]
  },
  {
   "cell_type": "code",
   "execution_count": null,
   "metadata": {},
   "outputs": [],
   "source": [
    "def gaspari_cohn(array,distance,center):\n",
    "    if type(array) is float or type(array) is int:\n",
    "        array = np.array([array])\n",
    "    else:\n",
    "        array = array\n",
    "    if distance<=0:\n",
    "        return np.zeros_like(array)\n",
    "    else:\n",
    "        array = 2*np.abs(array-center*np.ones_like(array))/distance\n",
    "        gp = np.zeros_like(array)\n",
    "        i= np.where(array<=1.)[0]\n",
    "        gp[i]=-0.25*array[i]**5+0.5*array[i]**4+0.625*array[i]**3-5./3.*array[i]**2+1.\n",
    "        i =np.where((array>1.)*(array<=2.))[0]\n",
    "        gp[i] = 1./12.*array[i]**5-0.5*array[i]**4+0.625*array[i]**3+5./3.*array[i]**2-5.*array[i]+4.-2./3./array[i]\n",
    "        #if type(r) is float:\n",
    "        #    gp = gp[0]\n",
    "    return gp"
   ]
  },
  {
   "cell_type": "code",
   "execution_count": null,
   "metadata": {},
   "outputs": [],
   "source": [
    "def create_spatial_window(nx,ny):\n",
    "    result = np.ones((3*ny,3*nx))\n",
    "    \n",
    "    gaspari_x = np.expand_dims(gaspari_cohn(np.arange(2*nx),nx,nx),axis=0)\n",
    "    gaspari_y = np.expand_dims(gaspari_cohn(np.arange(2*ny),ny,ny),axis=1)\n",
    "\n",
    "    #paving edges with gaspari-cohn\n",
    "    result[2*ny:,nx:2*nx] = np.repeat(gaspari_y[ny:,:],repeats=nx,axis=1)\n",
    "    result[:ny,nx:2*nx] = np.repeat(gaspari_y[:ny,:],repeats=nx,axis=1)\n",
    "    result[ny:2*ny,0:nx] = np.repeat(gaspari_x[:,:nx],repeats=ny,axis=0)\n",
    "    result[ny:2*ny,2*nx:] = np.repeat(gaspari_x[:,nx:],repeats=ny,axis=0)\n",
    "\n",
    "    #paving corners with gaspari-cohn\n",
    "    result[2*ny:,2*nx:]=gaspari_y[ny:,:]*gaspari_x[:,nx:]\n",
    "    result[:ny,:nx]=gaspari_y[:ny,:]*gaspari_x[:,:nx]\n",
    "    result[2*ny:,:nx]=gaspari_y[ny:,:]*gaspari_x[:,:nx]\n",
    "    result[:ny,2*nx:]=gaspari_y[:ny,:]*gaspari_x[:,nx:]\n",
    "\n",
    "    return result "
   ]
  },
  {
   "cell_type": "code",
   "execution_count": null,
   "metadata": {},
   "outputs": [],
   "source": [
    "def bar_igw_filter(date_str, lambda_bar=100):\n",
    "    # Parse the date string to get the month\n",
    "    date = pd.to_datetime(date_str)\n",
    "    month = date.month\n",
    "\n",
    "    # Construct the file path using the extracted month\n",
    "    file_path = f\"/bettik/PROJECTS/pr-data-ocean/riverama/Datos/Filtrage/ssh_hf/ssh_hf_{month:02}.nc\"\n",
    "    ssh_hf = xr.open_mfdataset(file_path)\n",
    "    \n",
    "    # Date selection\n",
    "    ssh_hf_1h = ssh_hf.rename({'__xarray_dataarray_variable__': 'ssh_hf'}).sel(time_counter=date).load()\n",
    "    \n",
    "    # Applying mask\n",
    "    mask = xr.open_dataset('/bettik/PROJECTS/pr-data-ocean/riverama/Datos/CALEDO60/1_mesh_mask_TROPICO12_L125_tr21.nc', drop_variables={\"x\", \"y\"}) \n",
    "    ssh_hf_1h_masked = ssh_hf_1h['ssh_hf'].where(mask.tmaskutil[0,:,:] == 1, np.nan).load()\n",
    "\n",
    "    # Transform and fill missing data\n",
    "    ssh_hf_1h_masked_regular = transform_to_regular_grid(ssh_hf_1h_masked)\n",
    "    ssh_hf_1h_masked_regular_filled = fill_nan(ssh_hf_1h_masked_regular)[1]\n",
    "    \n",
    "    # Extend the filled data\n",
    "    nx = int(ssh_hf_1h_masked_regular_filled.shape[1])\n",
    "    ny = int(ssh_hf_1h_masked_regular_filled.shape[0])\n",
    "    ssh_hf_1h_masked_regular_filled_extended = extend(ssh_hf_1h_masked_regular_filled, nx, ny)\n",
    "    \n",
    "    # Frequency domain processing\n",
    "    kx = np.fft.fftfreq(3*nx, dx)  # in km\n",
    "    ky = np.fft.fftfreq(3*ny, dy)  # in km\n",
    "    k, l = np.meshgrid(kx, ky)\n",
    "    wavenum2D = np.sqrt(k**2 + l**2)\n",
    "    \n",
    "    # Apply window function\n",
    "    window = create_spatial_window(nx, ny)\n",
    "    ssh_hf_1h_masked_regular_filled_extended_windowed = ssh_hf_1h_masked_regular_filled_extended * window\n",
    "    \n",
    "    # Filter in the frequency domain\n",
    "    lowpass_bar = lowpass(lambda_bar, nx, ny, wavenum2D)\n",
    "    ssh_hf_freq = fp.fft2(ssh_hf_1h_masked_regular_filled_extended_windowed)\n",
    "    ssh_freq_filtered = lowpass_bar * ssh_hf_freq\n",
    "    ssh_bar = np.real(fp.ifft2(ssh_freq_filtered))[ny:2*ny, nx:2*nx]\n",
    "    \n",
    "    # Calculate the internal gravity waves (IGW)\n",
    "    ssh_igw = ssh_hf_1h_masked_regular_filled - ssh_bar\n",
    "    \n",
    "    return ssh_igw, ssh_bar"
   ]
  },
  {
   "cell_type": "markdown",
   "metadata": {},
   "source": [
    "## Regridding"
   ]
  },
  {
   "cell_type": "code",
   "execution_count": null,
   "metadata": {},
   "outputs": [],
   "source": [
    "# Loading ssh_hf and making and selecting 1h for testing\n",
    "ssh_hf = xr.open_mfdataset(\"/bettik/PROJECTS/pr-data-ocean/riverama/Datos/Filtrage/ssh_hf/ssh_hf_01.nc\")\n",
    "ssh_hf_1h = ssh_hf.rename({'__xarray_dataarray_variable__': 'ssh_hf'}).sel(time_counter=pd.to_datetime('2014-01-10T00:30:00')).load()\n",
    "\n",
    "# Appying the mask to ssh_hf_1h, keep data where mask is equal to 1\n",
    "mask = xr.open_dataset('/bettik/PROJECTS/pr-data-ocean/riverama/Datos/CALEDO60/1_mesh_mask_TROPICO12_L125_tr21.nc',drop_variables={\"x\",\"y\"}) \n",
    "ssh_hf_1h_masked = ssh_hf_1h['ssh_hf'].where(mask.tmaskutil[0,:,:] == 1, np.nan).load()"
   ]
  },
  {
   "cell_type": "code",
   "execution_count": null,
   "metadata": {},
   "outputs": [],
   "source": [
    "# Ensure pyproj is correctly configured for UTM Zone 58S\n",
    "utm_proj = pyproj.Proj(proj='utm', zone=58, ellps='WGS84', south=True)\n",
    "\n",
    "# Apply the projection transformation directly on the 2D coordinate arrays\n",
    "utm_x, utm_y = utm_proj(ssh_hf_1h_masked['lon'].values, ssh_hf_1h_masked['lat'].values)\n",
    "\n",
    "# Add UTM coordinates to the DataArray\n",
    "ssh_hf_1h_masked = ssh_hf_1h_masked.assign_coords({\n",
    "    \"utm_x\": ((\"y\", \"x\"), utm_x),\n",
    "    \"utm_y\": ((\"y\", \"x\"), utm_y)\n",
    "})"
   ]
  },
  {
   "cell_type": "code",
   "execution_count": null,
   "metadata": {},
   "outputs": [],
   "source": [
    "plt.figure()\n",
    "plt.pcolormesh(ssh_hf_1h_masked['utm_x'], ssh_hf_1h_masked['utm_y'], ssh_hf_1h_masked)\n",
    "plt.show()"
   ]
  },
  {
   "cell_type": "code",
   "execution_count": null,
   "metadata": {},
   "outputs": [],
   "source": [
    "dx = 1.7\n",
    "dy = 1.7"
   ]
  },
  {
   "cell_type": "code",
   "execution_count": null,
   "metadata": {},
   "outputs": [],
   "source": [
    "ssh_hf_1h_masked_regular = transform_to_regular_grid(ssh_hf_1h_masked)"
   ]
  },
  {
   "cell_type": "code",
   "execution_count": null,
   "metadata": {},
   "outputs": [],
   "source": [
    "date_to_process = '2014-01-10T00:30:00'\n",
    "lambda_value = 400  # km\n",
    "ssh_igw, ssh_bar = bar_igw_filter(date_to_process, lambda_bar=lambda_value)"
   ]
  },
  {
   "cell_type": "code",
   "execution_count": null,
   "metadata": {},
   "outputs": [],
   "source": [
    "rows, columns = ssh_igw.shape\n",
    "print(\"Number of rows:\", rows)\n",
    "print(\"Number of columns:\", columns)"
   ]
  },
  {
   "cell_type": "code",
   "execution_count": null,
   "metadata": {},
   "outputs": [],
   "source": [
    "# Define the coordinates based on the size of your ssh_igw_array and the provided example values\n",
    "y_coords = np.linspace(6791.458971, 8263.658971, num=867)  # Adjusted to match the number of rows in ssh_igw_array\n",
    "x_coords = np.linspace(-118.79531, 1288.80469, num=829)  # Adjusted to match the number of columns in ssh_igw_array\n",
    "\n",
    "# Create the DataArray\n",
    "ssh_igw_da = xr.DataArray(data=ssh_igw, coords=[(\"y\", y_coords), (\"x\", x_coords)])"
   ]
  },
  {
   "cell_type": "code",
   "execution_count": null,
   "metadata": {},
   "outputs": [],
   "source": [
    "plt.figure()\n",
    "plt.pcolormesh(ssh_igw_da['x'], ssh_igw_da['y'], ssh_igw_da)\n",
    "plt.show()"
   ]
  },
  {
   "cell_type": "code",
   "execution_count": null,
   "metadata": {},
   "outputs": [],
   "source": [
    "ssh_igw_da"
   ]
  },
  {
   "cell_type": "code",
   "execution_count": null,
   "metadata": {},
   "outputs": [],
   "source": [
    "# Define the projection for UTM (specify the correct zone and whether it's north or south)\n",
    "proj_utm = Proj(proj='utm', zone=58, ellps='WGS84', south=True)\n",
    "\n",
    "# Define the projection for geographic coordinates\n",
    "proj_geo = Proj(proj='latlong', datum='WGS84')\n",
    "\n",
    "# Example coordinates transformation from UTM to geographic\n",
    "lon, lat = transform(proj_utm, proj_geo, utm_x, utm_y)"
   ]
  },
  {
   "cell_type": "code",
   "execution_count": null,
   "metadata": {},
   "outputs": [],
   "source": [
    "interpolated_da = ssh_igw_da.interp(x=ssh_hf_1h_masked.lon, y=ssh_hf_1h_masked.lat, method='linear')\n"
   ]
  },
  {
   "cell_type": "code",
   "execution_count": null,
   "metadata": {},
   "outputs": [],
   "source": [
    "interpolated_da"
   ]
  },
  {
   "cell_type": "code",
   "execution_count": null,
   "metadata": {},
   "outputs": [],
   "source": [
    "plt.figure()\n",
    "plt.pcolormesh(interpolated_da['lon'], interpolated_da['lat'], interpolated_da)\n",
    "plt.show()"
   ]
  },
  {
   "cell_type": "code",
   "execution_count": null,
   "metadata": {},
   "outputs": [],
   "source": [
    "from pyproj import Proj, transform\n",
    "\n",
    "# Define the projection for UTM (specify the correct zone and whether it's north or south)\n",
    "proj_utm = Proj(proj='utm', zone=58, ellps='WGS84', south=True)\n",
    "\n",
    "# Define the projection for geographic coordinates\n",
    "proj_geo = Proj(proj='latlong', datum='WGS84')\n",
    "\n",
    "# Example coordinates transformation from UTM to geographic\n",
    "lon, lat = transform(proj_utm, proj_geo, utm_x, utm_y)"
   ]
  },
  {
   "cell_type": "code",
   "execution_count": null,
   "metadata": {},
   "outputs": [],
   "source": []
  }
 ],
 "metadata": {
  "kernelspec": {
   "display_name": "Python 3",
   "language": "python",
   "name": "python3"
  },
  "language_info": {
   "codemirror_mode": {
    "name": "ipython",
    "version": 3
   },
   "file_extension": ".py",
   "mimetype": "text/x-python",
   "name": "python",
   "nbconvert_exporter": "python",
   "pygments_lexer": "ipython3",
   "version": "3.11.8"
  }
 },
 "nbformat": 4,
 "nbformat_minor": 2
}
