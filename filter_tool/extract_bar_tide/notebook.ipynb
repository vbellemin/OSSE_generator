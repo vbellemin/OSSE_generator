{
 "cells": [
  {
   "attachments": {},
   "cell_type": "markdown",
   "metadata": {},
   "source": [
    "# Filtering barotropic tide "
   ]
  },
  {
   "attachments": {},
   "cell_type": "markdown",
   "metadata": {},
   "source": [
    "This notebook aims at filetring High Frequency SSH and removing barotropic tide (large scale signal) with low pass spatial filter. "
   ]
  },
  {
   "cell_type": "code",
   "execution_count": 1,
   "metadata": {},
   "outputs": [],
   "source": [
    "import numpy as np\n",
    "import matplotlib.pyplot as plt\n",
    "import xarray as xr\n",
    "from pyinterp import fill, Axis, TemporalAxis, Grid3D, Grid2D\n",
    "import scipy.fftpack as fp\n",
    "from scipy.interpolate import RegularGridInterpolator, griddata\n",
    "from math import *\n",
    "from dask import delayed,compute\n",
    "from joblib import Parallel\n",
    "from joblib import delayed as jb_delayed"
   ]
  },
  {
   "attachments": {},
   "cell_type": "markdown",
   "metadata": {},
   "source": [
    "## 1. - Data import "
   ]
  },
  {
   "attachments": {},
   "cell_type": "markdown",
   "metadata": {},
   "source": [
    "Mask is imported from **\"/bettik/bellemva/MITgcm/mask/mask.nc\"**."
   ]
  },
  {
   "cell_type": "code",
   "execution_count": 2,
   "metadata": {},
   "outputs": [],
   "source": [
    "mask = xr.open_dataset(\"/bettik/bellemva/MITgcm/mask/mask.nc\")"
   ]
  },
  {
   "attachments": {},
   "cell_type": "markdown",
   "metadata": {},
   "source": [
    "The Dataset of all SSH variables is loaded with xarray."
   ]
  },
  {
   "cell_type": "code",
   "execution_count": 3,
   "metadata": {},
   "outputs": [],
   "source": [
    "ds = xr.open_dataset(\"/bettik/bellemva/MITgcm/MITgcm_filtered_final/MITgcm_filt_20120605.nc\")"
   ]
  },
  {
   "attachments": {},
   "cell_type": "markdown",
   "metadata": {},
   "source": [
    "A DataArray is created with High Frequency (HF) Sea Surface Height. It is downgraded at the solution 1/12°. "
   ]
  },
  {
   "cell_type": "code",
   "execution_count": 4,
   "metadata": {},
   "outputs": [],
   "source": [
    "ssh_hf = ds.ssh_hf.coarsen(longitude=4,latitude=4,boundary='trim').mean()\n",
    "ssh_hf = ssh_hf.load().chunk({'time':1})"
   ]
  },
  {
   "attachments": {},
   "cell_type": "markdown",
   "metadata": {},
   "source": [
    "## 2. - Data processing "
   ]
  },
  {
   "attachments": {},
   "cell_type": "markdown",
   "metadata": {},
   "source": [
    "The HF SSH needs to be processed before barotropic tide is removed. First of all, NaNs are filled by interpolation. "
   ]
  },
  {
   "cell_type": "code",
   "execution_count": 5,
   "metadata": {},
   "outputs": [],
   "source": [
    "x_axis = Axis(ssh_hf.longitude.values,is_circle=True)\n",
    "y_axis = Axis(ssh_hf.latitude.values,is_circle=True)\n",
    "t_axis = TemporalAxis(ssh_hf.time.values)\n",
    "\n",
    "grid = Grid3D(y_axis, x_axis, t_axis, ssh_hf.values.transpose(1,2,0))\n",
    "has_converged, filled = fill.gauss_seidel(grid,num_threads=4)\n",
    "\n",
    "ssh_hf_filled = ssh_hf.copy(deep=True,data=filled.transpose(2,0,1)).chunk({'time':1})\n"
   ]
  },
  {
   "attachments": {},
   "cell_type": "markdown",
   "metadata": {},
   "source": [
    "The filled SSH is interpolated on a cartesian grid (regular in distance). Two empty bands of NaNs are situated on each side of the region. They are filled with interpolation. "
   ]
  },
  {
   "cell_type": "code",
   "execution_count": 13,
   "metadata": {},
   "outputs": [],
   "source": [
    "dx = 10 # in kilometers, spacing of the grid \n",
    "\n",
    "ENSLAT2D, ENSLON2D, i_lat, i_lon = create_cartesian_grid(ssh_hf_filled.latitude.values,\n",
    "                                                         ssh_hf_filled.longitude.values,\n",
    "                                                         dx)\n",
    "\n",
    "array_cart_ssh = ssh_hf_filled.interp(latitude=('z',ENSLAT2D.flatten()),\n",
    "                                      longitude=('z',ENSLON2D.flatten()),\n",
    "                                     ).values\n",
    "\n",
    "# INTERPOLATION OF NaNs # \n",
    "x_axis = Axis(np.arange(i_lon))\n",
    "y_axis = Axis(np.arange(i_lat))\n",
    "t_axis = TemporalAxis(ssh_hf.time.values)\n",
    "\n",
    "grid = Grid3D(y_axis, x_axis, t_axis, array_cart_ssh.reshape((24,i_lat,i_lon)).transpose(1,2,0))\n",
    "has_converged, filled = fill.gauss_seidel(grid,num_threads=4)\n",
    "\n",
    "mask_cart = np.isnan(array_cart_ssh[0].reshape((i_lat,i_lon)))\n",
    "\n",
    "# CREATION OF DataArray #\n",
    "cart_ssh_hf = xr.DataArray(data=filled.transpose(2,0,1),\n",
    "                          dims=[\"time\",\"y\",\"x\"],\n",
    "                          coords = dict(\n",
    "                              time = ssh_hf_filled.time.values,\n",
    "                              y=([\"y\"],np.arange(i_lat)),\n",
    "                              x=([\"x\"],np.arange(i_lon))\n",
    "                          )).chunk({'time':1})"
   ]
  },
  {
   "attachments": {},
   "cell_type": "markdown",
   "metadata": {},
   "source": [
    "## 3. - Extracting barotropic tide "
   ]
  },
  {
   "attachments": {},
   "cell_type": "markdown",
   "metadata": {},
   "source": [
    "The barotropic tide is extracted with the function **extract_bar_tide**. Joblib delayed package is used for parellizing over the time steps. "
   ]
  },
  {
   "cell_type": "code",
   "execution_count": 15,
   "metadata": {},
   "outputs": [],
   "source": [
    "window = create_spatial_window(nx=i_lon, ny=i_lat)\n",
    "\n",
    "cart_ssh_filtered = np.array(Parallel(n_jobs=4,backend='multiprocessing')(jb_delayed(extract_bar_tide)(cart_ssh_hf[i].values,dx,window) for i in range(24)))"
   ]
  },
  {
   "attachments": {},
   "cell_type": "markdown",
   "metadata": {},
   "source": [
    "The grid is interpolated over a geodesic grid with **scipy.interpolate.griddata**. This operation is parallelized with Joblib. "
   ]
  },
  {
   "cell_type": "code",
   "execution_count": 54,
   "metadata": {},
   "outputs": [],
   "source": [
    "lon2d, lat2d = np.meshgrid(ssh_hf.longitude.values, ssh_hf.latitude.values)\n",
    "\n",
    "geo_filtered = np.array(Parallel(n_jobs=24,backend='multiprocessing')(jb_delayed(griddata)(np.array([ENSLAT2D.flatten(),ENSLON2D.flatten()]).T,\n",
    "                                     cart_ssh_filtered[i].flatten(),\n",
    "                                     (lat2d,lon2d),'cubic') for i in range(24)))"
   ]
  },
  {
   "cell_type": "code",
   "execution_count": 55,
   "metadata": {},
   "outputs": [],
   "source": [
    "ssh_filtered = ssh_hf.copy(deep=True,data=geo_filtered).chunk({'time':1})"
   ]
  },
  {
   "cell_type": "code",
   "execution_count": 56,
   "metadata": {},
   "outputs": [],
   "source": [
    "ssh_filtered = ssh_filtered.interp_like(ds,kwargs={\"fill_value\": \"extrapolate\"})"
   ]
  },
  {
   "cell_type": "code",
   "execution_count": 57,
   "metadata": {},
   "outputs": [],
   "source": [
    "mask = np.load(\"/bettik/bellemva/MITgcm/mask/mask_MITgcm_nobay.npy\")"
   ]
  },
  {
   "cell_type": "code",
   "execution_count": 58,
   "metadata": {},
   "outputs": [],
   "source": [
    "ssh_filtered = ssh_filtered.where(mask==False,np.nan)"
   ]
  },
  {
   "cell_type": "code",
   "execution_count": 51,
   "metadata": {},
   "outputs": [],
   "source": [
    "ssh_filtered = ssh_filtered.rename(\"ssh_bar\")"
   ]
  },
  {
   "cell_type": "code",
   "execution_count": 52,
   "metadata": {},
   "outputs": [],
   "source": [
    "ssh_filtered.to_netcdf(\"/bettik/bellemva/MITgcm/test.nc\")"
   ]
  },
  {
   "attachments": {},
   "cell_type": "markdown",
   "metadata": {},
   "source": [
    "## Functions "
   ]
  },
  {
   "cell_type": "code",
   "execution_count": 7,
   "metadata": {},
   "outputs": [],
   "source": [
    "def create_cartesian_grid (latitude,longitude,dx):\n",
    "    \"\"\" \n",
    "    Creates a cartesian grid (regular in distance, kilometers) from a geodesic latitude, longitude grid. \n",
    "    The new grid is expressed in latitude, longitude coordinates.\n",
    "\n",
    "    Parameters\n",
    "    ----------\n",
    "    longitude : numpy ndarray \n",
    "        Vector of longitude for geodesic input grid. \n",
    "    latitude : numpy ndarray \n",
    "        Vector of latitude for geodesic input grid. \n",
    "    dx : float \n",
    "        Grid spacing in kilometers. \n",
    "\n",
    "    Returns\n",
    "    -------\n",
    "    ENSLAT2D : \n",
    "        2-D numpy ndarray of the latitudes of the points of the cartesian grid \n",
    "    ENSLON2D : \n",
    "        2-D numpy ndarray of the longitudes of the points of the cartesian grid \n",
    "    \"\"\"\n",
    "    km2deg = 1/111\n",
    "\n",
    "    # ENSEMBLE OF LATITUDES # \n",
    "    ENSLAT = np.arange(latitude[0],latitude[-1]+dx*km2deg,dx*km2deg)\n",
    "    range_lon = longitude[-1]-longitude[0]\n",
    "\n",
    "    if longitude.size%2 == 0 : \n",
    "        nstep_lon = floor(range_lon/(dx*km2deg))+2\n",
    "    else : \n",
    "        nstep_lon = ceil(range_lon/(dx*km2deg))+2\n",
    "    ENSLAT2D = np.repeat(np.expand_dims(ENSLAT,axis=1),axis=1,repeats=nstep_lon)\n",
    "\n",
    "    # ENSEMBLE OF LATITUDES # \n",
    "    mid_lon = (longitude[-1]+longitude[0])/2\n",
    "    ENSLON2D=np.zeros_like(ENSLAT2D)\n",
    "\n",
    "    for i in range(len(ENSLAT)):\n",
    "        d_lon = dx*km2deg*(np.cos(np.pi*latitude[0]/180)/np.cos(np.pi*latitude[i]/180))\n",
    "        d_lon_range = np.array([i*d_lon for i in range (1,int(nstep_lon/2)+1)])\n",
    "        lon_left = np.flip(mid_lon-d_lon_range)\n",
    "        lon_right = mid_lon+d_lon_range\n",
    "        ENSLON2D[i,:]=np.concatenate((lon_left,lon_right))\n",
    "\n",
    "    return ENSLAT2D, ENSLON2D, ENSLAT2D.shape[0], ENSLAT2D.shape[1]\n",
    "    "
   ]
  },
  {
   "cell_type": "code",
   "execution_count": 8,
   "metadata": {},
   "outputs": [],
   "source": [
    "def lowpass(_lambda,nx,ny,wavenum2D) : \n",
    "    _lowpass = np.zeros((3*ny,3*nx))\n",
    "    for i in range (3*ny):\n",
    "        for j in range(3*nx):\n",
    "            if wavenum2D[i,j]<1/_lambda:\n",
    "                _lowpass[i,j] = 1\n",
    "    return _lowpass "
   ]
  },
  {
   "cell_type": "code",
   "execution_count": 9,
   "metadata": {},
   "outputs": [],
   "source": [
    "def extend(ssh,nx,ny):\n",
    "    ssh_extended = np.empty((3*ny,3*nx))\n",
    "    ssh_extended[ny:2*ny,nx:2*nx] = +ssh\n",
    "    ssh_extended[0:ny,nx:2*nx] = +ssh[::-1,:]\n",
    "    ssh_extended[2*ny:3*ny,nx:2*nx] = +ssh[::-1,:]\n",
    "    ssh_extended[:,0:nx] = ssh_extended[:,nx:2*nx][:,::-1]\n",
    "    ssh_extended[:,2*nx:3*nx] = ssh_extended[:,nx:2*nx][:,::-1]\n",
    "    return ssh_extended"
   ]
  },
  {
   "cell_type": "code",
   "execution_count": 10,
   "metadata": {},
   "outputs": [],
   "source": [
    "def gaspari_cohn(array,distance,center):\n",
    "    \"\"\"\n",
    "    NAME \n",
    "        bfn_gaspari_cohn\n",
    "\n",
    "    DESCRIPTION \n",
    "        Gaspari-Cohn function. @vbellemin.\n",
    "        \n",
    "        Args: \n",
    "            array : array of value whose the Gaspari-Cohn function will be applied\n",
    "            center : centered value of the function \n",
    "            distance : Distance above which the return values are zeros\n",
    "\n",
    "\n",
    "        Returns:  smoothed values \n",
    "            \n",
    "    \"\"\" \n",
    "    if type(array) is float or type(array) is int:\n",
    "        array = np.array([array])\n",
    "    else:\n",
    "        array = array\n",
    "    if distance<=0:\n",
    "        return np.zeros_like(array)\n",
    "    else:\n",
    "        array = 2*np.abs(array-center*np.ones_like(array))/distance\n",
    "        gp = np.zeros_like(array)\n",
    "        i= np.where(array<=1.)[0]\n",
    "        gp[i]=-0.25*array[i]**5+0.5*array[i]**4+0.625*array[i]**3-5./3.*array[i]**2+1.\n",
    "        i =np.where((array>1.)*(array<=2.))[0]\n",
    "        gp[i] = 1./12.*array[i]**5-0.5*array[i]**4+0.625*array[i]**3+5./3.*array[i]**2-5.*array[i]+4.-2./3./array[i]\n",
    "        #if type(r) is float:\n",
    "        #    gp = gp[0]\n",
    "    return gp"
   ]
  },
  {
   "cell_type": "code",
   "execution_count": 11,
   "metadata": {},
   "outputs": [],
   "source": [
    "def create_spatial_window(nx,ny):\n",
    "    result = np.ones((3*ny,3*nx))\n",
    "    \n",
    "    gaspari_x = np.expand_dims(gaspari_cohn(np.arange(2*nx),nx,nx),axis=0)\n",
    "    gaspari_y = np.expand_dims(gaspari_cohn(np.arange(2*ny),ny,ny),axis=1)\n",
    "\n",
    "    #paving edges with gaspari-cohn\n",
    "    result[2*ny:,nx:2*nx] = np.repeat(gaspari_y[ny:,:],repeats=nx,axis=1)\n",
    "    result[:ny,nx:2*nx] = np.repeat(gaspari_y[:ny,:],repeats=nx,axis=1)\n",
    "    result[ny:2*ny,0:nx] = np.repeat(gaspari_x[:,:nx],repeats=ny,axis=0)\n",
    "    result[ny:2*ny,2*nx:] = np.repeat(gaspari_x[:,nx:],repeats=ny,axis=0)\n",
    "\n",
    "    #paving corners with gaspari-cohn\n",
    "    result[2*ny:,2*nx:]=gaspari_y[ny:,:]*gaspari_x[:,nx:]\n",
    "    result[:ny,:nx]=gaspari_y[:ny,:]*gaspari_x[:,:nx]\n",
    "    result[2*ny:,:nx]=gaspari_y[ny:,:]*gaspari_x[:,:nx]\n",
    "    result[:ny,2*nx:]=gaspari_y[:ny,:]*gaspari_x[:,nx:]\n",
    "\n",
    "    return result "
   ]
  },
  {
   "cell_type": "code",
   "execution_count": 12,
   "metadata": {},
   "outputs": [],
   "source": [
    "def extract_bar_tide(ssh0,dx,window):\n",
    "\n",
    "    nx = ssh0.shape[1]\n",
    "    ny = ssh0.shape[0]\n",
    "\n",
    "    kx = np.fft.fftfreq(3*nx,dx) # km\n",
    "    ky = np.fft.fftfreq(3*ny,dx) # km\n",
    "    k, l = np.meshgrid(kx,ky)\n",
    "    wavenum2D = np.sqrt(k**2 + l**2)\n",
    "\n",
    "    lambda_bar = 400\n",
    "    lowpass_bar = lowpass(lambda_bar,nx,ny,wavenum2D)\n",
    "\n",
    "    ssh = extend(ssh0,nx,ny)\n",
    "    ssh = ssh * window\n",
    "    ssh_freq = fp.fft2(ssh)\n",
    "    ssh_freq_filtered = lowpass_bar * ssh_freq\n",
    "    ssh_filtered = np.real(fp.ifft2(ssh_freq_filtered))[ny:2*ny,nx:2*nx]\n",
    "\n",
    "    return ssh_filtered\n"
   ]
  },
  {
   "cell_type": "code",
   "execution_count": null,
   "metadata": {},
   "outputs": [],
   "source": []
  },
  {
   "cell_type": "code",
   "execution_count": null,
   "metadata": {},
   "outputs": [],
   "source": []
  }
 ],
 "metadata": {
  "kernelspec": {
   "display_name": "pangeo-forge",
   "language": "python",
   "name": "python3"
  },
  "language_info": {
   "codemirror_mode": {
    "name": "ipython",
    "version": 3
   },
   "file_extension": ".py",
   "mimetype": "text/x-python",
   "name": "python",
   "nbconvert_exporter": "python",
   "pygments_lexer": "ipython3",
   "version": "3.10.8"
  },
  "orig_nbformat": 4
 },
 "nbformat": 4,
 "nbformat_minor": 2
}
