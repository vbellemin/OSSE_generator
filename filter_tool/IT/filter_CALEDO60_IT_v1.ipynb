{
 "cells": [
  {
   "cell_type": "code",
   "execution_count": null,
   "metadata": {},
   "outputs": [],
   "source": [
    "# Improve by ChatGPT & GitHub Copilot\n",
    "# Running the requierements.ipynb\n",
    "%run /bettik/PROJECTS/pr-data-ocean/riverama/Notebooks/requierements.ipynb\n",
    "\n",
    "# Running functions_IT.ipynb\n",
    "%run /bettik/PROJECTS/pr-data-ocean/riverama/Notebooks/OSSE_borrador/IT/functions_IT_v1.ipynb"
   ]
  },
  {
   "cell_type": "markdown",
   "metadata": {},
   "source": [
    "# 1. Data Loading"
   ]
  },
  {
   "cell_type": "code",
   "execution_count": null,
   "metadata": {},
   "outputs": [],
   "source": [
    "ds = xr.open_mfdataset(\"/bettik/PROJECTS/pr-data-ocean/riverama/Datos/Filtrage/ssh_igw/ssh_igw_*.nc\",combine='nested',concat_dim='time_counter',parallel=True)"
   ]
  },
  {
   "cell_type": "code",
   "execution_count": null,
   "metadata": {},
   "outputs": [],
   "source": [
    "time_start = '2014-05-01 00:30'\n",
    "#time_end = '2014-05-30 23:30'\n",
    "time_end = '2014-07-31 23:30'\n",
    "ds = ds.sel(time_counter=slice(time_start, time_end)).load()"
   ]
  },
  {
   "cell_type": "markdown",
   "metadata": {},
   "source": [
    "# 2. Internal Tide Extraction"
   ]
  },
  {
   "cell_type": "code",
   "execution_count": null,
   "metadata": {},
   "outputs": [],
   "source": [
    "array_time = ds.ssh_igw.time_counter.values\n",
    "nt = array_time.size"
   ]
  },
  {
   "cell_type": "code",
   "execution_count": null,
   "metadata": {},
   "outputs": [],
   "source": [
    "# PARAMETERS # \n",
    "wint = np.ones(3*nt)\n",
    "gaspari = gaspari_cohn(np.arange(0,2*nt,1),nt,nt)\n",
    "wint[:nt]=gaspari[:nt]\n",
    "wint[2*nt:]=gaspari[nt:]\n",
    "\n",
    "dt = 3600 # seconds\n",
    "\n",
    "w = fp.fftfreq(3*nt,dt)# seconds^-1\n",
    "nw = w.size\n",
    "\n",
    "w1 = 1/15/3600\n",
    "w2 = 1/9/3600\n",
    "H = (np.abs(w)>w1) & (np.abs(w)<w2)\n",
    "w_filtered = H*w"
   ]
  },
  {
   "cell_type": "code",
   "execution_count": null,
   "metadata": {},
   "outputs": [],
   "source": [
    "idx_ocean = np.where(np.invert(np.isnan(ds.ssh_igw[0,:,:].values))) # indexes of ocean pixels "
   ]
  },
  {
   "cell_type": "code",
   "execution_count": null,
   "metadata": {},
   "outputs": [],
   "source": [
    "# PROCESSING # \n",
    "ssh_it_flat = np.array(Parallel(n_jobs=-1,backend='multiprocessing')(delayed(extract_it)(ds.ssh_igw[:,i,j],wint,H) for i,j in zip(idx_ocean[0],idx_ocean[1])))"
   ]
  },
  {
   "cell_type": "code",
   "execution_count": null,
   "metadata": {},
   "outputs": [],
   "source": [
    "ssh_it_flat"
   ]
  },
  {
   "cell_type": "code",
   "execution_count": null,
   "metadata": {},
   "outputs": [],
   "source": [
    "# ARRAY TO STORE THE RESULTS # \n",
    "array_ssh_it = np.nan*np.ones_like(ds.ssh_igw.values,dtype=\"float64\")\n",
    "array_ssh_it[:,idx_ocean[0],idx_ocean[1]]=ssh_it_flat.T\n",
    "\n",
    "#np.save(file=\"/bettik/bellemva/MITgcm/ssh_it.npy\",arr=array_ssh_it)"
   ]
  },
  {
   "cell_type": "code",
   "execution_count": null,
   "metadata": {},
   "outputs": [],
   "source": [
    "del ssh_it_flat"
   ]
  },
  {
   "cell_type": "code",
   "execution_count": null,
   "metadata": {},
   "outputs": [],
   "source": [
    "plt.figure()\n",
    "plt.pcolormesh(ds.ssh_igw[1000,:,:])\n",
    "plt.show()"
   ]
  },
  {
   "cell_type": "code",
   "execution_count": null,
   "metadata": {},
   "outputs": [],
   "source": [
    "plt.figure()\n",
    "plt.pcolormesh(array_ssh_it[1000,:,:])\n",
    "plt.show()"
   ]
  },
  {
   "cell_type": "code",
   "execution_count": null,
   "metadata": {},
   "outputs": [],
   "source": [
    "np.save(file=\"/bettik/PROJECTS/pr-data-ocean/riverama/Datos/Filtrage/ssh_it/ssh_it.npy\", arr=array_ssh_it)\n"
   ]
  },
  {
   "cell_type": "code",
   "execution_count": null,
   "metadata": {},
   "outputs": [],
   "source": [
    "array_ssh_it=np.load(\"/bettik/PROJECTS/pr-data-ocean/riverama/Datos/Filtrage/ssh_it/ssh_it.npy\")"
   ]
  },
  {
   "cell_type": "code",
   "execution_count": null,
   "metadata": {},
   "outputs": [],
   "source": [
    "array_ssh_it"
   ]
  },
  {
   "cell_type": "code",
   "execution_count": null,
   "metadata": {},
   "outputs": [],
   "source": [
    "# Create the date array\n",
    "start_date = np.datetime64(\"2014-05-01 00:30\")\n",
    "end_date = np.datetime64(\"2014-07-31 23:30\")\n",
    "date_array = np.arange(start_date, end_date + np.timedelta64(1, 'h'), np.timedelta64(1, 'h'))\n",
    "\n",
    "# Convert date array to pandas datetime index for easier monthly grouping\n",
    "date_index = pd.to_datetime(date_array)\n",
    "\n",
    "# Initialize variables for month tracking\n",
    "current_month = date_index[0].month\n",
    "month_start_idx = 0\n",
    "\n",
    "# Loop through the date array\n",
    "for i in range(1, len(date_index)):\n",
    "    if date_index[i].month != current_month or i == len(date_index) - 1:\n",
    "        # Define the end index of the current month\n",
    "        month_end_idx = i if i != len(date_index) - 1 else i + 1\n",
    "\n",
    "        # Create a dataset for the current month\n",
    "        ds_it = xr.Dataset(\n",
    "            data_vars={\"ssh_it_tot\": ([\"time_counter\", \"y\", \"x\"], array_ssh_it[month_start_idx*24:month_end_idx*24, :, :])},\n",
    "            coords={\n",
    "                \"nav_lat\": ([\"y\", \"x\"], ds.nav_lat.values),\n",
    "                \"nav_lon\": ([\"y\", \"x\"], ds.nav_lon.values),\n",
    "                \"time_counter\": ds.time_counter.isel(time_counter=slice(month_start_idx*24, month_end_idx*24))\n",
    "            }\n",
    "        )\n",
    "\n",
    "        # Save the dataset to a NetCDF file with month-based naming\n",
    "        month_str = f\"{current_month:02d}\"  # Format month as two digits\n",
    "        ds_it.to_netcdf(f\"/bettik/PROJECTS/pr-data-ocean/riverama/Datos/Filtrage/ssh_it_{month_str}.nc\")\n",
    "        print(f\"Saved month: {month_str}\")\n",
    "\n",
    "        # Update the current month and start index for the next iteration\n",
    "        current_month = date_index[i].month\n",
    "        month_start_idx = i\n"
   ]
  },
  {
   "cell_type": "code",
   "execution_count": null,
   "metadata": {},
   "outputs": [],
   "source": [
    "# Create the date array\n",
    "start_date = np.datetime64(\"2014-05-01 00:30\")\n",
    "end_date = np.datetime64(\"2014-07-31 23:30\")\n",
    "date_array = np.arange(start_date, end_date + np.timedelta64(1, 'h'), np.timedelta64(1, 'h'))\n",
    "\n",
    "# Convert date array to pandas datetime index for easier monthly grouping\n",
    "date_index = pd.to_datetime(date_array)\n",
    "\n",
    "# Initialize variables for month tracking\n",
    "current_month = date_index[0].month\n",
    "month_start_idx = 0\n",
    "\n",
    "# Get unique months to iterate through\n",
    "unique_months = pd.Series(date_index).dt.month.unique()\n",
    "\n",
    "for month in unique_months:\n",
    "    # Find the start and end indices for the current month\n",
    "    month_mask = (pd.Series(date_index).dt.month == month)\n",
    "    month_dates = date_index[month_mask]\n",
    "    month_start_idx = np.where(date_index == month_dates[0])[0][0]\n",
    "    month_end_idx = np.where(date_index == month_dates[-1])[0][0] + 1\n",
    "\n",
    "    # Create a dataset for the current month\n",
    "    ds_it = xr.Dataset(\n",
    "        data_vars={\"ssh_it\": ([\"time_counter\", \"y\", \"x\"], array_ssh_it[month_start_idx*24:month_end_idx*24, :, :])},\n",
    "        coords={\n",
    "            \"nav_lat\": ([\"y\", \"x\"], ds.nav_lat.values),\n",
    "            \"nav_lon\": ([\"y\", \"x\"], ds.nav_lon.values),\n",
    "            \"time_counter\": ds.time_counter.isel(time_counter=slice(month_start_idx*24, month_end_idx*24))\n",
    "        }\n",
    "    )\n",
    "\n",
    "    # Save the dataset to a NetCDF file with month-based naming\n",
    "    month_str = f\"{month:02d}\"  # Format month as two digits\n",
    "    ds_it.to_netcdf(f\"/bettik/PROJECTS/pr-data-ocean/riverama/Datos/Filtrage/ssh_it_{month_str}.nc\")\n",
    "    print(f\"Saved month: {month_str}\")\n"
   ]
  },
  {
   "cell_type": "code",
   "execution_count": null,
   "metadata": {},
   "outputs": [],
   "source": []
  }
 ],
 "metadata": {
  "kernelspec": {
   "display_name": "Python 3",
   "language": "python",
   "name": "python3"
  },
  "language_info": {
   "codemirror_mode": {
    "name": "ipython",
    "version": 3
   },
   "file_extension": ".py",
   "mimetype": "text/x-python",
   "name": "python",
   "nbconvert_exporter": "python",
   "pygments_lexer": "ipython3",
   "version": "3.11.8"
  }
 },
 "nbformat": 4,
 "nbformat_minor": 2
}
