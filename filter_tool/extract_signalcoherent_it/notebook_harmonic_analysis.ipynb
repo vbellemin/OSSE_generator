{
 "cells": [
  {
   "cell_type": "markdown",
   "metadata": {},
   "source": [
    "# Harmonic Analysis "
   ]
  },
  {
   "cell_type": "code",
   "execution_count": null,
   "metadata": {},
   "outputs": [],
   "source": [
    "import xarray as xr \n",
    "import numpy as np\n",
    "import matplotlib.pyplot as plt\n",
    "\n",
    "from joblib import Parallel\n",
    "from joblib import delayed as jb_delayed"
   ]
  },
  {
   "cell_type": "markdown",
   "metadata": {},
   "source": [
    "Number of parallel cpus : "
   ]
  },
  {
   "cell_type": "code",
   "execution_count": null,
   "metadata": {},
   "outputs": [],
   "source": [
    "n_workers = 6"
   ]
  },
  {
   "cell_type": "markdown",
   "metadata": {},
   "source": [
    "### Functions"
   ]
  },
  {
   "cell_type": "markdown",
   "metadata": {},
   "source": [
    "Creating the dictionary of tidal components frequencies : "
   ]
  },
  {
   "cell_type": "code",
   "execution_count": null,
   "metadata": {},
   "outputs": [],
   "source": [
    "freq_tide=dict()\n",
    "for name,period in zip(['M2','S2','N2','K1','O1','K2','P1','Q1','M4','MS4','nu2','mu2','sN2','lambda2'],\n",
    "                       [12.42060121,12.,12.65834824,23.93446959,25.81934171,11.96723606,24.06588766,26.868350,6.210300601,6.103339275,12.62600509,12.8717576,12.90537297,12.22177348]):\n",
    "    freq_tide[name] = 2*np.pi/(3600*period) "
   ]
  },
  {
   "cell_type": "code",
   "execution_count": null,
   "metadata": {},
   "outputs": [],
   "source": [
    "def compute_G(nt,dt,tcomp):\n",
    "    \n",
    "    gtime=np.arange(0,nt*dt,dt)\n",
    "    G = np.empty((nt,2*len(tcomp)))\n",
    "    #eta1=np.empty((2*len(tcomp), ny,nx))\n",
    "    for k in range(len(tcomp)):\n",
    "        w=freq_tide[tcomp[k]]\n",
    "        G[:,2*k]=np.cos(w*gtime*86400)\n",
    "        G[:,2*k+1]=np.sin(w*gtime*86400)\n",
    "    return G\n",
    "\n",
    "def analysis(array,G): # dt= 1./24 hours\n",
    "    \n",
    "    M = np.dot(np.linalg.inv(np.dot(G.T,G)) , G.T)\n",
    "\n",
    "    eta1 = np.dot(M, array)\n",
    "    sol = np.dot(G, eta1)\n",
    "    return eta1, sol\n",
    "\n",
    "def compute_harmonic_analysis(array_ssh,dt=1/24,tcomp=['M2']):\n",
    "    nt = len(array_ssh)\n",
    "    G = compute_G(nt,dt,tcomp)\n",
    "    ssh_analysis = np.zeros_like(array_ssh)\n",
    "    for i in range(array_ssh.shape[1]):\n",
    "        for j in range(array_ssh.shape[2]):\n",
    "            eta , ssh_analysis[:,i,j]=analysis(array_ssh[:,i,j],G)\n",
    "    return ssh_analysis\n"
   ]
  },
  {
   "cell_type": "markdown",
   "metadata": {},
   "source": [
    "### Loading SSH "
   ]
  },
  {
   "cell_type": "code",
   "execution_count": null,
   "metadata": {},
   "outputs": [],
   "source": [
    "import glob \n",
    "list_files = glob.glob(\"/bettik/bellemva/MITgcm/MITgcm_it/hawaii/MITgcm_it_2012*.nc\")\n",
    "list_files.sort()\n",
    "list_files.pop(0)"
   ]
  },
  {
   "cell_type": "code",
   "execution_count": null,
   "metadata": {},
   "outputs": [],
   "source": [
    "ds = xr.open_mfdataset(list_files,engine='netcdf4')"
   ]
  },
  {
   "cell_type": "code",
   "execution_count": null,
   "metadata": {},
   "outputs": [],
   "source": [
    "ssh = ds.ssh_it1"
   ]
  },
  {
   "cell_type": "code",
   "execution_count": null,
   "metadata": {},
   "outputs": [],
   "source": [
    "array_ssh = ssh.values"
   ]
  },
  {
   "cell_type": "markdown",
   "metadata": {},
   "source": [
    "### Processing"
   ]
  },
  {
   "cell_type": "code",
   "execution_count": null,
   "metadata": {},
   "outputs": [],
   "source": [
    "ssh_coherent = compute_harmonic_analysis(array_ssh)"
   ]
  },
  {
   "cell_type": "code",
   "execution_count": null,
   "metadata": {},
   "outputs": [],
   "source": [
    "ssh_coherent.shape"
   ]
  },
  {
   "cell_type": "code",
   "execution_count": null,
   "metadata": {},
   "outputs": [],
   "source": [
    "91*24"
   ]
  },
  {
   "cell_type": "code",
   "execution_count": null,
   "metadata": {},
   "outputs": [],
   "source": [
    "print(len(date_array))"
   ]
  },
  {
   "cell_type": "code",
   "execution_count": null,
   "metadata": {},
   "outputs": [],
   "source": [
    "date_array = np.arange(np.datetime64(\"2012-05-02\"),np.datetime64(\"2012-08-02\"))\n",
    "\n",
    "for i in range (len(date_array)-1) : \n",
    "    ds_it_coherent = ssh.sel(time=slice(date_array[i],date_array[i+1]-np.timedelta64(1,'h'))).copy(deep=True,data=ssh_coherent[i*24:(i+1)*24,:,:])\n",
    "    ds_it_coherent = ds_it_coherent.rename(\"ssh_it1_coherent_analysis\")\n",
    "    ds_it_coherent.to_netcdf(\"/bettik/bellemva/MITgcm/MITgcm_it/hawaii/coherent_part/MITgcm_it_\"+date_array[i].astype('str').replace('-','')+\".nc\")\n",
    "\n",
    "    print(date_array[i])\n"
   ]
  },
  {
   "cell_type": "code",
   "execution_count": null,
   "metadata": {},
   "outputs": [],
   "source": [
    "dates = np.arange(np.datetime64(\"2012-05-02\"),np.datetime64(\"2012-08-01\"))\n",
    "\n",
    "# deleting the content of file.sh \n",
    "file = open(\"./nco_bash.sh\",\"w\")\n",
    "file.close()\n",
    "\n",
    "for d in dates:\n",
    "\n",
    "    command = \"ncks -h -A \"\n",
    "\n",
    "    command += \"/bettik/bellemva/MITgcm/MITgcm_it/hawaii/coherent_part/MITgcm_it_\"+d.astype('str').replace(\"-\",\"\")+\".nc \"\n",
    "\n",
    "    command += \"/bettik/bellemva/MITgcm/MITgcm_it/hawaii/MITgcm_it_\"+d.astype('str').replace(\"-\",\"\")+\".nc \\n\"\n",
    "    \n",
    "    file = open(\"./nco_bash.sh\",\"a\")\n",
    "    \n",
    "    file.write(command)\n",
    "\n",
    "    file.close()"
   ]
  },
  {
   "cell_type": "code",
   "execution_count": null,
   "metadata": {},
   "outputs": [],
   "source": []
  },
  {
   "cell_type": "markdown",
   "metadata": {},
   "source": [
    "#### Plotting "
   ]
  },
  {
   "cell_type": "code",
   "execution_count": null,
   "metadata": {},
   "outputs": [],
   "source": [
    "import xarray as xr \n",
    "import matplotlib.pyplot as plt \n",
    "import numpy as np"
   ]
  },
  {
   "cell_type": "code",
   "execution_count": null,
   "metadata": {},
   "outputs": [],
   "source": [
    "ds = xr.open_mfdataset(\"/bettik/bellemva/MITgcm/MITgcm_it/hawaii/MITgcm_it_201206*.nc\",parallel=True,drop_variables=[\"ssh_it1\",\"ssh_it2\", \"ssh_it3\",\"ssh_it_tot\"])\n",
    "ds.sel(longitude = slice(190,200),latitude = slice(20,30))"
   ]
  },
  {
   "cell_type": "code",
   "execution_count": null,
   "metadata": {},
   "outputs": [],
   "source": [
    "ssh_it_coherent = ds.ssh_it1_coherent.values"
   ]
  },
  {
   "cell_type": "code",
   "execution_count": null,
   "metadata": {},
   "outputs": [],
   "source": [
    "ssh_it_coherent_analysis = ds.ssh_it1_coherent_analysis.values"
   ]
  },
  {
   "cell_type": "code",
   "execution_count": null,
   "metadata": {},
   "outputs": [],
   "source": [
    "def create_plot(i):\n",
    "    vmin=-0.1\n",
    "    vmax=0.1\n",
    "\n",
    "    fig,ax = plt.subplots(1,3,figsize=(16,4))\n",
    "\n",
    "    plot = ax[0].pcolormesh(ds.longitude,ds.latitude,ssh_it_coherent[i,:,:],vmin=vmin,vmax=vmax)\n",
    "    ax[0].set_aspect(\"equal\")\n",
    "    ax[0].set_title(\"SSH coherent wt. Fourrier\")\n",
    "    plt.colorbar(plot,ax=ax[0])\n",
    "\n",
    "    plot_analysis = ax[1].pcolormesh(ds.longitude,ds.latitude,\n",
    "                                    ssh_it_coherent_analysis[i,:,:],vmin=vmin,vmax=vmax)\n",
    "    ax[1].set_aspect(\"equal\")\n",
    "    ax[1].set_title(\"SSH coherent wt. Analysis\")\n",
    "    plt.colorbar(plot_analysis,ax=ax[1])\n",
    "\n",
    "    plot_diff = ax[2].pcolormesh(ds.longitude,ds.latitude,\n",
    "                                ssh_it_coherent_analysis[i,:,:]-ssh_it_coherent[i,:,:],cmap=\"RdBu\",vmin=-0.06,vmax=0.06)\n",
    "    ax[2].set_aspect(\"equal\")\n",
    "    ax[2].set_title(\"Difference\")\n",
    "    plt.colorbar(plot_diff,ax=ax[2])\n",
    "\n",
    "    str_date = ds.time[i].values.astype(\"datetime64[h]\").astype(\"str\")\n",
    "    plt.suptitle(str_date)\n",
    "    plt.savefig(f\"./frames/{str_date}.png\")\n",
    "\n",
    "    #ds.time[i].values.astype(\"datetime64[h]\").astype(\"str\")\n",
    "\n"
   ]
  },
  {
   "cell_type": "code",
   "execution_count": null,
   "metadata": {},
   "outputs": [],
   "source": [
    "import matplotlib\n",
    "matplotlib.use(\"Agg\")\n",
    "\n",
    "for i in range (ds.dims[\"time\"]):\n",
    "    create_plot(i)"
   ]
  },
  {
   "cell_type": "code",
   "execution_count": null,
   "metadata": {},
   "outputs": [],
   "source": []
  },
  {
   "cell_type": "code",
   "execution_count": null,
   "metadata": {},
   "outputs": [],
   "source": [
    "plt.plot(ssh_it_coherent[:,280,400])\n",
    "plt.plot(ssh_it_coherent_analysis[:,280,400])\n",
    "#plt.xlim(200,400)"
   ]
  },
  {
   "cell_type": "code",
   "execution_count": null,
   "metadata": {},
   "outputs": [],
   "source": []
  }
 ],
 "metadata": {
  "kernelspec": {
   "display_name": "pangeo-forge",
   "language": "python",
   "name": "python3"
  },
  "language_info": {
   "codemirror_mode": {
    "name": "ipython",
    "version": 3
   },
   "file_extension": ".py",
   "mimetype": "text/x-python",
   "name": "python",
   "nbconvert_exporter": "python",
   "pygments_lexer": "ipython3",
   "version": "3.10.8"
  }
 },
 "nbformat": 4,
 "nbformat_minor": 2
}
