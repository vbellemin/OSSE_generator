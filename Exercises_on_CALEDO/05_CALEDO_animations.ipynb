{
 "cells": [
  {
   "cell_type": "code",
   "execution_count": 3,
   "metadata": {},
   "outputs": [],
   "source": [
    "# Improve by ChatGPT & GitHub Copilot\n",
    "# Running the requierements.ipynb\n",
    "%run /bettik/PROJECTS/pr-data-ocean/riverama/Notebooks/OSSE_generator/requierements.ipynb"
   ]
  },
  {
   "cell_type": "code",
   "execution_count": 4,
   "metadata": {},
   "outputs": [],
   "source": [
    "SSH = xr.open_mfdataset(\"/bettik/PROJECTS/pr-data-ocean/riverama/Datos/CALEDO60/*_SSH.nc\", combine=\"nested\", concat_dim=\"time_counter\", parallel=True)"
   ]
  },
  {
   "cell_type": "markdown",
   "metadata": {},
   "source": [
    "# Exercises on CALEDO\n",
    "\n",
    "## Animations\n",
    "\n",
    "Create an animation of the SSH field (use climporn tool) over a month."
   ]
  },
  {
   "cell_type": "markdown",
   "metadata": {},
   "source": [
    "### SSH"
   ]
  },
  {
   "cell_type": "code",
   "execution_count": null,
   "metadata": {},
   "outputs": [],
   "source": [
    "# Assuming SSH is your dataset and it's already loaded\n",
    "# Define the geographic domain\n",
    "lon_min, lon_max = 159.23333740234375, 172.34999084472656\n",
    "lat_min, lat_max = -28.803945541381836, -15.699763298034668\n",
    "\n",
    "# Extract latitude and longitude coordinates\n",
    "lat = SSH['nav_lat']\n",
    "lon = SSH['nav_lon']\n",
    "\n",
    "# Define fixed colorbar values\n",
    "colorbar_min = 0  # Set your desired minimum value here\n",
    "colorbar_max = 1.4   # Set your desired maximum value here\n",
    "\n",
    "# Define beginning and end dates for the plots, including time REMEMBER: DATA EACH HOUR\n",
    "start_date_str = '2014-11-18 09:30'  # Adjust this to your start date and time\n",
    "end_date_str = '2014-12-31 23:30'    # Adjust this to your end date and time\n",
    "\n",
    "# Initial frame counter\n",
    "initial_frame_counter = 7713  # Set your desired starting frame counter here (e.g., 0000)\n",
    "\n",
    "# Convert string dates to datetime objects, accounting for time\n",
    "start_date = datetime.strptime(start_date_str, '%Y-%m-%d %H:%M')\n",
    "end_date = datetime.strptime(end_date_str, '%Y-%m-%d %H:%M')\n",
    "\n",
    "# Find indices for start and end dates\n",
    "# Convert your time_counter to a list of datetime objects for comparison\n",
    "time_counter_datetimes = [datetime.strptime(date, '%Y-%m-%d %H:%M') for date in SSH['time_counter'].dt.strftime('%Y-%m-%d %H:%M').values]\n",
    "start_index = next(i for i, date in enumerate(time_counter_datetimes) if date >= start_date)\n",
    "end_index = next(i for i, date in enumerate(time_counter_datetimes) if date >= end_date)\n",
    "\n",
    "\n",
    "for i in range(start_index, end_index + 1):\n",
    "    # Extract the sea surface height (SSH) for the specific date and time\n",
    "    specific_ssh = SSH['zos'].isel(time_counter=i)\n",
    "    # Format the title with the correct date and time\n",
    "    date_str = SSH['time_counter'][i].dt.strftime('%Y-%m-%d %H:%M').values.astype(str)\n",
    "    \n",
    "    # Create a plot with the specified projection\n",
    "    fig, ax = plt.subplots(figsize=(12, 12), subplot_kw={'projection': ccrs.PlateCarree()})\n",
    "    ax.set_extent([lon_min, lon_max, lat_min, lat_max], crs=ccrs.PlateCarree())\n",
    "    ax.add_feature(cfeature.LAND.with_scale('10m'), edgecolor='black', facecolor='black', zorder=1)\n",
    "    ssh_pcolormesh = ax.pcolormesh(lon, lat, specific_ssh, cmap=cmocean.cm.deep, vmin=colorbar_min, vmax=colorbar_max, zorder=0, transform=ccrs.PlateCarree())\n",
    "    \n",
    "    # Create a colorbar with the fixed range\n",
    "    cbar = fig.colorbar(ssh_pcolormesh, ax=ax, label='Sea Surface Height (m)', shrink=0.765)\n",
    "    cbar.set_label('Sea Surface Height (m)', rotation=270, labelpad=15)\n",
    "    \n",
    "    # Set title with the formatted date and time\n",
    "    ax.set_title(f'Sea Surface Height on {date_str}')\n",
    "    \n",
    "    # Add gridlines with labels\n",
    "    gl = ax.gridlines(crs=ccrs.PlateCarree(), draw_labels=True, linewidth=1, color='gray', alpha=0.5, linestyle='--')\n",
    "    gl.top_labels = False\n",
    "    gl.right_labels = False\n",
    "    gl.xlabel_style = {'size': 10, 'color': 'gray'}\n",
    "    gl.ylabel_style = {'size': 10, 'color': 'gray'}\n",
    "    \n",
    "    plt.tight_layout()\n",
    "    \n",
    "    # Adjust the save path to incorporate the initial frame counter\n",
    "    plt.savefig(f'/bettik/PROJECTS/pr-data-ocean/riverama/frames/SSH/frame_{initial_frame_counter + i - start_index:04d}.png')\n",
    "    plt.close(fig)  # Close the figure to free memory\n"
   ]
  },
  {
   "cell_type": "markdown",
   "metadata": {},
   "source": [
    "For downlading files locally from dahu:\n",
    "\n",
    "- select the download directory where you want the files locally ###\n",
    "\n",
    "``\n",
    "cd Downloads\n",
    "``\n",
    "\n",
    "- Connect to the Remote Server via SFTP ###\n",
    "  \n",
    "``\n",
    "sftp riverama@dahu\n",
    "``\n",
    "\n",
    "- Navigate to the File's Directory (if necessary)\n",
    "\n",
    "``\n",
    "cd /bettik/PROJECTS/pr-data-ocean/riverama/CALEDO60/\n",
    "``\n",
    "\n",
    "- Download the File\n",
    "\n",
    "\n",
    "``\n",
    "mget *.png\n",
    "``\n",
    "\n",
    "- Exit SFTP\n",
    "\n",
    "``\n",
    "exit\n",
    "``\n",
    "\n",
    "After all png are created, on the climporn/ffmpeg folder on the workstation execute:\n",
    "\n",
    "``\n",
    "./images2mp4.sh -i /Users/marraqueta/Documents/climporn-master/Frames/IT_Modes/frame_ -t png -f 4 -h 1200 -D /Users/marraqueta/Documents/climporn-master/ffmpeg\n",
    "\n",
    "``"
   ]
  }
 ],
 "metadata": {
  "kernelspec": {
   "display_name": "Python 3",
   "language": "python",
   "name": "python3"
  },
  "language_info": {
   "codemirror_mode": {
    "name": "ipython",
    "version": 3
   },
   "file_extension": ".py",
   "mimetype": "text/x-python",
   "name": "python",
   "nbconvert_exporter": "python",
   "pygments_lexer": "ipython3",
   "version": "3.11.8"
  }
 },
 "nbformat": 4,
 "nbformat_minor": 2
}
