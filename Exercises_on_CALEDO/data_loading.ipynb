{
 "cells": [
  {
   "cell_type": "code",
   "execution_count": null,
   "metadata": {},
   "outputs": [],
   "source": [
    "# Improve by ChatGPT & GitHub Copilot\n",
    "# Running the requierements.ipynb\n",
    "%run /bettik/PROJECTS/pr-data-ocean/riverama/Notebooks/requierements.ipynb"
   ]
  },
  {
   "cell_type": "markdown",
   "metadata": {},
   "source": [
    "**About this notebook**\n",
    "\n",
    "This Jupyter Notebook serves as a comprehensive tool for loading CALEDO data for the month of January, Sea Surface Height (SSH) and Sea Surface Velocity components (SSU) and (SSV).\n",
    "\n",
    "**Key Features**\n",
    "\n",
    "- Data Loading\n",
    "- Metadata Information\n",
    "- Coordinate Domain\n",
    "- Study Area"
   ]
  },
  {
   "cell_type": "markdown",
   "metadata": {},
   "source": [
    "## Data Loading"
   ]
  },
  {
   "cell_type": "markdown",
   "metadata": {},
   "source": [
    "For January"
   ]
  },
  {
   "cell_type": "code",
   "execution_count": null,
   "metadata": {},
   "outputs": [],
   "source": [
    "# This notebook loads the data from the CALEDO60-TRPC12NT0 simulation for the month of January 2014\n",
    "# It also contains some basic analysis of the data and some visualizations, as well as metadata about the simulation.\n",
    "# It loads the following variables:\n",
    "#SSH\n",
    "SSH_01 = xr.open_dataset('/bettik/PROJECTS/pr-data-ocean/riverama/Datos/CALEDO60/CALEDO60-TRPC12NT0_y2014m01d01-d31.1h_SSH.nc')\n",
    "#SSU\n",
    "SSU_01 = xr.open_dataset('/bettik/PROJECTS/pr-data-ocean/riverama/Datos/CALEDO60/CALEDO60-TRPC12NT0_y2014m01d01-d31.1h_SSU.nc')\n",
    "#SSV\n",
    "SSV_01 = xr.open_dataset('/bettik/PROJECTS/pr-data-ocean/riverama/Datos/CALEDO60/CALEDO60-TRPC12NT0_y2014m01d01-d31.1h_SSV.nc')"
   ]
  },
  {
   "cell_type": "code",
   "execution_count": null,
   "metadata": {},
   "outputs": [],
   "source": [
    "# SSH_01\n",
    "SSU_01\n",
    "# SSV_01"
   ]
  },
  {
   "cell_type": "markdown",
   "metadata": {},
   "source": [
    "For the whole year"
   ]
  },
  {
   "cell_type": "code",
   "execution_count": null,
   "metadata": {},
   "outputs": [],
   "source": [
    "# SSH = xr.open_mfdataset(\"/bettik/PROJECTS/pr-data-ocean/riverama/Datos/CALEDO60/*_SSH.nc\", combine=\"nested\", concat_dim=\"time_counter\", parallel=True)\n",
    "# SSU = xr.open_mfdataset(\"/bettik/PROJECTS/pr-data-ocean/riverama/Datos/CALEDO60/*_SSU.nc\", combine=\"nested\", concat_dim=\"time_counter\", parallel=True)\n",
    "# SSV = xr.open_mfdataset(\"/bettik/PROJECTS/pr-data-ocean/riverama/Datos/CALEDO60/*_SSV.nc\", combine=\"nested\", concat_dim=\"time_counter\", parallel=True)\n"
   ]
  },
  {
   "cell_type": "code",
   "execution_count": null,
   "metadata": {},
   "outputs": [],
   "source": [
    "SSH"
   ]
  },
  {
   "cell_type": "code",
   "execution_count": null,
   "metadata": {},
   "outputs": [],
   "source": [
    "# To print the first 20 values of nav_lat\n",
    "print(SSH.nav_lat.isel(y=slice(0, 20)))\n",
    "\n",
    "# To print the first 20 values of nav_lon\n",
    "print(SSH.nav_lon.isel(x=slice(0, 20)))"
   ]
  },
  {
   "cell_type": "code",
   "execution_count": null,
   "metadata": {},
   "outputs": [],
   "source": [
    "# import xarray as xr\n",
    "\n",
    "# # Assuming `SSH` is your xarray.Dataset loaded with sea surface height data\n",
    "\n",
    "# # Compute global minimum and maximum SSH values\n",
    "# min_ssh_value = SSH['zos'].min().values\n",
    "# max_ssh_value = SSH['zos'].max().values\n",
    "\n",
    "# # Identify the locations of the minimum and maximum values\n",
    "# min_location = SSH['zos'].argmin(dim=['time_counter', 'y', 'x'])\n",
    "# max_location = SSH['zos'].argmax(dim=['time_counter', 'y', 'x'])\n",
    "\n",
    "# # Extract the time, latitude, and longitude for minimum and maximum SSH values\n",
    "# # Note: The following extraction assumes direct access to coordinate values.\n",
    "# # Adjustments may be needed based on the exact structure and indexing of your dataset.\n",
    "\n",
    "# min_time = SSH.time_counter.isel(time_counter=min_location.item()).values\n",
    "# min_lat = SSH.nav_lat.isel(y=min_location.item()).values\n",
    "# min_lon = SSH.nav_lon.isel(x=min_location.item()).values\n",
    "\n",
    "# max_time = SSH.time_counter.isel(time_counter=max_location.item()).values\n",
    "# max_lat = SSH.nav_lat.isel(y=max_location.item()).values\n",
    "# max_lon = SSH.nav_lon.isel(x=max_location.item()).values\n",
    "\n",
    "# print(f\"Minimum SSH Value: {min_ssh_value}, Location: Time={min_time}, Lat={min_lat}, Lon={min_lon}\")\n",
    "# print(f\"Maximum SSH Value: {max_ssh_value}, Location: Time={max_time}, Lat={max_lat}, Lon={max_lon}\")\n",
    "\n"
   ]
  },
  {
   "cell_type": "code",
   "execution_count": null,
   "metadata": {},
   "outputs": [],
   "source": [
    "# # Flatten the SSH data to a 1D array\n",
    "# ssh_flat = SSH['zos'].values.flatten()\n",
    "\n",
    "# # Create the histogram\n",
    "# plt.figure(figsize=(10, 6))\n",
    "# plt.hist(ssh_flat, bins=100, density=True, alpha=0.6, color='b')\n",
    "\n",
    "# # Optionally, you can add a line for the mean or median\n",
    "# mean_ssh = np.mean(ssh_flat)\n",
    "# median_ssh = np.median(ssh_flat)\n",
    "# plt.axvline(mean_ssh, color='r', linestyle='dashed', linewidth=1, label='Mean')\n",
    "# plt.axvline(median_ssh, color='g', linestyle='dashed', linewidth=1, label='Median')\n",
    "\n",
    "# plt.title('Distribution of Sea Surface Height (SSH)')\n",
    "# plt.xlabel('SSH (m)')\n",
    "# plt.ylabel('Density')\n",
    "# plt.legend()\n",
    "# plt.show()\n"
   ]
  },
  {
   "cell_type": "markdown",
   "metadata": {},
   "source": [
    "For the mask"
   ]
  },
  {
   "cell_type": "code",
   "execution_count": null,
   "metadata": {},
   "outputs": [],
   "source": [
    "#Mask\n",
    "\n",
    "#mask = xr.open_dataset('/bettik/PROJECTS/pr-data-ocean/riverama/CALEDO60/1_mesh_mask_TROPICO12_L125_tr21.nc',drop_variables={\"x\",\"y\"}) "
   ]
  },
  {
   "cell_type": "code",
   "execution_count": null,
   "metadata": {},
   "outputs": [],
   "source": [
    "#mask"
   ]
  },
  {
   "cell_type": "code",
   "execution_count": null,
   "metadata": {},
   "outputs": [],
   "source": [
    "#masked_SSH = SSH['zos'].where(mask.tmaskutil[0,:,:] == 1).load()"
   ]
  },
  {
   "cell_type": "code",
   "execution_count": null,
   "metadata": {},
   "outputs": [],
   "source": [
    "#masked_SSH[0,353,508].values"
   ]
  },
  {
   "cell_type": "code",
   "execution_count": null,
   "metadata": {},
   "outputs": [],
   "source": [
    "#plt.pcolormesh(masked_SSH[0,:,:])\n",
    "#plt.show()"
   ]
  },
  {
   "cell_type": "markdown",
   "metadata": {
    "notebookRunGroups": {
     "groupValue": ""
    }
   },
   "source": [
    "## Metadata"
   ]
  },
  {
   "cell_type": "markdown",
   "metadata": {},
   "source": [
    "**About the metadata**\n",
    "\n",
    "The output does not explicitly mention the coordinate reference system (CRS) or projection information directly within the attributes, but we can infer that:\n",
    "\n",
    "The datasets outputs do not explicitly mention the coordinate reference system (CRS) or projection information directly within the attributes you've listed. However, it gives us several clues and information about how the data is structured:\n",
    "\n",
    "- **Dimensions and Coordinates**: The dataset has dimensions y and x, with corresponding coordinates nav_lat and nav_lon, suggesting that the data is geographically referenced using latitude and longitude. This is a common setup for data that is mapped onto the Earth's surface but doesn't specify the projection directly.\n",
    "\n",
    "- **Conventions**: The dataset attributes mention **CF-1.6 under Conventions**, indicating that it follows the **Climate and Forecast (CF) Metadata Conventions version 1.6**. CF conventions provide a standard way of describing the spatial and temporal properties of Earth science data, but the projection details would typically be found under a grid_mapping attribute linked to specific data variables, which isn't explicitly mentioned here.\n",
    "\n",
    "- **Data Variables**: The specific variables like zos (which I assume stands for Sea Surface Height) are provided without direct reference to a projection or grid mapping attribute.\n",
    "- \n",
    "Given the outputs, the dataset appears to use latitude and longitude directly, which is often indicative of geographic coordinate systems like **WGS 84**, but without explicit CRS projection information provided. This means the **data might be assumed to be in a simple Plate Carrée** (Equirectangular) projection or not projected at all (using geographic coordinates directly)."
   ]
  },
  {
   "cell_type": "code",
   "execution_count": null,
   "metadata": {},
   "outputs": [],
   "source": [
    "#SSH_01 # to show the metadata of netcdf file"
   ]
  },
  {
   "cell_type": "code",
   "execution_count": null,
   "metadata": {},
   "outputs": [],
   "source": [
    "#SSU_01 # to show the metadata of netcdf file"
   ]
  },
  {
   "cell_type": "code",
   "execution_count": null,
   "metadata": {},
   "outputs": [],
   "source": [
    "#SSV_01 # to show the metadata of netcdf file"
   ]
  },
  {
   "cell_type": "code",
   "execution_count": null,
   "metadata": {},
   "outputs": [],
   "source": [
    "######################################## SSH ########################################\n",
    "\n",
    "# Print the dataset's info, including global attributes and variables' metadata\n",
    "#print(SSH_01)\n",
    "\n",
    "# If you need to print out more detailed information for each variable, you can do so like this:\n",
    "#for var in SSH_01.data_vars:\n",
    "#    print(f\"\\nVariable: {var}\")\n",
    "#    print(SSH_01[var].attrs)\n",
    "\n",
    "# Print global attributes\n",
    "#print(\"\\nGlobal Attributes:\")\n",
    "#for attr in SSH_01.attrs:\n",
    "#    print(f\"{attr}: {SSH_01.attrs[attr]}\")"
   ]
  },
  {
   "cell_type": "code",
   "execution_count": null,
   "metadata": {},
   "outputs": [],
   "source": [
    "#mask"
   ]
  },
  {
   "cell_type": "markdown",
   "metadata": {},
   "source": [
    "## Coordinate domain"
   ]
  },
  {
   "cell_type": "code",
   "execution_count": null,
   "metadata": {},
   "outputs": [],
   "source": [
    "# To turn on or off comment mode press Cmnd + shift + / (higlighting the lines you want to comment or not)\n",
    "# Get coordinate boundaries\n",
    "# lon_min, lon_max = SSH_01['nav_lon'].min().values, SSH_01['nav_lon'].max().values # min and max longitude\n",
    "# lat_min, lat_max = SSH_01['nav_lat'].min().values, SSH_01['nav_lat'].max().values \n",
    "# print('###################### Coordinates Domain ######################')\n",
    "# print(f\"Longitude boundaries: {lon_min} to {lon_max}\")\n",
    "# print(f\"Latitude boundaries: {lat_min} to {lat_max}\")"
   ]
  },
  {
   "cell_type": "markdown",
   "metadata": {},
   "source": [
    "## Study Area"
   ]
  },
  {
   "cell_type": "code",
   "execution_count": null,
   "metadata": {},
   "outputs": [],
   "source": [
    "# To turn on or off comment mode press Cmnd + shift + / (higlighting the lines you want to comment or not)\n",
    "\n",
    "# # Define the geographic domain\n",
    "# lon_min, lon_max = 159.23333740234375, 172.34999084472656\n",
    "# lat_min, lat_max = -28.803945541381836, -15.699763298034668\n",
    "\n",
    "# # Define the projection\n",
    "# projection = ccrs.PlateCarree()\n",
    "\n",
    "# # Create a plot with the specified projection\n",
    "# fig, ax = plt.subplots(#figsize=(10, 6), \n",
    "#                        subplot_kw={'projection': projection})\n",
    "\n",
    "# # Set the extent of the plot to match the specified domain\n",
    "# ax.set_extent([lon_min, lon_max, lat_min, lat_max], crs=ccrs.PlateCarree())\n",
    "\n",
    "# # Add geographical features\n",
    "# ax.add_feature(cfeature.LAND.with_scale('10m'), edgecolor='black')  # Add land with higher resolution\n",
    "# ax.add_feature(cfeature.COASTLINE.with_scale('10m'))  # Add coastline with higher resolution\n",
    "# ax.add_feature(cfeature.OCEAN.with_scale('10m'))  # Add ocean with higher resolution\n",
    "# ax.add_feature(cfeature.BORDERS.with_scale('10m'), linestyle=':')  # Add borders with higher resolution\n",
    "\n",
    "# # Optional: Add gridlines and labels for clarity\n",
    "# gl = ax.gridlines(draw_labels=True, linewidth=0.5, color='gray', alpha=0.5, linestyle='--')\n",
    "# gl.top_labels = False  # Disable labels at the top\n",
    "# gl.right_labels = False  # Disable labels on the right\n",
    "\n",
    "# ax.set_title('Study Area')\n",
    "# ax.set_xlabel('Longitude')\n",
    "# ax.set_ylabel('Latitude')\n",
    "# ax.set_aspect('equal')\n",
    "\n",
    "# plt.show()"
   ]
  }
 ],
 "metadata": {
  "kernelspec": {
   "display_name": "Python 3 (ipykernel)",
   "language": "python",
   "name": "python3"
  },
  "language_info": {
   "codemirror_mode": {
    "name": "ipython",
    "version": 3
   },
   "file_extension": ".py",
   "mimetype": "text/x-python",
   "name": "python",
   "nbconvert_exporter": "python",
   "pygments_lexer": "ipython3",
   "version": "3.11.8"
  }
 },
 "nbformat": 4,
 "nbformat_minor": 2
}
