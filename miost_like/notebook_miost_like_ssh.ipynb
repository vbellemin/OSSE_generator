{
 "cells": [
  {
   "cell_type": "markdown",
   "metadata": {},
   "source": [
    "# MIOST like SSH field \n",
    "Creating the boundary condition field for 4Dvar QG over Hawai'i"
   ]
  },
  {
   "cell_type": "code",
   "execution_count": null,
   "metadata": {},
   "outputs": [],
   "source": [
    "import xarray as xr \n",
    "import matplotlib.pyplot as plt \n",
    "import numpy as np \n",
    "import pandas as pd\n",
    "import scipy.fftpack as fp\n",
    "from scipy.interpolate import RegularGridInterpolator, griddata\n",
    "\n",
    "import sys\n",
    "sys.path.append(\"/bettik/bellemva/src/\")\n",
    "from functions import open_mfdataset_w\n",
    "\n",
    "from datetime import datetime\n",
    "\n",
    "import glob\n",
    "\n",
    "from joblib import Parallel\n",
    "from joblib import delayed as jb_delayed\n",
    "\n",
    "from pyinterp import fill, Axis, TemporalAxis, Grid3D, Grid2D\n",
    "\n",
    "from math import *"
   ]
  },
  {
   "cell_type": "code",
   "execution_count": null,
   "metadata": {},
   "outputs": [],
   "source": [
    "n_workers = 12"
   ]
  },
  {
   "cell_type": "markdown",
   "metadata": {},
   "source": [
    "#### Parameters "
   ]
  },
  {
   "cell_type": "code",
   "execution_count": null,
   "metadata": {},
   "outputs": [],
   "source": [
    "lambda_cut = 300\n",
    "time_cut = 20"
   ]
  },
  {
   "cell_type": "markdown",
   "metadata": {},
   "source": [
    "## 1) Loading datasets  "
   ]
  },
  {
   "cell_type": "code",
   "execution_count": null,
   "metadata": {},
   "outputs": [],
   "source": [
    "lon_min = 185; lon_max = 205\n",
    "lat_min=15; lat_max = 35"
   ]
  },
  {
   "cell_type": "code",
   "execution_count": null,
   "metadata": {},
   "outputs": [],
   "source": [
    "# ### LIST OF FILES TO OPEN ###\n",
    "# list_files = glob.glob(\"/bettik/bellemva/MITgcm/MITgcm_filtered_final/MITgcm_filt_201205*\") + \\\n",
    "# glob.glob(\"/bettik/bellemva/MITgcm/MITgcm_filtered_final/MITgcm_filt_201206*\") + \\\n",
    "# glob.glob(\"/bettik/bellemva/MITgcm/MITgcm_filtered_final/MITgcm_filt_201207*\") + \\\n",
    "# glob.glob(\"/bettik/bellemva/MITgcm/MITgcm_filtered_final/MITgcm_filt_201208*\") + \\\n",
    "# glob.glob(\"/bettik/bellemva/MITgcm/MITgcm_filtered_final/MITgcm_filt_201209*\") + \\\n",
    "# glob.glob(\"/bettik/bellemva/MITgcm/MITgcm_filtered_final/MITgcm_filt_201210*\") \n",
    "# list_files.sort()\n",
    "\n",
    "# ### OPENING FILES ###\n",
    "# ds = open_mfdataset_w(list_files,drop_variables=[\"mask\",\"ssh_cor\",\"ssh_dedac\",\"ssh_hf\",\"ssh_bar\",\"ssh_igw\"])#,chunks={'time': 24,'longitude':6,'latitude':6})\n",
    "\n",
    "# ds = ds.sel(longitude = slice(lon_min,lon_max),latitude = slice(lat_min,lat_max),drop=True)\n",
    "\n",
    "# # time_window = 24\n",
    "# lat_lon_window = 6\n",
    "\n",
    "# # Apply rolling mean to reduce high-frequency variations\n",
    "# ds_filtered = (\n",
    "#     ds.rolling(longitude=lat_lon_window, center=True).mean()\n",
    "#     .rolling(latitude=lat_lon_window, center=True).mean()\n",
    "# )\n",
    "\n",
    "# ds_subsampled = ds_filtered.isel(time=slice(None, None, 24),\n",
    "#                                  longitude=slice(None, None, 6),\n",
    "#                                  latitude=slice(None, None, 6))\n",
    "\n",
    "# ssh_bm = ds_subsampled.ssh_bm.load()"
   ]
  },
  {
   "cell_type": "code",
   "execution_count": null,
   "metadata": {},
   "outputs": [],
   "source": [
    "### LIST OF FILES TO OPEN ###\n",
    "list_files = glob.glob(\"/bettik/bellemva/MITgcm/MITgcm_filtered_final/MITgcm_filt_201205*\") + \\\n",
    "glob.glob(\"/bettik/bellemva/MITgcm/MITgcm_filtered_final/MITgcm_filt_201206*\") + \\\n",
    "glob.glob(\"/bettik/bellemva/MITgcm/MITgcm_filtered_final/MITgcm_filt_201207*\") + \\\n",
    "glob.glob(\"/bettik/bellemva/MITgcm/MITgcm_filtered_final/MITgcm_filt_201208*\") + \\\n",
    "glob.glob(\"/bettik/bellemva/MITgcm/MITgcm_filtered_final/MITgcm_filt_201209*\") + \\\n",
    "glob.glob(\"/bettik/bellemva/MITgcm/MITgcm_filtered_final/MITgcm_filt_201210*\") \n",
    "list_files.sort()\n",
    "\n",
    "### OPENING FILES ###\n",
    "ds = open_mfdataset_w(list_files,drop_variables=[\"mask\",\"ssh_cor\",\"ssh_dedac\",\"ssh_hf\",\"ssh_bar\",\"ssh_igw\"])#,chunks={'time': 24,'longitude':6,'latitude':6})\n",
    "\n",
    "### SELECTING REGION ### \n",
    "ds = ds.sel(longitude = slice(lon_min,lon_max),latitude = slice(lat_min,lat_max))\n",
    "\n",
    "### SUBSAMPLING THE SSH ###\n",
    "ds = ds.isel(time=slice(None, None, 24))\n",
    "# ds = ds.rolling(time=24, center=True).mean()\n",
    "# ds = ds.chunk({'longitude':6,'latitude':6})\n",
    "\n",
    "# ssh_cor = ds.ssh_cor[::24,:,:].load()\n",
    "ds = ds.coarsen(longitude=6,latitude=6,boundary=\"trim\").mean()\n",
    "ssh_bm = ds.ssh_bm.load()\n",
    "# ssh_cor = ds.ssh_cor[::24,::6,::6].load()"
   ]
  },
  {
   "cell_type": "markdown",
   "metadata": {},
   "source": [
    "## 2) Call to functions "
   ]
  },
  {
   "cell_type": "code",
   "execution_count": null,
   "metadata": {},
   "outputs": [],
   "source": [
    "%run ./functions.ipynb"
   ]
  },
  {
   "cell_type": "markdown",
   "metadata": {},
   "source": [
    "## 3) Filtering in time"
   ]
  },
  {
   "cell_type": "code",
   "execution_count": null,
   "metadata": {},
   "outputs": [],
   "source": [
    "array_time = ssh_bm.time.values\n",
    "nt = array_time.size"
   ]
  },
  {
   "cell_type": "code",
   "execution_count": null,
   "metadata": {},
   "outputs": [],
   "source": [
    "# PARAMETERS # \n",
    "wint = np.ones(3*nt)\n",
    "gaspari = gaspari_cohn(np.arange(0,2*nt,1),nt,nt)\n",
    "wint[:nt]=gaspari[:nt]\n",
    "wint[2*nt:]=gaspari[nt:]\n",
    "\n",
    "dt = 24*3600 # a day in seconds\n",
    "\n",
    "w = fp.fftfreq(3*nt,dt)# seconds^-1\n",
    "nw = w.size\n",
    "\n",
    "w_cut = 1/(20*time_cut*3600)\n",
    "H = (np.abs(w)<w_cut)\n",
    "w_filtered = H*w"
   ]
  },
  {
   "cell_type": "code",
   "execution_count": null,
   "metadata": {},
   "outputs": [],
   "source": [
    "idx_ocean = np.where(np.invert(np.isnan(ssh_bm[0,:,:].values))) # indexes of ocean pixels "
   ]
  },
  {
   "cell_type": "code",
   "execution_count": null,
   "metadata": {},
   "outputs": [],
   "source": [
    "# PROCESSING # \n",
    "ssh_filtered_time = np.array(Parallel(n_jobs=n_workers,backend='multiprocessing')(jb_delayed(apply_low_pass_time)(ssh_bm[:,i,j],wint,H) for i,j in zip(idx_ocean[0],idx_ocean[1])))"
   ]
  },
  {
   "cell_type": "code",
   "execution_count": null,
   "metadata": {},
   "outputs": [],
   "source": [
    "# ARRAY TO STORE THE RESULTS # \n",
    "n_time = ssh_bm.shape[0]\n",
    "n_latitude = ssh_bm.shape[1]\n",
    "n_longitude = ssh_bm.shape[2]\n",
    "\n",
    "array_ssh_filtered_time = np.nan*np.ones((n_time,n_latitude,n_longitude),dtype=\"float64\")\n",
    "array_ssh_filtered_time[:,idx_ocean[0],idx_ocean[1]]=ssh_filtered_time.T"
   ]
  },
  {
   "cell_type": "code",
   "execution_count": null,
   "metadata": {},
   "outputs": [],
   "source": [
    "ds_ssh_filtered_time = ssh_bm.copy(deep=True,data=array_ssh_filtered_time)"
   ]
  },
  {
   "cell_type": "markdown",
   "metadata": {},
   "source": [
    "## 3) Filtering in space"
   ]
  },
  {
   "cell_type": "code",
   "execution_count": null,
   "metadata": {},
   "outputs": [],
   "source": [
    "res = apply_low_pass_space(ds_ssh_filtered_time)"
   ]
  },
  {
   "cell_type": "code",
   "execution_count": null,
   "metadata": {},
   "outputs": [],
   "source": [
    "ds_ssh_filtered_time_space = ssh_bm.copy(deep=True,data=res)"
   ]
  },
  {
   "cell_type": "code",
   "execution_count": null,
   "metadata": {},
   "outputs": [],
   "source": [
    "ds_ssh_filtered_time_space = ds_ssh_filtered_time_space.rename(\"ssh\")"
   ]
  },
  {
   "cell_type": "code",
   "execution_count": null,
   "metadata": {},
   "outputs": [],
   "source": [
    "for (i,date) in enumerate(ds_ssh_filtered_time_space.time.values):\n",
    "    _ds_filtered = ds_ssh_filtered_time_space.isel(time=i)\n",
    "    _ds_filtered = _ds_filtered.expand_dims('time')\n",
    "    _date_str = date.astype(\"datetime64[h]\").astype(\"str\")\n",
    "    # _ds_filtered.to_netcdf(f\"/bettik/bellemva/miost_hawaii/miost_like_ssh/miost_like_{_date_str}.nc\")\n",
    "    _ds_filtered.to_netcdf(f\"/bettik/bellemva/miost_hawaii/miost_like_ssh_coarse/miost_like_{_date_str}.nc\")\n",
    "    print(_date_str)\n"
   ]
  },
  {
   "cell_type": "markdown",
   "metadata": {},
   "source": [
    "## 3) Comparison with MIOST real field "
   ]
  },
  {
   "cell_type": "code",
   "execution_count": null,
   "metadata": {},
   "outputs": [],
   "source": [
    "ds_miost = xr.open_mfdataset(\"/bettik/bellemva/miost_hawaii/miost_run/*.nc\").load()"
   ]
  },
  {
   "cell_type": "code",
   "execution_count": null,
   "metadata": {},
   "outputs": [],
   "source": [
    "ds_miost_like = xr.open_mfdataset(\"/bettik/bellemva/miost_hawaii/miost_like_ssh/*.nc\").load()"
   ]
  },
  {
   "cell_type": "code",
   "execution_count": null,
   "metadata": {},
   "outputs": [],
   "source": [
    "plt.hist(ds_miost.adt.values.flatten(),alpha=0.6,label=\"miost_run\",bins=100)\n",
    "plt.hist(ds_miost_like.ssh.values.flatten(),alpha=0.6,label=\"miost_like\",bins=100)\n",
    "plt.legend()"
   ]
  },
  {
   "cell_type": "code",
   "execution_count": null,
   "metadata": {},
   "outputs": [],
   "source": [
    "import matplotlib\n",
    "matplotlib.use(\"Agg\")\n",
    "\n",
    "\n",
    "for i in range (180):\n",
    "    fig, ax = plt.subplots(1, 2, figsize=(16, 6))\n",
    "\n",
    "    # Use the pcolormesh method on ax[0] and ax[1]\n",
    "    p0 = ax[0].pcolormesh(ds_miost.longitude, ds_miost.latitude, ds_miost.adt[i, :, :],vmin=0.9,vmax=1.4)\n",
    "    p1 = ax[1].pcolormesh(ds_miost_like.longitude, ds_miost_like.latitude, ds_miost_like.ssh[i, :, :],vmin=0.6,vmax=1.1)\n",
    "\n",
    "    #set aspect equal \n",
    "    ax[0].set_aspect(\"equal\")\n",
    "    ax[1].set_aspect(\"equal\")\n",
    "\n",
    "    #set title \n",
    "    date_miost_str = ds_miost.time[i].values.astype(\"datetime64[D]\").astype(\"str\")\n",
    "    date_miost_like_str = ds_miost_like.time[i].values.astype(\"datetime64[D]\").astype(\"str\")\n",
    "\n",
    "    ax[0].set_title(f\"MIOST run : {date_miost_str}\")\n",
    "    ax[1].set_title(f\"MIOST like run : {date_miost_like_str}\")\n",
    "\n",
    "    # Optionally add colorbars to each plot\n",
    "    fig.colorbar(p0, ax=ax[0], orientation='vertical')\n",
    "    fig.colorbar(p1, ax=ax[1], orientation='vertical')\n",
    "\n",
    "    plt.savefig(f\"./frames/{date_miost_like_str}.png\")\n",
    "    # plt.show()\n",
    "    \n"
   ]
  },
  {
   "cell_type": "code",
   "execution_count": null,
   "metadata": {},
   "outputs": [],
   "source": []
  }
 ],
 "metadata": {
  "kernelspec": {
   "display_name": "env_massh_bis",
   "language": "python",
   "name": "python3"
  },
  "language_info": {
   "codemirror_mode": {
    "name": "ipython",
    "version": 3
   },
   "file_extension": ".py",
   "mimetype": "text/x-python",
   "name": "python",
   "nbconvert_exporter": "python",
   "pygments_lexer": "ipython3",
   "version": "3.10.15"
  }
 },
 "nbformat": 4,
 "nbformat_minor": 2
}
