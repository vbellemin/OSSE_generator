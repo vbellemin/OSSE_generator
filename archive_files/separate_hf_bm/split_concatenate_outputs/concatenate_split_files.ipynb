{
 "cells": [
  {
   "attachments": {},
   "cell_type": "markdown",
   "metadata": {},
   "source": [
    "# File to create the spliting bash"
   ]
  },
  {
   "cell_type": "code",
   "execution_count": 2,
   "metadata": {},
   "outputs": [],
   "source": [
    "import numpy as np\n",
    "import pandas as pd"
   ]
  },
  {
   "cell_type": "code",
   "execution_count": null,
   "metadata": {},
   "outputs": [],
   "source": [
    "i=0\n",
    "\n",
    "while i < 5111 :\n",
    "\n",
    "    file = open(\"/home/bellemva/CCS/data/filter_MITgcm/separate_hf_bm/split_concatenate_outputs/split_netcdf.sh\",\"a\")\n",
    "\n",
    "    command = \"ncks -d time,\" + str(i) + \",\" + str(i+23) \n",
    "    command += \" /bettik/bellemva/MITgcm/MITgcm_filtered_second/MITgcm_filt_40.0_205.0.nc \"\n",
    "    command += \"/bettik/bellemva/MITgcm/MITgcm_filtered_second/split40.0_205.0/\"\n",
    "    command += pd.to_datetime(str(np.datetime64(\"2012-04-01\")+ i*np.timedelta64(1,'h'))).strftime(\"%Y%m%d\")\n",
    "    command += \".nc \\n\"\n",
    "\n",
    "    print(command)\n",
    "\n",
    "    file.write(command)\n",
    "\n",
    "    file.close()\n",
    "\n",
    "\n",
    "    i+=24"
   ]
  },
  {
   "attachments": {},
   "cell_type": "markdown",
   "metadata": {},
   "source": [
    "Cell to create one repertory fo each hour in the repertory /bettik/bellemv/MITgcm/MITgcm_bar"
   ]
  },
  {
   "cell_type": "code",
   "execution_count": 5,
   "metadata": {},
   "outputs": [],
   "source": [
    "date = np.arange(np.datetime64(\"2012-04-03\"),np.datetime64(\"2012-10-29\"))\n",
    "\n",
    "for d in date : \n",
    "    file = open(\"/home/bellemva/CCS/data/filter_MITgcm/separate_hf_bm/split_concatenate_outputs/split_netcdf.sh\",\"a\")\n",
    "\n",
    "    command = \"mkdir /bettik/bellemva/MITgcm/MITgcm_bar/\"+d.astype('str').replace(\"-\",\"\")\n",
    "    command += \"\\n\"\n",
    "\n",
    "    file.write(command)\n",
    "\n",
    "    file.close()\n",
    "    \n"
   ]
  },
  {
   "attachments": {},
   "cell_type": "markdown",
   "metadata": {},
   "source": [
    "## 2. - Updating the MITgcm_filtered time coordinate "
   ]
  },
  {
   "attachments": {},
   "cell_type": "markdown",
   "metadata": {},
   "source": [
    "This cell change the time unit of each of the files into \"**hours since 2012-01-01 00:00:00**\""
   ]
  },
  {
   "cell_type": "code",
   "execution_count": 3,
   "metadata": {},
   "outputs": [],
   "source": [
    "dates = np.arange(np.datetime64(\"2012-04-03\"),np.datetime64(\"2012-10-30\"))\n",
    "\n",
    "# deleting the content of file.sh \n",
    "file = open(\"/home/bellemva/CCS/data/filter_MITgcm/separate_hf_bm/split_concatenate_outputs/split_netcdf.sh\",\"w\")\n",
    "file.close()\n",
    "\n",
    "for d in dates:\n",
    "\n",
    "    command = \"ncatted -O -a units,time,o,c,\\\"hours since 2012-01-01 00:00:00\\\" \"\n",
    "\n",
    "    date_split = d.astype('str').split(\"T\")\n",
    "\n",
    "    command += \"/bettik/bellemva/MITgcm/MITgcm_filtered_final/MITgcm_filt_\"+d.astype('str').replace(\"-\",\"\")+\".nc \\n\"\n",
    "\n",
    "    file = open(\"/home/bellemva/CCS/data/split_netcdf.sh\",\"a\")\n",
    "    \n",
    "    file.write(command)\n",
    "\n",
    "    file.close()"
   ]
  },
  {
   "attachments": {},
   "cell_type": "markdown",
   "metadata": {},
   "source": [
    "This cell updates the time coordinate : "
   ]
  },
  {
   "cell_type": "code",
   "execution_count": 3,
   "metadata": {},
   "outputs": [],
   "source": [
    "dates = np.arange(np.datetime64(\"2012-04-03\"),np.datetime64(\"2012-10-30\"))\n",
    "\n",
    "# deleting the content of file.sh \n",
    "file = open(\"/home/bellemva/CCS/data/filter_MITgcm/separate_hf_bm/split_concatenate_outputs/split_netcdf.sh\",\"w\")\n",
    "file.close()\n",
    "\n",
    "for d in dates : \n",
    "\n",
    "    command = \"ncap2 -O -s \"\n",
    "\n",
    "    command += \"time+=\"+str((np.datetime64(\"2012-04-01\")-np.datetime64(\"2012-01-01\")).astype('int')*24)\n",
    "\n",
    "    command += \" /bettik/bellemva/MITgcm/MITgcm_filtered_final/MITgcm_filt_\"+d.astype('str').replace(\"-\",\"\")+\".nc \"\n",
    "\n",
    "    command += \"/bettik/bellemva/MITgcm/MITgcm_filtered_final/MITgcm_filt_\"+d.astype('str').replace(\"-\",\"\")+\".nc \\n\"\n",
    "\n",
    "    file = open(\"/home/bellemva/CCS/data/split_netcdf.sh\",\"a\")\n",
    "    \n",
    "    file.write(command)\n",
    "\n",
    "    file.close()\n",
    "    \n",
    "\n",
    "\n"
   ]
  },
  {
   "cell_type": "markdown",
   "metadata": {},
   "source": []
  }
 ],
 "metadata": {
  "kernelspec": {
   "display_name": "pangeo-forge",
   "language": "python",
   "name": "python3"
  },
  "language_info": {
   "codemirror_mode": {
    "name": "ipython",
    "version": 3
   },
   "file_extension": ".py",
   "mimetype": "text/x-python",
   "name": "python",
   "nbconvert_exporter": "python",
   "pygments_lexer": "ipython3",
   "version": "3.10.8"
  },
  "orig_nbformat": 4,
  "vscode": {
   "interpreter": {
    "hash": "7c23ec3ec738dd1576521582b0d5857622abaf70e6be4bb4aa32975471cea612"
   }
  }
 },
 "nbformat": 4,
 "nbformat_minor": 2
}
