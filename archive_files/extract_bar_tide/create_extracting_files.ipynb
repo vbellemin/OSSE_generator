{
 "cells": [
  {
   "attachments": {},
   "cell_type": "markdown",
   "metadata": {},
   "source": [
    "# To create the extracting files for barotropic tide (for 5 days each)"
   ]
  },
  {
   "attachments": {},
   "cell_type": "markdown",
   "metadata": {},
   "source": [
    "These files will filter and extract the barotropic tide from the ssh_dedac files in \"**/bettik/bellemva/MITgcm/MITgcm_filtered_final**\""
   ]
  },
  {
   "cell_type": "code",
   "execution_count": 2,
   "metadata": {},
   "outputs": [],
   "source": [
    "import numpy as np"
   ]
  },
  {
   "cell_type": "code",
   "execution_count": 2,
   "metadata": {},
   "outputs": [],
   "source": [
    "date = np.arange(np.datetime64(\"2012-04-03\"),np.datetime64(\"2012-10-29\"),np.timedelta64(5,'D'))"
   ]
  },
  {
   "attachments": {},
   "cell_type": "markdown",
   "metadata": {},
   "source": [
    "Firstly this cell copys the file extract_tide.py into the number of submitted jobs. "
   ]
  },
  {
   "cell_type": "code",
   "execution_count": 3,
   "metadata": {},
   "outputs": [],
   "source": [
    "# deleting the content of file.sh \n",
    "file = open(\"/home/bellemva/CCS/data/filter_MITgcm/extract_bar_tide/file.sh\",\"w\")\n",
    "file.close()\n",
    "\n",
    "\n",
    "for d in date : \n",
    "    file = open(\"/home/bellemva/CCS/data/filter_MITgcm/extract_bar_tide/file.sh\",\"a\")\n",
    "\n",
    "    command = \"cp extract_tide.py extract_tide_\" + d.astype('str').replace(\"-\",\"\") + \".py\"\n",
    "    command += \"\\n\"\n",
    "\n",
    "    file.write(command)\n",
    "\n",
    "    file.close()\n"
   ]
  },
  {
   "attachments": {},
   "cell_type": "markdown",
   "metadata": {},
   "source": [
    "Then, this cell updates the the line 28 to update the variable **init_date** that defines the initial date of the submitted job."
   ]
  },
  {
   "cell_type": "code",
   "execution_count": 5,
   "metadata": {},
   "outputs": [],
   "source": [
    "for d in date :\n",
    "\n",
    "    file = open(\"/home/bellemva/CCS/data/filter_MITgcm/extract_bar_tide/extract_tide_\"+d.astype('str').replace(\"-\",\"\")+\".py\",\"r\")\n",
    "\n",
    "    data = file.readlines()\n",
    "\n",
    "    data[28] = \"init_date = np.datetime64(\\\"\"+d.astype('str')+\"\\\")\\n\"\n",
    "    #data[137] = \"    highpass_IT = highpass(lambda_bar,nx,ny,wavnum2D)\\n\"\n",
    "    #data[0] = \"print(\\\"job launched\\\") \\n\"\n",
    "    #data[1] = \"import os \\n\"\n",
    "\n",
    "    file.close()\n",
    "\n",
    "    file = open(\"/home/bellemva/CCS/data/filter_MITgcm/extract_bar_tide/extract_tide_\"+d.astype('str').replace(\"-\",\"\")+\".py\",\"w\")\n",
    "\n",
    "    file.writelines(data)\n",
    "\n",
    "    file.close()"
   ]
  },
  {
   "cell_type": "code",
   "execution_count": null,
   "metadata": {},
   "outputs": [],
   "source": [
    "data"
   ]
  },
  {
   "attachments": {},
   "cell_type": "markdown",
   "metadata": {},
   "source": [
    "This cell below creates the submission file with extension .ksh in order to launch the extract_tide.py files "
   ]
  },
  {
   "cell_type": "code",
   "execution_count": 6,
   "metadata": {},
   "outputs": [],
   "source": [
    "for d in date : \n",
    "\n",
    "    date_str = d.astype('str').replace(\"-\",\"\")\n",
    "\n",
    "    file = open(\"/home/bellemva/CCS/submission_files/extract_tide/submission_bar_\"+date_str+\".sh\",\"w\")\n",
    "\n",
    "    file.write(\"#!/bin/bash \\n\")\n",
    "    file.write(\"#OAR -n submission_bar_\"+date_str+\"\\n\")\n",
    "    file.write(\"#OAR -l /nodes=1/core=2,walltime=48:00:00 \\n\")\n",
    "    file.write(\"#OAR --stdout submission_bar_\"+date_str+\".out \\n\")\n",
    "    file.write(\"#OAR --stderr submission_bar_\"+date_str+\".err \\n\")\n",
    "    file.write(\"#OAR --project data-ocean \\n \\n \\n\")\n",
    "\n",
    "    file.write(\"source /home/bellemva/miniconda3/etc/profile.d/conda.sh \\n\")\n",
    "    file.write(\"conda activate pangeo-forge \\n\")\n",
    "    file.write(\"cd /home/bellemva/CCS/data/filter_MITgcm/extract_bar_tide/ \\n\")\n",
    "    file.write(\"python extract_tide_\"+date_str+\".py\")\n",
    "\n",
    "    file.close()\n",
    "\n",
    "    file = open(\"/home/bellemva/CCS/submission_files/extract_tide/file.sh\",\"a\")\n",
    "\n",
    "    file.write(\"oarsub -S /home/bellemva/CCS/submission_files/extract_tide/submission_bar_\"+date_str+\".sh \\n\")\n",
    "\n",
    "    file.close()\n",
    "\n"
   ]
  },
  {
   "cell_type": "markdown",
   "metadata": {},
   "source": [
    "### 2 . Joining the hourly MITgcm_bar files into daily ones "
   ]
  },
  {
   "attachments": {},
   "cell_type": "markdown",
   "metadata": {},
   "source": [
    "This cell change the time unit of each of the files into \"**hours since 2012-01-01 00:00:00**\""
   ]
  },
  {
   "cell_type": "code",
   "execution_count": 4,
   "metadata": {},
   "outputs": [],
   "source": [
    "dates = np.arange(np.datetime64(\"2012-04-03\"),np.datetime64(\"2012-10-30\"),np.timedelta64(1,\"h\"))\n",
    "\n",
    "# deleting the content of file.sh \n",
    "file = open(\"/home/bellemva/CCS/data/filter_MITgcm/extract_bar_tide/file.sh\",\"w\")\n",
    "file.close()\n",
    "\n",
    "for d in dates:\n",
    "\n",
    "    command = \"ncatted -O -a units,time,o,c,\\\"hours since 2012-01-01 00:00:00\\\" \"\n",
    "\n",
    "    date_split = d.astype('str').split(\"T\")\n",
    "\n",
    "    command += \"/bettik/bellemva/MITgcm/MITgcm_bar/MITgcm_bar_\"+date_split[0].replace(\"-\",\"\")+\"T\"+str(int(date_split[1]))+\".nc \\n\"\n",
    "\n",
    "    file = open(\"/home/bellemva/CCS/data/filter_MITgcm/extract_bar_tide/file.sh\",\"a\")\n",
    "    \n",
    "    file.write(command)\n",
    "\n",
    "    file.close()\n",
    "\n",
    "    "
   ]
  },
  {
   "attachments": {},
   "cell_type": "markdown",
   "metadata": {},
   "source": [
    "This cell updates the time coordinate : "
   ]
  },
  {
   "cell_type": "code",
   "execution_count": 2,
   "metadata": {},
   "outputs": [],
   "source": [
    "dates = np.arange(np.datetime64(\"2012-04-03\"),np.datetime64(\"2012-10-30\"),np.timedelta64(1,\"h\"))\n",
    "\n",
    "# deleting the content of file.sh \n",
    "file = open(\"/home/bellemva/CCS/data/filter_MITgcm/extract_bar_tide/file.sh\",\"w\")\n",
    "file.close()\n",
    "\n",
    "for d in dates:\n",
    "\n",
    "    command = \"ncap2 -O -s \"\n",
    "\n",
    "    command += \"time+=\"+str((d-np.datetime64(\"2012-01-01\")).astype('int'))\n",
    "\n",
    "    date_split = d.astype('str').split(\"T\")\n",
    "\n",
    "    command += \" /bettik/bellemva/MITgcm/MITgcm_bar/MITgcm_bar_\"+date_split[0].replace(\"-\",\"\")+\"T\"+str(int(date_split[1]))+\".nc \"\n",
    "\n",
    "    command += \" /bettik/bellemva/MITgcm/MITgcm_bar/MITgcm_bar_\"+date_split[0].replace(\"-\",\"\")+\"T\"+str(int(date_split[1]))+\".nc \\n\"\n",
    "\n",
    "    file = open(\"/home/bellemva/CCS/data/filter_MITgcm/extract_bar_tide/file.sh\",\"a\")\n",
    "    \n",
    "    file.write(command)\n",
    "\n",
    "    file.close()"
   ]
  },
  {
   "attachments": {},
   "cell_type": "markdown",
   "metadata": {},
   "source": [
    "This cell transforms the time coordinate into a record coordinate : "
   ]
  },
  {
   "cell_type": "code",
   "execution_count": 4,
   "metadata": {},
   "outputs": [],
   "source": [
    "dates = np.arange(np.datetime64(\"2012-04-03\"),np.datetime64(\"2012-10-30\"),np.timedelta64(1,\"h\"))\n",
    "\n",
    "# deleting the content of file.sh \n",
    "file = open(\"/home/bellemva/CCS/data/filter_MITgcm/extract_bar_tide/file.sh\",\"w\")\n",
    "file.close()\n",
    "\n",
    "for d in dates:\n",
    "\n",
    "    command = \"ncks -O --mk_rec_dmn time \"\n",
    "\n",
    "    date_split = d.astype('str').split(\"T\")\n",
    "\n",
    "    command += \"/bettik/bellemva/MITgcm/MITgcm_bar/MITgcm_bar_\"+date_split[0].replace(\"-\",\"\")+\"T\"+str(int(date_split[1]))+\".nc \"\n",
    "\n",
    "    command += \"/bettik/bellemva/MITgcm/MITgcm_bar/MITgcm_bar_\"+date_split[0].replace(\"-\",\"\")+\"T\"+str(int(date_split[1]))+\".nc \\n\"\n",
    "\n",
    "    file = open(\"/home/bellemva/CCS/data/filter_MITgcm/extract_bar_tide/file.sh\",\"a\")\n",
    "    \n",
    "    file.write(command)\n",
    "\n",
    "    file.close()"
   ]
  },
  {
   "attachments": {},
   "cell_type": "markdown",
   "metadata": {},
   "source": [
    "This cell creates the bash file that will concatenate the hourly barotropic tide datasets into daily ones. Then execute **file.sh**."
   ]
  },
  {
   "cell_type": "code",
   "execution_count": 2,
   "metadata": {},
   "outputs": [],
   "source": [
    "dates = np.arange(np.datetime64(\"2012-04-03\"),np.datetime64(\"2012-10-30\"))\n",
    "\n",
    "# deleting the content of file.sh \n",
    "file = open(\"/home/bellemva/CCS/data/filter_MITgcm/extract_bar_tide/file.sh\",\"w\")\n",
    "file.close()\n",
    "\n",
    "for d in dates:\n",
    "\n",
    "    command = \"ncrcat \"\n",
    "\n",
    "    for i in range (24) : \n",
    "\n",
    "        command += \"/bettik/bellemva/MITgcm/MITgcm_bar/MITgcm_bar_\"+d.astype('str').replace(\"-\",\"\")+\"T\"+str(i)+\".nc \"\n",
    "    \n",
    "    command += \"/bettik/bellemva/MITgcm/MITgcm_bar/daily_files/MITgcm_bar_\"+d.astype('str').replace(\"-\",\"\")+\".nc \\n\"\n",
    "\n",
    "    \n",
    "    file = open(\"/home/bellemva/CCS/data/filter_MITgcm/extract_bar_tide/file.sh\",\"a\")\n",
    "    \n",
    "    file.write(command)\n",
    "\n",
    "    file.close()\n",
    "\n",
    "    "
   ]
  },
  {
   "attachments": {},
   "cell_type": "markdown",
   "metadata": {},
   "source": [
    "The cell adds the variable $ssh\\_bar$ to the **MITgcm_filt** files. It uses the nco command $ncks$ Then execute **file.sh**."
   ]
  },
  {
   "cell_type": "code",
   "execution_count": 3,
   "metadata": {},
   "outputs": [],
   "source": [
    "dates = np.arange(np.datetime64(\"2012-04-05\"),np.datetime64(\"2012-10-30\"))\n",
    "\n",
    "# deleting the content of file.sh \n",
    "file = open(\"/home/bellemva/CCS/data/filter_MITgcm/extract_bar_tide/file.sh\",\"w\")\n",
    "file.close()\n",
    "\n",
    "for d in dates:\n",
    "\n",
    "    command = \"ncks -A \"\n",
    "\n",
    "    command += \"/bettik/bellemva/MITgcm/MITgcm_bar/daily_files/MITgcm_bar_\"+d.astype('str').replace(\"-\",\"\")+\".nc \"\n",
    "\n",
    "    command += \"/bettik/bellemva/MITgcm/MITgcm_filtered_final/MITgcm_filt_\"+d.astype('str').replace(\"-\",\"\")+\".nc \\n\"\n",
    "    \n",
    "    file = open(\"/home/bellemva/CCS/data/filter_MITgcm/extract_bar_tide/file.sh\",\"a\")\n",
    "    \n",
    "    file.write(command)\n",
    "\n",
    "    file.close()"
   ]
  },
  {
   "attachments": {},
   "cell_type": "markdown",
   "metadata": {},
   "source": [
    "These cells create the variables **$ssh\\_corr=ssh\\_dedac-ssh\\_bar$** and **$ssh\\_igw=ssh\\_hf-ssh\\_bar$**"
   ]
  },
  {
   "cell_type": "code",
   "execution_count": 4,
   "metadata": {},
   "outputs": [],
   "source": [
    "dates = np.arange(np.datetime64(\"2012-04-03\"),np.datetime64(\"2012-10-30\"))\n",
    "\n",
    "# deleting the content of file.sh \n",
    "file = open(\"/home/bellemva/CCS/data/filter_MITgcm/extract_bar_tide/file.sh\",\"w\")\n",
    "file.close()\n",
    "\n",
    "for d in dates:\n",
    "\n",
    "    command = \"ncap2 -A -s \\\"ssh_cor=ssh_dedac-ssh_bar\\\" \"\n",
    "\n",
    "    command += \"/bettik/bellemva/MITgcm/MITgcm_filtered_final/MITgcm_filt_\"+d.astype('str').replace(\"-\",\"\")+\".nc \"\n",
    "\n",
    "    command += \"/bettik/bellemva/MITgcm/MITgcm_filtered_final/MITgcm_filt_\"+d.astype('str').replace(\"-\",\"\")+\".nc \\n\"\n",
    "    \n",
    "    file = open(\"/home/bellemva/CCS/data/filter_MITgcm/extract_bar_tide/file.sh\",\"a\")\n",
    "    \n",
    "    file.write(command)\n",
    "\n",
    "    file.close()\n"
   ]
  },
  {
   "cell_type": "code",
   "execution_count": 5,
   "metadata": {},
   "outputs": [],
   "source": [
    "dates = np.arange(np.datetime64(\"2012-04-03\"),np.datetime64(\"2012-10-30\"))\n",
    "\n",
    "# deleting the content of file.sh \n",
    "file = open(\"/home/bellemva/CCS/data/filter_MITgcm/extract_bar_tide/file.sh\",\"w\")\n",
    "file.close()\n",
    "\n",
    "for d in dates:\n",
    "\n",
    "    command = \"ncap2 -A -s \\\"ssh_igw=ssh_hf-ssh_bar\\\" \"\n",
    "\n",
    "    command += \"/bettik/bellemva/MITgcm/MITgcm_filtered_final/MITgcm_filt_\"+d.astype('str').replace(\"-\",\"\")+\".nc \"\n",
    "\n",
    "    command += \"/bettik/bellemva/MITgcm/MITgcm_filtered_final/MITgcm_filt_\"+d.astype('str').replace(\"-\",\"\")+\".nc \\n\"\n",
    "    \n",
    "    file = open(\"/home/bellemva/CCS/data/filter_MITgcm/extract_bar_tide/file.sh\",\"a\")\n",
    "    \n",
    "    file.write(command)\n",
    "\n",
    "    file.close()"
   ]
  },
  {
   "attachments": {},
   "cell_type": "markdown",
   "metadata": {},
   "source": [
    "This cell deletes the variables **$ssh\\_corr$**, **$ssh\\_igw$** and **$ssh\\_bar$**."
   ]
  },
  {
   "cell_type": "code",
   "execution_count": null,
   "metadata": {},
   "outputs": [],
   "source": [
    "dates = np.arange(np.datetime64(\"2012-04-05\"),np.datetime64(\"2012-10-30\"))\n",
    "\n",
    "# deleting the content of file.sh \n",
    "file = open(\"/home/bellemva/CCS/data/filter_MITgcm/extract_bar_tide/file.sh\",\"w\")\n",
    "file.close()\n",
    "\n",
    "for d in dates:\n",
    "\n",
    "    command = \"ncks -C -O -x -v ssh_bar,ssh_cor,ssh_igw \"\n",
    "\n",
    "    command += \"/bettik/bellemva/MITgcm/MITgcm_filtered_final/MITgcm_filt_\"+d.astype('str').replace(\"-\",\"\")+\".nc \"\n",
    "\n",
    "    command += \"/bettik/bellemva/MITgcm/MITgcm_filtered_final/MITgcm_filt_\"+d.astype('str').replace(\"-\",\"\")+\".nc \\n\"\n",
    "    \n",
    "    file = open(\"/home/bellemva/CCS/data/filter_MITgcm/extract_bar_tide/file.sh\",\"a\")\n",
    "    \n",
    "    file.write(command)\n",
    "\n",
    "    file.close()\n"
   ]
  },
  {
   "attachments": {},
   "cell_type": "markdown",
   "metadata": {},
   "source": [
    "This cell selects the CCS zone and saves it in the **/bettik/bellemva/2022a_CCS_CalVal** repertory. "
   ]
  },
  {
   "cell_type": "code",
   "execution_count": null,
   "metadata": {},
   "outputs": [],
   "source": [
    "dates = np.arange(np.datetime64(\"2012-06-01\"),np.datetime64(\"2012-09-01\"))\n",
    "\n",
    "# deleting the content of file.sh \n",
    "file = open(\"/home/bellemva/CCS/data/filter_MITgcm/extract_bar_tide/file.sh\",\"w\")\n",
    "file.close()\n",
    "\n",
    "\n"
   ]
  },
  {
   "attachments": {},
   "cell_type": "markdown",
   "metadata": {},
   "source": [
    "### Modifying file name "
   ]
  },
  {
   "cell_type": "code",
   "execution_count": 4,
   "metadata": {},
   "outputs": [],
   "source": [
    "missing_date = np.load(\"./missing_date.npy\")\n",
    "\n",
    "# deleting the content of file.sh \n",
    "file = open(\"/home/bellemva/CCS/data/filter_MITgcm/extract_bar_tide/file.sh\",\"w\")\n",
    "file.close()\n",
    "\n",
    "for d in missing_date : \n",
    "\n",
    "    day_str = d.astype('str').split(\"T\")[0]\n",
    "    time_index = d.astype('str').split(\"T\")[1]\n",
    "    time_index_bis = str(int(d.astype('str').split(\"T\")[1]))\n",
    "\n",
    "    command = \"mv /bettik/bellemva/MITgcm/MITgcm_bar/MITgcm_bar_\"+day_str.replace(\"-\",\"\")+\"T\"+time_index+\"T\"+time_index_bis+\".nc \"\n",
    "    command+= \"/bettik/bellemva/MITgcm/MITgcm_bar/MITgcm_bar_\"+day_str.replace(\"-\",\"\")+\"T\"+time_index_bis+\".nc \\n\"\n",
    "\n",
    "    file = open(\"/home/bellemva/CCS/data/filter_MITgcm/extract_bar_tide/file.sh\",\"a\")\n",
    "    \n",
    "    file.write(command)\n",
    "\n",
    "    file.close()\n",
    "\n"
   ]
  },
  {
   "cell_type": "code",
   "execution_count": null,
   "metadata": {},
   "outputs": [],
   "source": []
  }
 ],
 "metadata": {
  "kernelspec": {
   "display_name": "pangeo-forge",
   "language": "python",
   "name": "python3"
  },
  "language_info": {
   "codemirror_mode": {
    "name": "ipython",
    "version": 3
   },
   "file_extension": ".py",
   "mimetype": "text/x-python",
   "name": "python",
   "nbconvert_exporter": "python",
   "pygments_lexer": "ipython3",
   "version": "3.10.8"
  },
  "orig_nbformat": 4,
  "vscode": {
   "interpreter": {
    "hash": "7c23ec3ec738dd1576521582b0d5857622abaf70e6be4bb4aa32975471cea612"
   }
  }
 },
 "nbformat": 4,
 "nbformat_minor": 2
}
