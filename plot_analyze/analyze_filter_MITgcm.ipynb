{
 "cells": [
  {
   "cell_type": "markdown",
   "metadata": {},
   "source": [
    "# Analyses on MITgcm filtered SSH "
   ]
  },
  {
   "cell_type": "code",
   "execution_count": null,
   "metadata": {},
   "outputs": [],
   "source": [
    "import numpy as np \n",
    "import xarray as xr\n",
    "import xrft \n",
    "from astropy.convolution import Gaussian2DKernel, interpolate_replace_nans\n",
    "import powerspec as ps\n",
    "import matplotlib.pyplot as plt\n",
    "import matplotlib\n",
    "\n",
    "import cartopy.crs as ccrs\n",
    "import cartopy.feature as cfeature\n",
    "import cartopy\n",
    "\n",
    "import pandas as pd\n",
    "\n",
    "import gc \n",
    "\n",
    "import cmocean\n",
    "\n",
    "from joblib import Parallel\n",
    "from joblib import delayed as jb_delayed\n",
    "\n",
    "matplotlib.use('Agg')"
   ]
  },
  {
   "attachments": {},
   "cell_type": "markdown",
   "metadata": {},
   "source": [
    "## 1. - Data "
   ]
  },
  {
   "cell_type": "code",
   "execution_count": null,
   "metadata": {},
   "outputs": [],
   "source": [
    "ssh = xr.open_dataset(\"/bettik/bellemva/MITgcm/MITgcm_filtered_final/MITgcm_filt_20120501.nc\")"
   ]
  },
  {
   "cell_type": "code",
   "execution_count": null,
   "metadata": {},
   "outputs": [],
   "source": [
    "ssh.ssh_bar[14].plot()"
   ]
  },
  {
   "cell_type": "code",
   "execution_count": null,
   "metadata": {},
   "outputs": [],
   "source": [
    "ssh_bis = xr.open_dataset(\"/bettik/bellemva/MITgcm/MITgcm_filtered_final/MITgcm_filt_20120601.nc\")"
   ]
  },
  {
   "cell_type": "code",
   "execution_count": null,
   "metadata": {},
   "outputs": [],
   "source": [
    "ssh_bis.ssh_bar[14].plot()"
   ]
  },
  {
   "cell_type": "code",
   "execution_count": null,
   "metadata": {},
   "outputs": [],
   "source": []
  },
  {
   "cell_type": "code",
   "execution_count": null,
   "metadata": {},
   "outputs": [],
   "source": [
    "#ds_ssh_bar = xr.open_mfdataset(\"/bettik/bellemva/MITgcm/MITgcm_bar/daily_files/MITgcm_bar_201206*.nc\")\n",
    "#ds_ssh_bar = xr.open_mfdataset([\"/bettik/bellemva/MITgcm/MITgcm_bar/daily_files/MITgcm_bar_20120601.nc\",\n",
    "#                                \"/bettik/bellemva/MITgcm/MITgcm_bar/daily_files/MITgcm_bar_20120602.nc\",\n",
    "#                                \"/bettik/bellemva/MITgcm/MITgcm_bar/daily_files/MITgcm_bar_20120603.nc\"])\n",
    "ds_ssh_bar = xr.open_dataset(\"/bettik/bellemva/MITgcm/MITgcm_bar/daily_files/MITgcm_bar_20120601.nc\")\n",
    "ds_ssh_bar = ds_ssh_bar.sel(longitude = slice(180,235))\n",
    "#ds_ssh_bar = ds_ssh_bar.fillna(0)\n",
    "ssh_bar = ds_ssh_bar.ssh_bar"
   ]
  },
  {
   "cell_type": "code",
   "execution_count": null,
   "metadata": {},
   "outputs": [],
   "source": [
    "plt.pcolormesh(ssh_bar.longitude.values,ssh_bar.latitude.values,ssh_bar.values,cmap=\"RdBu\",vmin=-0.2,vmax=0.2)\n",
    "#plt.xlim(180,200)\n",
    "#plt.ylim(10,20)\n"
   ]
  },
  {
   "cell_type": "code",
   "execution_count": null,
   "metadata": {},
   "outputs": [],
   "source": [
    "#Interpolate and replace nans \n",
    "kernel = Gaussian2DKernel(x_stddev=4)\n",
    "ssh_bar_nonans=np.empty(ssh_bar.values.shape)\n",
    "for i in range (23):\n",
    "    ssh_bar_nonans[i,:,:] = interpolate_replace_nans(ssh_bar[i].values, kernel)\n",
    "    print(i)\n"
   ]
  },
  {
   "cell_type": "code",
   "execution_count": null,
   "metadata": {},
   "outputs": [],
   "source": [
    "ssh_bar_nonans = xr.DataArray(ssh_bar_nonans,dims=['time','latitude','longitude'])\n",
    "ssh_bar_nonans"
   ]
  },
  {
   "cell_type": "code",
   "execution_count": null,
   "metadata": {},
   "outputs": [],
   "source": [
    "psd_bar = xrft.isotropic_power_spectrum(ssh_bar_nonans,dim = [\"longitude\",\"latitude\"],detrend='constant').compute()"
   ]
  },
  {
   "cell_type": "code",
   "execution_count": null,
   "metadata": {},
   "outputs": [],
   "source": [
    "psd_bar"
   ]
  },
  {
   "cell_type": "code",
   "execution_count": null,
   "metadata": {},
   "outputs": [],
   "source": [
    "psd_bar = psd_bar.mean(dim=[\"time\"])"
   ]
  },
  {
   "cell_type": "code",
   "execution_count": null,
   "metadata": {},
   "outputs": [],
   "source": [
    "plt.plot(111.2*np.ones(psd_bar.freq_r.values.shape)/psd_bar.freq_r.values,psd_bar.values)\n",
    "plt.xlim(10000,150)\n",
    "plt.yscale('log')\n",
    "plt.xscale('log')\n",
    "plt.axvline(x=200,color=\"red\")\n"
   ]
  },
  {
   "cell_type": "markdown",
   "metadata": {},
   "source": [
    "## 2. - Pictures "
   ]
  },
  {
   "cell_type": "code",
   "execution_count": null,
   "metadata": {},
   "outputs": [],
   "source": [
    "ds = xr.open_dataset(\"/bettik/bellemva/MITgcm/MITgcm_filtered_final/MITgcm_filt_20120501.nc\")"
   ]
  },
  {
   "cell_type": "code",
   "execution_count": null,
   "metadata": {},
   "outputs": [],
   "source": [
    "name_var = \"ssh_cor\"\n",
    "time_index = 4"
   ]
  },
  {
   "cell_type": "code",
   "execution_count": null,
   "metadata": {},
   "outputs": [],
   "source": [
    "import cmocean"
   ]
  },
  {
   "cell_type": "code",
   "execution_count": null,
   "metadata": {},
   "outputs": [],
   "source": [
    "def plot_var(name_var,ds,time_index,title,vmin,vmax,cmap,save_fig = False) : \n",
    "\n",
    "    fig, ax = plt.subplots(figsize=(9,4),dpi=200,subplot_kw={\"projection\": ccrs.PlateCarree(central_longitude=0.)})\n",
    "\n",
    "    ax.set_extent([-180, -115,10, 45],crs=ccrs.PlateCarree())\n",
    "    map_ssh = ax.pcolormesh(ds.longitude.values,\n",
    "                ds.latitude.values,\n",
    "                ds[name_var][time_index],\n",
    "                vmin=vmin,vmax =vmax,\n",
    "                cmap=cmap,\n",
    "                )\n",
    "    \n",
    "    ax.text(s=str(ds.time[time_index].values.astype('datetime64[h]')),x=-179,y=43,color=\"white\")\n",
    "\n",
    "    ax.add_feature(cfeature.LAND,color=\"lightgrey\",zorder=1)\n",
    "    ax.add_feature(cfeature.OCEAN,color=\"black\",zorder=0)\n",
    "    ax.coastlines(lw=0.5)\n",
    "    ax.set_aspect(\"equal\")\n",
    "    ax.set_title(title)\n",
    "\n",
    "    gridlines = ax.gridlines(\n",
    "        alpha=0.3,\n",
    "        color=\"white\",\n",
    "        draw_labels=True,\n",
    "        xlocs=np.arange(-180,-115,10),\n",
    "        ylocs=np.arange(10,45,5),\n",
    "        # xformatter=cartopy.mpl.ticker.LongitudeFormatter(zero_direction_label=True,),\n",
    "    )\n",
    "    gridlines.right_labels = False\n",
    "    gridlines.top_labels  = False\n",
    "    gridlines.xlabel_style = {'size': 11}\n",
    "    gridlines.ylabel_style = {'size': 11}\n",
    "    ax.set_aspect(\"equal\")\n",
    "\n",
    "    cbar = fig.colorbar(mappable = map_ssh,shrink = 0.95,ax = ax)\n",
    "    cbar.set_label(\"SSH [m]\")\n",
    "\n",
    "    if save_fig: \n",
    "        plt.savefig(\"./frames/\"+name_var+\"/\"+name_var+\"_\"+pd.to_datetime(ds.time[time_index].values).strftime(\"%y%m%dT%H\")+\".png\")\n",
    "\n",
    "    else : \n",
    "        plt.show() "
   ]
  },
  {
   "cell_type": "code",
   "execution_count": null,
   "metadata": {},
   "outputs": [],
   "source": []
  },
  {
   "cell_type": "code",
   "execution_count": null,
   "metadata": {},
   "outputs": [],
   "source": [
    "ds=xr.open_dataset(\"/bettik/bellemva/MITgcm/MITgcm_filtered_final/MITgcm_filt_20120601.nc\")\n",
    "plot_var(name_var=\"ssh_it\",ds = ds,title = \"Internal Tide\",vmin=-0.1,vmax=0.1,cmap=cmocean.cm.curl, time_index = 1,save_fig = False)"
   ]
  },
  {
   "cell_type": "code",
   "execution_count": null,
   "metadata": {},
   "outputs": [],
   "source": [
    "# Regular for loop #\n",
    "\n",
    "matplotlib.use('Agg')\n",
    "\n",
    "for d in np.arange(np.datetime64(\"2012-06-01\"),np.datetime64(\"2012-06-15\")) : \n",
    "    ds = xr.open_dataset(\"/bettik/bellemva/MITgcm/MITgcm_filtered_final/MITgcm_filt_\"+d.astype('str').replace(\"-\",\"\")+\".nc\")\n",
    "    ds = ds.load()\n",
    "    for i in range (24): \n",
    "        #plot_var(name_var=\"ssh_cor\",ds = ds,title = \"Modelled Sea Surface Height (SSH)\",vmin=-1.2,vmax=1.2,cmap=cmocean.cm.curl, time_index = i,save_fig = True)\n",
    "        #plot_var(name_var=\"ssh_bm\",ds = ds,title = \"Balanced Motion\",vmin=-1.2,vmax=1.2,cmap=cmocean.cm.curl, time_index = i,save_fig = True) \n",
    "        #plot_var(name_var=\"ssh_igw\",ds = ds,title = \"Internal Tides\",vmin=-0.1,vmax=0.1,cmap=cmocean.cm.curl, time_index = i,save_fig = True) \n",
    "        plot_var(name_var=\"ssh_it\",ds = ds,title = \"Internal Tide\",vmin=-0.1,vmax=0.1,cmap=cmocean.cm.curl, time_index = i,save_fig = False)\n",
    "        print(d,i)\n",
    "    del ds \n",
    "    gc.collect()"
   ]
  },
  {
   "cell_type": "code",
   "execution_count": 16,
   "metadata": {},
   "outputs": [
    {
     "name": "stdout",
     "output_type": "stream",
     "text": [
      "2012-06-07 2\n",
      "2012-06-07 3\n",
      "2012-06-07 4\n",
      "2012-06-07 5\n",
      "2012-06-07 6\n",
      "2012-06-07 7\n",
      "2012-06-07 8\n",
      "2012-06-07 9\n",
      "2012-06-07 10\n",
      "2012-06-07 11\n",
      "2012-06-07 12\n",
      "2012-06-07 13\n",
      "2012-06-07 14\n",
      "2012-06-07 15\n",
      "2012-06-07 16\n"
     ]
    },
    {
     "name": "stderr",
     "output_type": "stream",
     "text": [
      "/tmp/ipykernel_125343/119320411.py:3: RuntimeWarning: More than 20 figures have been opened. Figures created through the pyplot interface (`matplotlib.pyplot.figure`) are retained until explicitly closed and may consume too much memory. (To control this warning, see the rcParam `figure.max_open_warning`).\n",
      "  fig, ax = plt.subplots(figsize=(9,4),dpi=200,subplot_kw={\"projection\": ccrs.PlateCarree(central_longitude=0.)})\n"
     ]
    },
    {
     "name": "stdout",
     "output_type": "stream",
     "text": [
      "2012-06-07 17\n",
      "2012-06-07 18\n",
      "2012-06-07 19\n",
      "2012-06-07 20\n",
      "2012-06-07 21\n",
      "2012-06-07 22\n",
      "2012-06-07 23\n"
     ]
    }
   ],
   "source": [
    "d = np.datetime64(\"2012-06-07\")\n",
    "ds = xr.open_dataset(\"/bettik/bellemva/MITgcm/MITgcm_filtered_final/MITgcm_filt_\"+d.astype('str').replace(\"-\",\"\")+\".nc\")\n",
    "ds = ds.load()\n",
    "for i in range (2,24): \n",
    "    #plot_var(name_var=\"ssh_cor\",ds = ds,title = \"Modelled Sea Surface Height (SSH)\",vmin=-1.2,vmax=1.2,cmap=cmocean.cm.curl, time_index = i,save_fig = True)\n",
    "    #plot_var(name_var=\"ssh_bm\",ds = ds,title = \"Balanced Motion\",vmin=-1.2,vmax=1.2,cmap=cmocean.cm.curl, time_index = i,save_fig = True) \n",
    "    #plot_var(name_var=\"ssh_igw\",ds = ds,title = \"Internal Tides\",vmin=-0.1,vmax=0.1,cmap=cmocean.cm.curl, time_index = i,save_fig = True) \n",
    "    plot_var(name_var=\"ssh_it\",ds = ds,title = \"Internal Tide\",vmin=-0.1,vmax=0.1,cmap=cmocean.cm.curl, time_index = i,save_fig = True)\n",
    "    print(d,i)"
   ]
  },
  {
   "cell_type": "code",
   "execution_count": null,
   "metadata": {},
   "outputs": [],
   "source": [
    "def plot_one_day(date):\n",
    "    ds = xr.open_dataset(\"/bettik/bellemva/MITgcm/MITgcm_filtered_final/MITgcm_filt_\"+date.astype('str').replace(\"-\",\"\")+\".nc\")\n",
    "    ds = ds.load()\n",
    "    for i in range (24): \n",
    "        #plot_var(name_var=\"ssh_cor\",ds = ds,title = \"Modelled Sea Surface Height (SSH)\",vmin=-1.2,vmax=1.2,cmap=cmocean.cm.curl, time_index = i,save_fig = True)\n",
    "        #plot_var(name_var=\"ssh_bm\",ds = ds,title = \"Balanced Motion\",vmin=-1.2,vmax=1.2,cmap=cmocean.cm.curl, time_index = i,save_fig = True) \n",
    "        #plot_var(name_var=\"ssh_igw\",ds = ds,title = \"Internal Tides\",vmin=-0.1,vmax=0.1,cmap=cmocean.cm.curl, time_index = i,save_fig = True) \n",
    "        plot_var(name_var=\"ssh_it\",ds = ds,title = \"Internal Tide\",vmin=-0.1,vmax=0.1,cmap=cmocean.cm.curl, time_index = i,save_fig = True)\n",
    "        #print(d,i)\n",
    "    del ds \n",
    "    gc.collect()"
   ]
  },
  {
   "cell_type": "code",
   "execution_count": null,
   "metadata": {},
   "outputs": [],
   "source": [
    "array_date = np.arange(np.datetime64(\"2012-06-01\"),np.datetime64(\"2012-06-15\")) \n",
    "\n",
    "res = Parallel(n_jobs=14,backend='multiprocessing')(jb_delayed(plot_one_day)(array_date[i]) for i in range (14))"
   ]
  },
  {
   "cell_type": "code",
   "execution_count": null,
   "metadata": {},
   "outputs": [],
   "source": [
    "plot_one_day(array_date[2])"
   ]
  },
  {
   "cell_type": "code",
   "execution_count": null,
   "metadata": {},
   "outputs": [],
   "source": []
  }
 ],
 "metadata": {
  "kernelspec": {
   "display_name": "pangeo-forge",
   "language": "python",
   "name": "python3"
  },
  "language_info": {
   "codemirror_mode": {
    "name": "ipython",
    "version": 3
   },
   "file_extension": ".py",
   "mimetype": "text/x-python",
   "name": "python",
   "nbconvert_exporter": "python",
   "pygments_lexer": "ipython3",
   "version": "3.10.8"
  },
  "orig_nbformat": 4,
  "vscode": {
   "interpreter": {
    "hash": "7c23ec3ec738dd1576521582b0d5857622abaf70e6be4bb4aa32975471cea612"
   }
  }
 },
 "nbformat": 4,
 "nbformat_minor": 2
}
