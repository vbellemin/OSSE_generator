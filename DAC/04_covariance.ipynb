{
 "cells": [
  {
   "cell_type": "code",
   "execution_count": null,
   "metadata": {},
   "outputs": [],
   "source": [
    "# Improve by ChatGPT & GitHub Copilot\n",
    "# Running the requierements.ipynb\n",
    "%run /bettik/PROJECTS/pr-data-ocean/riverama/Notebooks/OSSE_generator/requierements.ipynb"
   ]
  },
  {
   "cell_type": "markdown",
   "metadata": {},
   "source": [
    "# Loading files"
   ]
  },
  {
   "cell_type": "markdown",
   "metadata": {},
   "source": [
    "## DAC"
   ]
  },
  {
   "cell_type": "code",
   "execution_count": null,
   "metadata": {},
   "outputs": [],
   "source": [
    "dac_cropped_1h = xr.open_mfdataset(\"/bettik/PROJECTS/pr-data-ocean/riverama/Datos/DAC_limpio/dac_cropped_1h.nc\").load() "
   ]
  },
  {
   "cell_type": "code",
   "execution_count": null,
   "metadata": {},
   "outputs": [],
   "source": [
    "dac_cropped_1h = dac_cropped_1h.rename({\n",
    "    'time': 'time_counter',\n",
    "    'longitude': 'nav_lon',\n",
    "    'latitude': 'nav_lat'\n",
    "})"
   ]
  },
  {
   "cell_type": "code",
   "execution_count": null,
   "metadata": {},
   "outputs": [],
   "source": [
    "dac_cropped_1h"
   ]
  },
  {
   "cell_type": "markdown",
   "metadata": {},
   "source": [
    "## SSH"
   ]
  },
  {
   "cell_type": "code",
   "execution_count": null,
   "metadata": {},
   "outputs": [],
   "source": [
    "# Loading SSH\n",
    "ssh = xr.open_mfdataset(\"/bettik/PROJECTS/pr-data-ocean/riverama/Datos/CALEDO60/*_SSH.nc\", combine=\"nested\", concat_dim=\"time_counter\", parallel=True)"
   ]
  },
  {
   "cell_type": "code",
   "execution_count": null,
   "metadata": {},
   "outputs": [],
   "source": [
    "import xesmf as xe\n",
    "\n",
    "# Define the source grid from `nav_lat` and `nav_lon`\n",
    "source_grid = {'lon': ssh['nav_lon'].values, 'lat': ssh['nav_lat'].values}\n",
    "# Define the target grid from `dac_cropped` dataset\n",
    "target_grid = {'lon': dac_cropped_1h['nav_lon'].values, 'lat': dac_cropped_1h['nav_lat'].values}\n",
    "# Create a regridder object\n",
    "regridder = xe.Regridder(source_grid, target_grid, 'bilinear')\n",
    "\n",
    "# Perform the regridding\n",
    "ssh_dacgrid = regridder(ssh['zos'])\n"
   ]
  },
  {
   "cell_type": "code",
   "execution_count": null,
   "metadata": {},
   "outputs": [],
   "source": [
    "ssh_dacgrid = ssh_dacgrid.drop_vars(['time_instant'])\n",
    "ssh_dacgrid = ssh_dacgrid.rename({\n",
    "    'lon': 'nav_lon',\n",
    "    'lat': 'nav_lat'\n",
    "})"
   ]
  },
  {
   "cell_type": "code",
   "execution_count": null,
   "metadata": {},
   "outputs": [],
   "source": [
    "ssh_dacgrid.to_netcdf(\"/bettik/PROJECTS/pr-data-ocean/riverama/Datos/CALEDO60/ssh_dacgrid.nc\")"
   ]
  },
  {
   "cell_type": "code",
   "execution_count": null,
   "metadata": {},
   "outputs": [],
   "source": [
    "ssh_dacgrid = xr.open_mfdataset(\"/bettik/PROJECTS/pr-data-ocean/riverama/Datos/CALEDO60/ssh_dacgrid.nc\")"
   ]
  },
  {
   "cell_type": "code",
   "execution_count": null,
   "metadata": {},
   "outputs": [],
   "source": [
    "ssh_dacgrid.load() \n",
    "\n",
    "#tarda como 20 min"
   ]
  },
  {
   "cell_type": "markdown",
   "metadata": {},
   "source": [
    "## SSH - DAC"
   ]
  },
  {
   "cell_type": "code",
   "execution_count": null,
   "metadata": {},
   "outputs": [],
   "source": [
    "sshdedac = xr.open_mfdataset(\"/bettik/PROJECTS/pr-data-ocean/riverama/Datos/CALEDO60_dedac/ssh_dedac_masked_*.nc\", combine=\"nested\", concat_dim=\"time_counter\", parallel=True)"
   ]
  },
  {
   "cell_type": "code",
   "execution_count": null,
   "metadata": {},
   "outputs": [],
   "source": [
    "import xesmf as xe\n",
    "\n",
    "# Define the source grid from `nav_lat` and `nav_lon`\n",
    "source_grid = {'lon': sshdedac['nav_lon'].values, 'lat': sshdedac['nav_lat'].values}\n",
    "# Define the target grid from `dac_cropped` dataset\n",
    "target_grid = {'lon': dac_cropped_1h['nav_lon'].values, 'lat': dac_cropped_1h['nav_lat'].values}\n",
    "# Create a regridder object\n",
    "regridder = xe.Regridder(source_grid, target_grid, 'bilinear')\n",
    "\n",
    "# Perform the regridding\n",
    "sshdedac_dacgrid = regridder(sshdedac['ssh_dedac'])"
   ]
  },
  {
   "cell_type": "code",
   "execution_count": null,
   "metadata": {},
   "outputs": [],
   "source": [
    "sshdedac_dacgrid.to_netcdf(\"/bettik/PROJECTS/pr-data-ocean/riverama/Datos/CALEDO60_dedac/sshdedac_dacgrid.nc\")"
   ]
  },
  {
   "cell_type": "code",
   "execution_count": null,
   "metadata": {},
   "outputs": [],
   "source": [
    "sshdedac_dacgrid = xr.open_mfdataset(\"/bettik/PROJECTS/pr-data-ocean/riverama/Datos/CALEDO60_dedac/sshdedac_dacgrid.nc\")"
   ]
  },
  {
   "cell_type": "code",
   "execution_count": null,
   "metadata": {},
   "outputs": [],
   "source": [
    "sshdedac_dacgrid.load() "
   ]
  },
  {
   "cell_type": "markdown",
   "metadata": {},
   "source": [
    "# Covarianza"
   ]
  },
  {
   "cell_type": "markdown",
   "metadata": {},
   "source": [
    "## cov(SSH,DAC)"
   ]
  },
  {
   "cell_type": "code",
   "execution_count": null,
   "metadata": {},
   "outputs": [],
   "source": [
    "# Extracting the 'dac' DataArray from the 'dac_cropped_1h' Dataset\n",
    "dac_data_array = dac_cropped_1h['dac'].load()"
   ]
  },
  {
   "cell_type": "code",
   "execution_count": null,
   "metadata": {},
   "outputs": [],
   "source": [
    "# Assuming 'ssh_dacgrid' is already a DataArray, you can now calculate the covariance\n",
    "cov1 = xr.cov(dac_data_array, ssh_dacgrid, dim='time_counter')"
   ]
  },
  {
   "cell_type": "code",
   "execution_count": null,
   "metadata": {},
   "outputs": [],
   "source": [
    "cov1"
   ]
  },
  {
   "cell_type": "code",
   "execution_count": null,
   "metadata": {},
   "outputs": [],
   "source": [
    "# # Define your custom colormap and normalization\n",
    "# cmap_colors = [(0.294, 0.0, 0.510), (1, 1, 1), (0.698, 0.133, 0.133)]  # Purple, White, Red\n",
    "# custom_cmap = mcolors.LinearSegmentedColormap.from_list('custom_cmap', cmap_colors)\n",
    "# custom_cmap.set_bad(color='black')  # Uncomment and adjust if you want to handle NaN values specifically\n",
    "# norm = mcolors.TwoSlopeNorm(vmin=-0.005, vcenter=0, vmax=0.007)\n",
    "\n",
    "plt.figure(\n",
    "    #figsize=(12, 10)  # Uncomment and adjust if you want to specify the figure size\n",
    ")\n",
    "# Create a plot and get the axis object, setting the projection to PlateCarree\n",
    "ax = plt.axes(projection=ccrs.PlateCarree())\n",
    "\n",
    "# Here, specify the desired minimum and maximum values for your color scale\n",
    "min_val = -0.005  # Example minimum value\n",
    "max_val = 0.007  # Example maximum value\n",
    "\n",
    "# Use pcolormesh with the axis object\n",
    "pcolormesh = ax.pcolormesh(cov1['nav_lon'], cov1['nav_lat'], cov1,cmap='coolwarm',\n",
    "                           vmin=min_val, vmax=max_val\n",
    "                           )\n",
    "# Add colorbar and label it\n",
    "cbar = plt.colorbar(pcolormesh, ax=ax)\n",
    "cbar.set_label('Variance (m²)')\n",
    "\n",
    "# Set labels and title\n",
    "ax.set_xlabel('Longitude')\n",
    "ax.set_ylabel('Latitude')\n",
    "ax.set_title('cov(SSH, DAC)')\n",
    "\n",
    "# Add land with higher resolution to the main plot on top, filled black\n",
    "ax.add_feature(cfeature.LAND.with_scale('10m'), edgecolor='black', facecolor='black', zorder=3)\n",
    "\n",
    "# Add gridlines with labels to the main plot\n",
    "gl = ax.gridlines(draw_labels=True, linewidth=1, color='gray', alpha=0.2, linestyle='-')\n",
    "gl.top_labels = False\n",
    "gl.right_labels = False\n",
    "gl.xlabel_style = {'size': 9, 'color': 'black'}\n",
    "gl.ylabel_style = {'size': 9, 'color': 'black'}\n",
    "\n",
    "# Fix the aspect ratio\n",
    "ax.set_aspect('equal', adjustable='box')\n",
    "\n",
    "plt.tight_layout()\n",
    "plt.show()"
   ]
  },
  {
   "cell_type": "code",
   "execution_count": null,
   "metadata": {},
   "outputs": [],
   "source": [
    "var_ssh = xr.open_mfdataset(\"/bettik/PROJECTS/pr-data-ocean/riverama/Datos/varianzas/var_ssh.nc\")"
   ]
  },
  {
   "cell_type": "code",
   "execution_count": null,
   "metadata": {},
   "outputs": [],
   "source": [
    "# Perform interpolation for the current month\n",
    "cov1_sshgrid = cov1.interp(\n",
    "    nav_lat=var_ssh.nav_lat,\n",
    "    nav_lon=var_ssh.nav_lon,\n",
    "    method='linear'\n",
    "    )"
   ]
  },
  {
   "cell_type": "code",
   "execution_count": null,
   "metadata": {},
   "outputs": [],
   "source": [
    "cov1_sshgrid"
   ]
  },
  {
   "cell_type": "code",
   "execution_count": null,
   "metadata": {},
   "outputs": [],
   "source": [
    "# Define your custom colormap and normalization\n",
    "cmap_colors = [(0.294, 0.0, 0.510), (1, 1, 1), (0.698, 0.133, 0.133)]  # Purple, White, Red\n",
    "custom_cmap = mcolors.LinearSegmentedColormap.from_list('custom_cmap', cmap_colors)\n",
    "custom_cmap.set_bad(color='black')  # Uncomment and adjust if you want to handle NaN values specifically\n",
    "norm = mcolors.TwoSlopeNorm(vmin=-0.005, vcenter=0, vmax=0.007)\n",
    "\n",
    "plt.figure(\n",
    "    #figsize=(12, 10)  # Uncomment and adjust if you want to specify the figure size\n",
    ")\n",
    "# Create a plot and get the axis object, setting the projection to PlateCarree\n",
    "ax = plt.axes(projection=ccrs.PlateCarree())\n",
    "\n",
    "# Here, specify the desired minimum and maximum values for your color scale\n",
    "min_val = -0.005  # Example minimum value\n",
    "max_val = 0.007  # Example maximum value\n",
    "\n",
    "# Use pcolormesh with the axis object\n",
    "pcolormesh = ax.pcolormesh(cov1_sshgrid['nav_lon'], cov1_sshgrid['nav_lat'], cov1_sshgrid, cmap=custom_cmap, norm=norm,\n",
    "                           #vmin=min_val, vmax=max_val\n",
    "                           )\n",
    "# Add colorbar and label it\n",
    "cbar = plt.colorbar(pcolormesh, ax=ax)\n",
    "cbar.set_label('Covariance (m²)')\n",
    "\n",
    "# Set labels and title\n",
    "ax.set_xlabel('Longitude')\n",
    "ax.set_ylabel('Latitude')\n",
    "ax.set_title('cov(SSH, DAC)')\n",
    "\n",
    "# Add land with higher resolution to the main plot on top, filled black\n",
    "ax.add_feature(cfeature.LAND.with_scale('10m'), edgecolor='black', facecolor='black', zorder=3)\n",
    "\n",
    "# Add gridlines with labels to the main plot\n",
    "gl = ax.gridlines(draw_labels=True, linewidth=1, color='gray', alpha=0.2, linestyle='-')\n",
    "gl.top_labels = False\n",
    "gl.right_labels = False\n",
    "gl.xlabel_style = {'size': 9, 'color': 'black'}\n",
    "gl.ylabel_style = {'size': 9, 'color': 'black'}\n",
    "\n",
    "# Fix the aspect ratio\n",
    "ax.set_aspect('equal', adjustable='box')\n",
    "\n",
    "plt.tight_layout()\n",
    "plt.show()"
   ]
  },
  {
   "cell_type": "code",
   "execution_count": null,
   "metadata": {},
   "outputs": [],
   "source": [
    "var_dac = dac_cropped_1h.var(dim='time_counter', skipna=True)"
   ]
  },
  {
   "cell_type": "code",
   "execution_count": null,
   "metadata": {},
   "outputs": [],
   "source": [
    "# # Define your custom colormap and normalization\n",
    "# cmap_colors = [(0.294, 0.0, 0.510), (1, 1, 1), (0.698, 0.133, 0.133)]  # Purple, White, Red\n",
    "# custom_cmap = mcolors.LinearSegmentedColormap.from_list('custom_cmap', cmap_colors)\n",
    "# custom_cmap.set_bad(color='black')  # Uncomment and adjust if you want to handle NaN values specifically\n",
    "# norm = mcolors.TwoSlopeNorm(vmin=-0.005, vcenter=0, vmax=0.007)\n",
    "\n",
    "plt.figure(\n",
    "    #figsize=(12, 10)  # Uncomment and adjust if you want to specify the figure size\n",
    ")\n",
    "# Create a plot and get the axis object, setting the projection to PlateCarree\n",
    "ax = plt.axes(projection=ccrs.PlateCarree())\n",
    "\n",
    "# Here, specify the desired minimum and maximum values for your color scale\n",
    "# min_val = 0  # Example minimum value\n",
    "# max_val = 0.25 # Example maximum value\n",
    "\n",
    "# Define your custom colormap and normalization\n",
    "cmap_colors = [(0.294, 0.0, 0.510), (1, 1, 1), (0.698, 0.133, 0.133)]  # Purple, White, Red\n",
    "custom_cmap = mcolors.LinearSegmentedColormap.from_list('custom_cmap', cmap_colors)\n",
    "#custom_cmap.set_bad(color='black')  # Uncomment and adjust if you want to handle NaN values specifically\n",
    "norm = mcolors.TwoSlopeNorm(vmin=-0.005, vcenter=0, vmax=0.007)\n",
    "\n",
    "min_val = -0.005  # Example minimum value\n",
    "max_val = 0.007  # Example maximum value\n",
    "\n",
    "# # Use pcolormesh with the axis object\n",
    "\n",
    "# pcolormesh = ax.pcolormesh(var_dac['nav_lon'], var_dac['nav_lat'], var_dac['dac'],cmap='Reds',\n",
    "#                            vmin=min_val, vmax=max_val\n",
    "#                            )\n",
    "\n",
    "pcolormesh = ax.pcolormesh(var_dac['nav_lon'], var_dac['nav_lat'], var_dac['dac'],cmap=custom_cmap,\n",
    "                           vmin=min_val, vmax=max_val\n",
    "                           )\n",
    "# Add colorbar and label it\n",
    "cbar = plt.colorbar(pcolormesh, ax=ax)\n",
    "cbar.set_label('Variance (m²)')\n",
    "\n",
    "# Set labels and title\n",
    "ax.set_xlabel('Longitude')\n",
    "ax.set_ylabel('Latitude')\n",
    "ax.set_title('var(DAC)')\n",
    "\n",
    "# Add land with higher resolution to the main plot on top, filled black\n",
    "ax.add_feature(cfeature.LAND.with_scale('10m'), edgecolor='black', facecolor='black', zorder=3)\n",
    "\n",
    "# Add gridlines with labels to the main plot\n",
    "gl = ax.gridlines(draw_labels=True, linewidth=1, color='gray', alpha=0.2, linestyle='-')\n",
    "gl.top_labels = False\n",
    "gl.right_labels = False\n",
    "gl.xlabel_style = {'size': 9, 'color': 'black'}\n",
    "gl.ylabel_style = {'size': 9, 'color': 'black'}\n",
    "\n",
    "# Fix the aspect ratio\n",
    "ax.set_aspect('equal', adjustable='box')\n",
    "\n",
    "plt.tight_layout()\n",
    "plt.show()"
   ]
  },
  {
   "cell_type": "markdown",
   "metadata": {},
   "source": [
    "## cov(SSHdedac,DAC)"
   ]
  },
  {
   "cell_type": "code",
   "execution_count": null,
   "metadata": {},
   "outputs": [],
   "source": [
    "# Extracting the 'dac' DataArray from the 'dac_cropped_1h' Dataset\n",
    "dac_data_array = dac_cropped_1h['dac'].load()"
   ]
  },
  {
   "cell_type": "code",
   "execution_count": null,
   "metadata": {},
   "outputs": [],
   "source": [
    "dac_data_array"
   ]
  },
  {
   "cell_type": "code",
   "execution_count": null,
   "metadata": {},
   "outputs": [],
   "source": [
    "# Extracting the 'dac' DataArray from the 'dac_cropped_1h' Dataset\n",
    "sshdedac_dacgrid_data_array = sshdedac_dacgrid['__xarray_dataarray_variable__'].load()\n",
    "\n",
    "sshdedac_dacgrid_data_array = sshdedac_dacgrid_data_array.rename({\n",
    "    'lon': 'nav_lon',\n",
    "    'lat': 'nav_lat'\n",
    "})"
   ]
  },
  {
   "cell_type": "code",
   "execution_count": null,
   "metadata": {},
   "outputs": [],
   "source": [
    "sshdedac_dacgrid_data_array"
   ]
  },
  {
   "cell_type": "code",
   "execution_count": null,
   "metadata": {},
   "outputs": [],
   "source": [
    "# Assuming 'ssh_dacgrid' is already a DataArray, you can now calculate the covariance\n",
    "cov2 = xr.cov(dac_data_array, sshdedac_dacgrid_data_array, dim='time_counter')"
   ]
  },
  {
   "cell_type": "code",
   "execution_count": null,
   "metadata": {},
   "outputs": [],
   "source": [
    "# Perform interpolation for the current month\n",
    "cov2_sshgrid = cov2.interp(\n",
    "    nav_lat=var_ssh.nav_lat,\n",
    "    nav_lon=var_ssh.nav_lon,\n",
    "    method='linear'\n",
    "    )"
   ]
  },
  {
   "cell_type": "code",
   "execution_count": null,
   "metadata": {},
   "outputs": [],
   "source": [
    "# Define your custom colormap and normalization\n",
    "cmap_colors = [(0.294, 0.0, 0.510), (1, 1, 1), (0.698, 0.133, 0.133)]  # Purple, White, Red\n",
    "custom_cmap = mcolors.LinearSegmentedColormap.from_list('custom_cmap', cmap_colors)\n",
    "#custom_cmap.set_bad(color='black')  # Uncomment and adjust if you want to handle NaN values specifically\n",
    "norm = mcolors.TwoSlopeNorm(vmin=-0.005, vcenter=0, vmax=0.007)\n",
    "\n",
    "plt.figure(\n",
    "    #figsize=(12, 10)  # Uncomment and adjust if you want to specify the figure size\n",
    ")\n",
    "# Create a plot and get the axis object, setting the projection to PlateCarree\n",
    "ax = plt.axes(projection=ccrs.PlateCarree())\n",
    "\n",
    "# Here, specify the desired minimum and maximum values for your color scale\n",
    "# min_val = -0.005  # Example minimum value\n",
    "# max_val = 0.007  # Example maximum value\n",
    "\n",
    "# Here, specify the desired minimum and maximum values for your color scale\n",
    "min_val = 0.00  # Example minimum value\n",
    "max_val = 0.25  # Example maximum value\n",
    "\n",
    "# Use pcolormesh with the axis object\n",
    "pcolormesh = ax.pcolormesh(cov2_sshgrid['nav_lon'], cov2_sshgrid['nav_lat'], cov2_sshgrid, cmap=custom_cmap, norm=norm,\n",
    "                           #vmin=min_val, vmax=max_val\n",
    "                           )\n",
    "# Add colorbar and label it\n",
    "cbar = plt.colorbar(pcolormesh, ax=ax)\n",
    "cbar.set_label('Covariance (m²)')\n",
    "\n",
    "# Set labels and title\n",
    "ax.set_xlabel('Longitude')\n",
    "ax.set_ylabel('Latitude')\n",
    "ax.set_title('cov(SSH - DAC, DAC)')\n",
    "\n",
    "# Add land with higher resolution to the main plot on top, filled black\n",
    "ax.add_feature(cfeature.LAND.with_scale('10m'), edgecolor='black', facecolor='black', zorder=3)\n",
    "\n",
    "# Add gridlines with labels to the main plot\n",
    "gl = ax.gridlines(draw_labels=True, linewidth=1, color='gray', alpha=0.2, linestyle='-')\n",
    "gl.top_labels = False\n",
    "gl.right_labels = False\n",
    "gl.xlabel_style = {'size': 9, 'color': 'black'}\n",
    "gl.ylabel_style = {'size': 9, 'color': 'black'}\n",
    "\n",
    "# Fix the aspect ratio\n",
    "ax.set_aspect('equal', adjustable='box')\n",
    "\n",
    "plt.tight_layout()\n",
    "plt.show()"
   ]
  },
  {
   "cell_type": "markdown",
   "metadata": {},
   "source": []
  }
 ],
 "metadata": {
  "kernelspec": {
   "display_name": "Python 3",
   "language": "python",
   "name": "python3"
  },
  "language_info": {
   "codemirror_mode": {
    "name": "ipython",
    "version": 3
   },
   "file_extension": ".py",
   "mimetype": "text/x-python",
   "name": "python",
   "nbconvert_exporter": "python",
   "pygments_lexer": "ipython3",
   "version": "3.11.8"
  }
 },
 "nbformat": 4,
 "nbformat_minor": 2
}
