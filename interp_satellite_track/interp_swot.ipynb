{
 "cells": [
  {
   "attachments": {},
   "cell_type": "markdown",
   "metadata": {},
   "source": [
    "# File to generate SWOT OSSE tracks "
   ]
  },
  {
   "cell_type": "code",
   "execution_count": 1,
   "metadata": {},
   "outputs": [],
   "source": [
    "import numpy as np \n",
    "import xarray as xr\n",
    "import glob \n",
    "import os \n",
    "from scipy import interpolate\n",
    "import random\n",
    "import datetime\n",
    "\n",
    "import matplotlib.pyplot as plt\n",
    "\n",
    "import cartopy.crs as ccrs\n",
    "import cartopy.feature as cfeature\n",
    "import cartopy\n",
    "\n",
    "import gc\n",
    "\n",
    "from joblib import Parallel\n",
    "from joblib import delayed as jb_delayed\n"
   ]
  },
  {
   "cell_type": "markdown",
   "metadata": {},
   "source": [
    "Refer the satellite type data in the variable *sat_type*, either **wide_swath** for swath measurements, or **nadir** for nadir measurements. "
   ]
  },
  {
   "cell_type": "code",
   "execution_count": 2,
   "metadata": {},
   "outputs": [],
   "source": [
    "sat_type = \"nadir\"\n",
    "# sat_type = \"wide_swath\""
   ]
  },
  {
   "cell_type": "markdown",
   "metadata": {},
   "source": [
    "Choice of the OSSE zone between *crossover_CCS*, *crossover_centerpacific* and *crossover_hawaii*."
   ]
  },
  {
   "cell_type": "code",
   "execution_count": 3,
   "metadata": {},
   "outputs": [],
   "source": [
    "### ZONE OF CROSSOVERS ###\n",
    "\n",
    "#zone = \"crossover_CCS\"\n",
    "#zone = \"crossover_centerpacific\"\n",
    "#zone = \"crossover_hawaii\"\n",
    "\n",
    "### ZONE OF IMAGINARY CROSSOVERS ### \n",
    "\n",
    "zone = \"hawaii\""
   ]
  },
  {
   "cell_type": "markdown",
   "metadata": {},
   "source": [
    "Choice of the variables to integrate in the interpolated measurements among : \n",
    "- *ssh_cor* : Total DAC corrected SSH, renamed *ssh* in the output dataset \n",
    "- *ssh_bm* : Balanced Motion,\n",
    "- *ssh_it1* : 1st Mode Internal Tide, \n",
    "- *ssh_it2* : 2nd Mode Internal Tide, \n",
    "- *ssh_it3* : 3d Mode Internal Tide, \n",
    "- *ssh_it_tot* : Total Internal Tide,\n",
    "- *ssh_it1_coherent* : Coherent part of the 1st Mode Internal Tide. "
   ]
  },
  {
   "cell_type": "code",
   "execution_count": 4,
   "metadata": {},
   "outputs": [],
   "source": [
    "list_variables = [\"ssh_cor\",\"ssh_bm\",\"ssh_it1\"]\n",
    "dic_attrs = dict({\"ssh\":\"Total DAC corrected SSH.\",\n",
    "                  \"ssh_bm\":\"Balanced Motion.\",\n",
    "                  \"ssh_it1\":\"1st Mode Internal Tide.\",\n",
    "                  \"ssh_it2\":\"2nd Mode Internal Tide.\",\n",
    "                  \"ssh_it3\":\"3d Mode Internal Tide.\",\n",
    "                  \"ssh_it_tot\":\"Total Internal Tide.\"})"
   ]
  },
  {
   "cell_type": "markdown",
   "metadata": {},
   "source": [
    "Definition of the coordinates limits : "
   ]
  },
  {
   "cell_type": "code",
   "execution_count": 5,
   "metadata": {},
   "outputs": [],
   "source": [
    "if zone == \"crossover_CCS\":\n",
    "    lon_min = 225; lon_max = 245;lat_min = 25; lat_max = 45;\n",
    "elif zone == \"crossover_centerpacific\":\n",
    "    lon_min = 200; lon_max = 220;lat_min = 25; lat_max = 45;\n",
    "elif zone == \"crossover_hawaii\":\n",
    "    lon_min = 180; lon_max = 200;lat_min = 25; lat_max = 45;\n",
    "elif zone == \"hawaii\":\n",
    "    lon_min = 185; lon_max = 205;lat_min = 15; lat_max = 35;"
   ]
  },
  {
   "attachments": {},
   "cell_type": "markdown",
   "metadata": {},
   "source": [
    "## 1. - Functions  "
   ]
  },
  {
   "cell_type": "code",
   "execution_count": 6,
   "metadata": {},
   "outputs": [],
   "source": [
    "def open_model_data(date,var,omit_next_step = False):\n",
    "\n",
    "    \"\"\"\n",
    "    Opens the model field and create the RegularGridInterpolator\n",
    "\n",
    "    ARGS : \n",
    "    date (np.datetime64) - the date \n",
    "    var (str) - the variable name\n",
    "    omit_next_step (bool) - if the next step (midnight next day) needs to be omited\n",
    "\n",
    "    \"\"\"\n",
    "\n",
    "\n",
    "    if \"ssh_it\" in var : # variable of internal tide ssh, contained inside MITgcm_it directory \n",
    "        dir_input_ssh = f\"/bettik/bellemva/MITgcm/MITgcm_it/{zone}/\"\n",
    "        if omit_next_step:\n",
    "            path = os.path.join(dir_input_ssh,\"MITgcm_it_\"+date.astype('str').replace(\"-\",\"\")+\".nc\")\n",
    "        else : \n",
    "            path = []\n",
    "            path.append(os.path.join(dir_input_ssh,\"MITgcm_it_\"+date.astype('str').replace(\"-\",\"\")+\".nc\"))\n",
    "            path.append(os.path.join(dir_input_ssh,\"MITgcm_it_\"+(date+np.timedelta64(1,\"D\")).astype('str').replace(\"-\",\"\")+\".nc\"))\n",
    "    else : # other variable contained inside MITgcm_filtered_final directory \n",
    "        dir_input_ssh = f\"/bettik/bellemva/MITgcm/MITgcm_filtered_final\"\n",
    "        if omit_next_step:\n",
    "            path = os.path.join(dir_input_ssh,\"MITgcm_filt_\"+date.astype('str').replace(\"-\",\"\")+\".nc\")\n",
    "        else : \n",
    "            path = []\n",
    "            path.append(os.path.join(dir_input_ssh,\"MITgcm_filt_\"+date.astype('str').replace(\"-\",\"\")+\".nc\"))\n",
    "            path.append(os.path.join(dir_input_ssh,\"MITgcm_filt_\"+(date+np.timedelta64(1,\"D\")).astype('str').replace(\"-\",\"\")+\".nc\"))\n",
    "\n",
    "    if omit_next_step:\n",
    "        ds_ssh = xr.open_dataset(path)\n",
    "    else : \n",
    "        ds_ssh = xr.open_mfdataset(path,combine=\"nested\",concat_dim=\"time\")\n",
    "    \n",
    "    ds_ssh = ds_ssh.sel(longitude = slice(lon_min,lon_max),latitude=slice(lat_min,lat_max),drop=True)\n",
    "    \n",
    "    if omit_next_step:\n",
    "        finterp = interpolate.RegularGridInterpolator([ds_ssh.time[0:24].values.astype(\"float64\"),ds_ssh.latitude.values,ds_ssh.longitude.values],\n",
    "                                                ds_ssh[var][0:24].values,\n",
    "                                                bounds_error=False)\n",
    "    else : \n",
    "        finterp = interpolate.RegularGridInterpolator([ds_ssh.time[0:25].values.astype(\"float64\"),ds_ssh.latitude.values,ds_ssh.longitude.values],\n",
    "                                                ds_ssh[var][0:25].values,\n",
    "                                                bounds_error=False)\n",
    "    \n",
    "    return finterp "
   ]
  },
  {
   "cell_type": "code",
   "execution_count": 7,
   "metadata": {},
   "outputs": [],
   "source": [
    "def interp_satellite(latitude_array,longitude_array,time_array,time_serie,interp,sat_type,var):\n",
    "    \n",
    "    \"\"\"\n",
    "    This function interpolates the modelled ssh on the provided swaths (for SWOT satellite). \n",
    "\n",
    "        - latitude_data_array : data array containing the latitude information of each pixel (shape = [num_lines,num_pixels])\n",
    "        - longitude_data_array : data array containing the longitude information of each pixel (shape = [num_lines,num_pixels])\n",
    "        - time_data_array : data array containing the time information of each pixel (shape = [num_lines,num_pixels])\n",
    "        - time_serie : initial time_array of the observations (before converting to float)\n",
    "        - interp : interpolator as provided by the function open_model_data\n",
    "\n",
    "    Returns : \n",
    "        - ds : dataset of interpolated ssh. Longitude and latitude are coodinates indexed by [num_lines,num_pixels]. Time and ssh_cor are variables. \n",
    "\n",
    "    \"\"\"\n",
    "\n",
    "\n",
    "    points = np.concatenate((np.expand_dims(time_array.flatten(),axis=1),\n",
    "                                       np.expand_dims(latitude_array.flatten(),axis=1),\n",
    "                                       np.expand_dims(longitude_array.flatten(),axis=1)),axis=1)\n",
    "    \n",
    "    ssh_interp = interp(points).reshape(time_array.shape)\n",
    "\n",
    "    #if var is \"ssh_cor\", renaming it into \"ssh\" in the netcdf file \n",
    "    if var == \"ssh_cor\":\n",
    "        var = \"ssh\"\n",
    "\n",
    "    if sat_type == \"wide_swath\":\n",
    "\n",
    "        ds = xr.Dataset({'time':(('num_lines'),time_serie),\n",
    "                        var:(['num_lines','num_pixels'],ssh_interp),}, \n",
    "                        coords={'latitude':(['num_lines','num_pixels'],latitude_array),\n",
    "                                'longitude':(['num_lines','num_pixels'],longitude_array)} \n",
    "                        )\n",
    "        \n",
    "    elif sat_type == \"nadir\":\n",
    "\n",
    "        ds = xr.Dataset({var:('time',ssh_interp.T)}, \n",
    "                    coords={'time':('time',time_serie),\n",
    "                            'latitude':('time',latitude_array),\n",
    "                            'longitude':('time',longitude_array)} \n",
    "                    )\n",
    "\n",
    "    else : \n",
    "        print(\"Variable sat_type is not valid.\")\n",
    "\n",
    "    # Setting the variable attributes \n",
    "    ds[var] = ds[var].assign_attrs({\"description\":dic_attrs[var],\n",
    "                           \"units\":\"[m]\"})\n",
    "    \n",
    "    return ds \n"
   ]
  },
  {
   "attachments": {},
   "cell_type": "markdown",
   "metadata": {},
   "source": [
    "## 2. - Data loading "
   ]
  },
  {
   "attachments": {},
   "cell_type": "markdown",
   "metadata": {},
   "source": [
    "The information of SWOT swaths coordinates are dowloaded. The file contain the North Pacific region. "
   ]
  },
  {
   "cell_type": "code",
   "execution_count": 8,
   "metadata": {},
   "outputs": [
    {
     "name": "stderr",
     "output_type": "stream",
     "text": [
      "/home/bellemva/miniconda3/envs/pangeo-forge/lib/python3.10/site-packages/xarray/backends/plugins.py:71: RuntimeWarning: Engine 'cfgrib' loading failed:\n",
      "Cannot find the ecCodes library\n",
      "  warnings.warn(f\"Engine {name!r} loading failed:\\n{ex}\", RuntimeWarning)\n"
     ]
    }
   ],
   "source": [
    "ds = xr.open_dataset(\"/bettik/bellemva/satellite_track/swot/track_swot_pacific.nc\")\n",
    "\n",
    "if sat_type == \"nadir\" :\n",
    "    ds = ds.isel(num_pixels=35)"
   ]
  },
  {
   "cell_type": "markdown",
   "metadata": {},
   "source": [
    "The file is cropped to only keep the region of interest : "
   ]
  },
  {
   "cell_type": "code",
   "execution_count": 9,
   "metadata": {},
   "outputs": [],
   "source": [
    "if \"longitude_nadir\" in ds.keys() and \"latitude_nadir\" in ds.keys():\n",
    "    lon_nad = ds.longitude_nadir\n",
    "    lat_nad = ds.latitude_nadir\n",
    "else : \n",
    "    lon_nad = ds.longitude\n",
    "    lat_nad = ds.latitude\n",
    "\n",
    "### if zone == \"hawaii\", shifting the crossover coordinates to hawaii ###\n",
    "if zone==\"hawaii\":\n",
    "    # sleecting data from another crossover\n",
    "    lon_min_bis = 225; lon_max_bis = 245;lat_min_bis = 25; lat_max_bis = 45;\n",
    "    mask = (lon_nad>lon_min_bis)*(lon_nad<lon_max_bis)*(lat_nad>lat_min_bis)*(lat_nad<lat_max_bis)\n",
    "    \n",
    "    #shifting coordinates \n",
    "    ds = ds.where(mask,drop=True)\n",
    "    # ds = ds.where(mask)\n",
    "    ds = ds.assign_coords({\"longitude\" : ds.longitude - (lon_min_bis - lon_min)})\n",
    "    ds = ds.assign_coords({\"latitude\" : ds.latitude - (lat_min_bis - lat_min)})\n",
    "\n",
    "### else : ### \n",
    "else : \n",
    "    mask = (lon_nad>lon_min)*(lon_nad<lon_max)*(lat_nad>lat_min)*(lat_nad<lat_max)\n",
    "    ds = ds.where(mask,drop=True)"
   ]
  },
  {
   "cell_type": "markdown",
   "metadata": {},
   "source": [
    "A mask is applied to select the measures with across track distance between 10km and 60km, if wide swath type is interpolated. "
   ]
  },
  {
   "cell_type": "code",
   "execution_count": 10,
   "metadata": {},
   "outputs": [],
   "source": [
    "if sat_type == \"wide_swath\" :\n",
    "    mask_act = np.logical_and(np.abs(ds.cross_track_distance)>10000,\n",
    "                            np.abs(ds.cross_track_distance)<60000)\n",
    "\n",
    "    # ds_m = ds.where(mask_act,drop=True)\n",
    "\n",
    "    # ds_m = ds.copy(deep=True)\n",
    "    # ds_m[\"longitude\"] = ds[\"longitude\"].where(mask_act)\n",
    "    # ds_m[\"latitude\"] = ds[\"latitude\"].where(mask_act)\n",
    "    # ds_m['time'] = ds.time\n",
    "    # ds = ds_m\n",
    "    # del ds_m"
   ]
  },
  {
   "cell_type": "markdown",
   "metadata": {},
   "source": [
    "The SWOT coordinates for the full period are computed from the SWOT coordinates dataset. "
   ]
  },
  {
   "cell_type": "code",
   "execution_count": 11,
   "metadata": {},
   "outputs": [],
   "source": [
    "### CREATION OF THE TIME DATASET COOORDINATE ### \n",
    "\n",
    "time_dataset = np.empty((93*ds.time.values.shape[0],),dtype=\"datetime64[ns]\")\n",
    "time_delta = (ds.time.values-ds.time.values[0])\n",
    "shift = np.timedelta64(int(0.99349*24*3600*1E9),\"ns\")\n",
    "\n",
    "for i in range (93) : # number of swot cycles computed, in the 91 days of experiment \n",
    "    time_dataset[i*ds.time.values.shape[0]:(i+1)*ds.time.values.shape[0]]=np.datetime64(\"2012-05-01\")+time_delta+i*shift\n",
    "\n",
    "### CREATION OF THE LONGITUDE AND LATITUDE DATASET COOORDINATE ### \n",
    "longitude_dataset = np.tile(ds.longitude.values.T,reps=93).T\n",
    "latitude_dataset = np.tile(ds.latitude.values.T,reps=93).T\n",
    "if sat_type == \"wide_swath\" :\n",
    "    mask_act_dataset = np.tile(mask_act.values.T,reps=93).T"
   ]
  },
  {
   "attachments": {},
   "cell_type": "markdown",
   "metadata": {},
   "source": [
    "## 3. - Track interpolating"
   ]
  },
  {
   "cell_type": "code",
   "execution_count": 12,
   "metadata": {},
   "outputs": [],
   "source": [
    "name_folder = dict({\"crossover_CCS\":\"2023b_SSHmapping_HF_Crossover_California\",\"crossover_centerpacific\":\"2023c_SSHmapping_HF_Crossover_CenterPacific\",\\\n",
    "                    \"crossover_hawaii\":\"2023d_SSHmapping_HF_Crossover_Hawaii\",\"hawaii\":\"2023e_SSHmapping_HF_Hawaii_new\"}) # folder info for each of the zones\n",
    "name_subfolder = dict({\"nadir\":\"dc_obs_nadirs/swot/\",\"wide_swath\":\"dc_obs_swot/\"}) # subfolder info for each of the sat types\n",
    "name_file = dict({\"nadir\":\"NADIR\",\"wide_swath\":\"SWOT\"}) # filename info for each of the sat types\n",
    "\n",
    "def create_dataset(d,sat_type,omit_next_step=False):\n",
    "\n",
    "    ########## NEW DEV ##########\n",
    "    mask = ((time_dataset>=d)*(time_dataset<d+np.timedelta64(1,\"D\")))\n",
    "    time_array = time_dataset[mask]\n",
    "    time_array_float = time_array.astype(\"float64\")\n",
    "    if sat_type == \"wide_swath\":\n",
    "        longitude_array = longitude_dataset[mask,:]\n",
    "        latitude_array = latitude_dataset[mask,:]\n",
    "    elif sat_type == \"nadir\":\n",
    "        longitude_array = longitude_dataset[mask]\n",
    "        latitude_array = latitude_dataset[mask]\n",
    "    #############################\n",
    "    \n",
    "    # expanding time array across swath  \n",
    "    if sat_type == \"wide_swath\":\n",
    "        time_array_float = np.repeat(np.expand_dims(time_array_float,axis=1),axis=1,repeats=69)\n",
    "        \n",
    "    #elif sat_type == \"nadir\":\n",
    "    #    time_data_array = ds.assign(time=(\"num_lines\",time_array_float)).time\n",
    "\n",
    "    # Interpolating for each variable\n",
    "    lst_ds_interp = []\n",
    "    for var in list_variables :  \n",
    "        finterp = open_model_data(d,var,omit_next_step)\n",
    "        lst_ds_interp.append(interp_satellite(latitude_array = latitude_array,longitude_array = longitude_array,\n",
    "                                                time_array = time_array_float,time_serie = time_array,\n",
    "                                                interp = finterp,sat_type=sat_type,var=var))\n",
    "    \n",
    "    # Merging each variable file \n",
    "    ds_interp = xr.merge(lst_ds_interp)\n",
    "\n",
    "    if sat_type == \"wide_swath\" :\n",
    "        for var in list_variables : \n",
    "            if var == \"ssh_cor\":\n",
    "                var = \"ssh\" \n",
    "            ds_interp[var] = ds_interp[var].where(mask_act_dataset[mask],np.nan)\n",
    "\n",
    "    # Saves the observation  \n",
    "    ds_interp.to_netcdf(f\"/bettik/bellemva/ocean_data_challenge/{name_folder[zone]}/{name_subfolder[sat_type]}SSH_{name_file[sat_type]}_\"+d.astype('str')+\".nc\",\n",
    "                            encoding = {\"time\" : {'units' : \"nanoseconds since 2012-01-01 00:00:00.000000000\"}})\n",
    "\n",
    "    del ds_interp, finterp, time_array\n",
    "    gc.collect()\n",
    "    \n",
    "    print(d,\"done\")"
   ]
  },
  {
   "attachments": {},
   "cell_type": "markdown",
   "metadata": {},
   "source": [
    "This loop on dates calls the function **interp_satellite**. "
   ]
  },
  {
   "cell_type": "code",
   "execution_count": 13,
   "metadata": {},
   "outputs": [
    {
     "name": "stdout",
     "output_type": "stream",
     "text": [
      "2012-05-02 done\n",
      "2012-05-03 done\n",
      "2012-05-04 done\n",
      "2012-05-05 done\n",
      "2012-05-06 done\n",
      "2012-05-07 done\n",
      "2012-05-08 done\n",
      "2012-05-09 done\n",
      "2012-05-10 done\n",
      "2012-05-11 done\n",
      "2012-05-12 done\n",
      "2012-05-13 done\n",
      "2012-05-14 done\n",
      "2012-05-15 done\n",
      "2012-05-16 done\n",
      "2012-05-17 done\n",
      "2012-05-18 done\n",
      "2012-05-19 done\n",
      "2012-05-20 done\n",
      "2012-05-21 done\n",
      "2012-05-22 done\n",
      "2012-05-23 done\n",
      "2012-05-24 done\n",
      "2012-05-25 done\n",
      "2012-05-26 done\n",
      "2012-05-27 done\n",
      "2012-05-28 done\n",
      "2012-05-29 done\n",
      "2012-05-30 done\n",
      "2012-05-31 done\n",
      "2012-06-01 done\n",
      "2012-06-02 done\n",
      "2012-06-03 done\n",
      "2012-06-04 done\n",
      "2012-06-05 done\n",
      "2012-06-06 done\n",
      "2012-06-07 done\n",
      "2012-06-08 done\n",
      "2012-06-09 done\n",
      "2012-06-10 done\n",
      "2012-06-11 done\n",
      "2012-06-12 done\n",
      "2012-06-13 done\n",
      "2012-06-14 done\n",
      "2012-06-15 done\n",
      "2012-06-16 done\n",
      "2012-06-17 done\n",
      "2012-06-18 done\n",
      "2012-06-19 done\n",
      "2012-06-20 done\n",
      "2012-06-21 done\n",
      "2012-06-22 done\n",
      "2012-06-23 done\n",
      "2012-06-24 done\n",
      "2012-06-25 done\n",
      "2012-06-26 done\n",
      "2012-06-27 done\n",
      "2012-06-28 done\n",
      "2012-06-29 done\n",
      "2012-06-30 done\n",
      "2012-07-01 done\n",
      "2012-07-02 done\n",
      "2012-07-03 done\n",
      "2012-07-04 done\n",
      "2012-07-05 done\n",
      "2012-07-06 done\n",
      "2012-07-07 done\n",
      "2012-07-08 done\n",
      "2012-07-09 done\n",
      "2012-07-10 done\n",
      "2012-07-11 done\n",
      "2012-07-12 done\n",
      "2012-07-13 done\n",
      "2012-07-14 done\n",
      "2012-07-15 done\n",
      "2012-07-16 done\n",
      "2012-07-17 done\n",
      "2012-07-18 done\n",
      "2012-07-19 done\n",
      "2012-07-20 done\n",
      "2012-07-21 done\n",
      "2012-07-22 done\n",
      "2012-07-23 done\n",
      "2012-07-24 done\n",
      "2012-07-25 done\n",
      "2012-07-26 done\n",
      "2012-07-27 done\n",
      "2012-07-28 done\n",
      "2012-07-29 done\n",
      "2012-07-30 done\n",
      "2012-07-31 done\n"
     ]
    }
   ],
   "source": [
    "dates = np.arange(np.datetime64(\"2012-05-02\"),np.datetime64(\"2012-08-01\"))\n",
    "# dates = np.arange(np.datetime64(\"2012-07-30\"),np.datetime64(\"2012-08-01\"))\n",
    "\n",
    "for d in dates:\n",
    "    omit_next_step=False \n",
    "    if d==np.datetime64(\"2012-07-31\"):\n",
    "        omit_next_step=True\n",
    "    create_dataset(d,sat_type,omit_next_step=omit_next_step)\n"
   ]
  },
  {
   "cell_type": "code",
   "execution_count": null,
   "metadata": {},
   "outputs": [],
   "source": [
    "create_dataset(np.datetime64(\"2012-05-02\"),sat_type)"
   ]
  },
  {
   "cell_type": "markdown",
   "metadata": {},
   "source": [
    "## DEV\n"
   ]
  },
  {
   "cell_type": "code",
   "execution_count": null,
   "metadata": {},
   "outputs": [],
   "source": []
  },
  {
   "attachments": {},
   "cell_type": "markdown",
   "metadata": {},
   "source": [
    "## 3. - Plots "
   ]
  },
  {
   "cell_type": "code",
   "execution_count": null,
   "metadata": {},
   "outputs": [],
   "source": [
    "def map_ssh(ssh,mask,ax,vmin,vmax): \n",
    "    \"\"\"\n",
    "    This function plots the data of Nadirs. \n",
    "    \"\"\"\n",
    "    return ax.scatter(ssh.longitude.values[mask],\n",
    "            ssh.latitude.values[mask],\n",
    "            c=ssh.ssh_cor.values[mask],\n",
    "            cmap=\"Spectral\",\n",
    "            s=0.1,\n",
    "            vmin = vmin,\n",
    "            vmax = vmax\n",
    "            )"
   ]
  },
  {
   "cell_type": "code",
   "execution_count": null,
   "metadata": {},
   "outputs": [],
   "source": [
    "def map_ssh_swot(ssh,ax,vmin,vmax):\n",
    "    \"\"\"\n",
    "    This function plots the data of SWOT. \n",
    "    \"\"\"\n",
    "    return ax.scatter(ssh.longitude.values,\n",
    "            ssh.latitude.values,\n",
    "            c=ssh.ssh_cor.values,\n",
    "            cmap=\"Spectral\",\n",
    "            s=0.1,\n",
    "            vmin = vmin,\n",
    "            vmax = vmax\n",
    "            )"
   ]
  },
  {
   "cell_type": "code",
   "execution_count": null,
   "metadata": {},
   "outputs": [],
   "source": [
    "\n",
    "def plot(ssh_alg,ssh_j3,ssh_s3a,ssh_s3b,ssh_c2,ssh_swot,\n",
    "         mask_alg,mask_j3,mask_s3a,mask_s3b,mask_c2,date): \n",
    "    \n",
    "    \"\"\"\n",
    "    This function creates the plots of the modelled satellite tracks for a given date. \n",
    "\n",
    "    Input : \n",
    "        - ssh_alg, ssh_j3,ssh_s3a,ssh_s3b,ssh_c2,ssh_swot : datasets of interpolated ssh \n",
    "        - mask_alg,mask_j3,mask_s3a,mask_s3b,mask_c2 : mask containing True when the point is measured at time corresponding to date input parameter \n",
    "        - date \n",
    "\n",
    "    Returns : None (but saves output)\n",
    "    \n",
    "    \"\"\"\n",
    "    \n",
    "\n",
    "    fig, ax = plt.subplots(figsize=(9,4),dpi=200,subplot_kw={\"projection\": ccrs.PlateCarree(central_longitude=0.)})\n",
    "\n",
    "    ax.set_extent([-145, -115,15, 45],crs=ccrs.PlateCarree())\n",
    "    vmin=-1\n",
    "    vmax=1\n",
    "\n",
    "    for ssh,mask in zip((ssh_alg,ssh_j3,ssh_s3a,ssh_s3b,ssh_c2),\n",
    "                        (mask_alg,mask_j3,mask_s3a,mask_s3b,mask_c2)):\n",
    "        if mask.sum()>0:\n",
    "\n",
    "            map_ssh(ssh,mask,ax,vmin=vmin,vmax=vmax)\n",
    "\n",
    "    if ssh_swot is not None : \n",
    "        map_swot = map_ssh_swot(ssh_swot,ax,vmin=vmin,vmax=vmax)\n",
    "\n",
    "\n",
    "    ax.add_feature(cfeature.LAND,color=\"lightgrey\",zorder=1)\n",
    "    ax.add_feature(cfeature.OCEAN,color=\"black\",zorder=0)\n",
    "    ax.coastlines(lw=0.5)\n",
    "    ax.set_aspect(\"equal\")\n",
    "    ax.set_title(\"SSH Observations\")\n",
    "\n",
    "    gridlines = ax.gridlines(\n",
    "        alpha=0.3,\n",
    "        color=\"white\",\n",
    "        draw_labels=True,\n",
    "        xlocs=np.arange(-180,-115,10),\n",
    "        ylocs=np.arange(10,45,5),\n",
    "        # xformatter=cartopy.mpl.ticker.LongitudeFormatter(zero_direction_label=True,),\n",
    "    )\n",
    "    gridlines.right_labels = False\n",
    "    gridlines.top_labels  = False\n",
    "    gridlines.xlabel_style = {'size': 11}\n",
    "    gridlines.ylabel_style = {'size': 11}\n",
    "    ax.set_aspect(\"equal\")\n",
    "\n",
    "    #cbar = plt.colorbar(mappable=map_swot)\n",
    "    #cbar.set_label(\"SSH\")\n",
    "\n",
    "    ax.text(s=date.astype('str'),x=-123.5,y=44,c=\"black\",fontsize=8)\n",
    "\n",
    "    plt.savefig(\"/home/bellemva/CCS/data/interp_satellite_track/frames/\"+date.astype(\"str\")+\".png\")\n"
   ]
  },
  {
   "cell_type": "code",
   "execution_count": null,
   "metadata": {},
   "outputs": [],
   "source": [
    "time_array = np.arange(np.datetime64(\"2012-06-01\"),np.datetime64(\"2012-06-14\"))\n",
    "\n",
    "for d in time_array : \n",
    "    # Imports the datasets of SSH \n",
    "    ds_alg = xr.open_dataset(\"/bettik/bellemva/2022a_CCS_CalVal/dc_nadir/alg/ds_alg_\"+d.astype(\"str\").replace(\"-\",\"\")+\".nc\")\n",
    "    ds_s3a = xr.open_dataset(\"/bettik/bellemva/2022a_CCS_CalVal/dc_nadir/s3a/ds_s3a_\"+d.astype(\"str\").replace(\"-\",\"\")+\".nc\")\n",
    "    ds_s3b = xr.open_dataset(\"/bettik/bellemva/2022a_CCS_CalVal/dc_nadir/s3b/ds_s3b_\"+d.astype(\"str\").replace(\"-\",\"\")+\".nc\")\n",
    "    ds_c2 = xr.open_dataset(\"/bettik/bellemva/2022a_CCS_CalVal/dc_nadir/c2/ds_c2_\"+d.astype(\"str\").replace(\"-\",\"\")+\".nc\")\n",
    "    ds_j3 = xr.open_dataset(\"/bettik/bellemva/2022a_CCS_CalVal/dc_nadir/j3/ds_j3_\"+d.astype(\"str\").replace(\"-\",\"\")+\".nc\")\n",
    "    ds_swot = xr.open_dataset(\"/bettik/bellemva/2022a_CCS_CalVal/dc_swot/ds_swot_\"+d.astype(\"str\").replace(\"-\",\"\")+\".nc\")\n",
    "\n",
    "    for i in range (24):\n",
    "        time = d+np.timedelta64(i,\"h\")\n",
    "        # Creates the mask selecting data for one given date \n",
    "        mask_alg = ds_alg.time.astype('datetime64[h]')==time\n",
    "        mask_s3a = ds_s3a.time.astype('datetime64[h]')==time\n",
    "        mask_s3b = ds_s3b.time.astype('datetime64[h]')==time\n",
    "        mask_c2 = ds_c2.time.astype('datetime64[h]')==time\n",
    "        mask_j3 = ds_j3.time.astype('datetime64[h]')==time\n",
    "\n",
    "        # Creates the SWOT ssh dataset \n",
    "\n",
    "        if i==6 : \n",
    "            ds_swot_selec = ds_swot.isel(num_lines = slice(0,2200))\n",
    "        elif i==23 : \n",
    "            ds_swot_selec =ds_swot.isel(num_lines = slice(2200,4350))\n",
    "        else : \n",
    "            ds_swot_selec=None \n",
    "\n",
    "        plot(ssh_alg=ds_alg,ssh_j3=ds_j3,ssh_s3a=ds_s3a,ssh_s3b=ds_s3b,ssh_c2 = ds_c2,ssh_swot=ds_swot_selec,\n",
    "             mask_alg=mask_alg,mask_j3=mask_j3,mask_s3a=mask_s3a,mask_s3b=mask_s3b,mask_c2=mask_c2,date=time)    \n",
    "        \n",
    "\n",
    "    "
   ]
  },
  {
   "cell_type": "code",
   "execution_count": null,
   "metadata": {},
   "outputs": [],
   "source": []
  },
  {
   "cell_type": "code",
   "execution_count": null,
   "metadata": {},
   "outputs": [],
   "source": [
    "dates = np.arange(np.datetime64(\"2012-05-01\"),np.datetime64(\"2012-06-01\"))\n",
    "\n",
    "# deleting the content of file.sh \n",
    "file = open(\"/home/bellemva/CCS/data/interp_satellite_track/file.sh\",\"w\")\n",
    "file.close()\n",
    "\n",
    "for d in dates:\n",
    "\n",
    "    command = \"ncap2 -A -s \\\"ssh_10=ssh_cor*0+10\\\" \"\n",
    "\n",
    "    command += \"/bettik/bellemva/2022a_CCS_CalVal/dc_swot/ds_swot_\"+d.astype('str').replace(\"-\",\"\")+\".nc \"\n",
    "\n",
    "    command += \"/bettik/bellemva/2022a_CCS_CalVal/dc_swot/ds_swot_\"+d.astype('str').replace(\"-\",\"\")+\".nc \\n\"\n",
    "\n",
    "    file = open(\"/home/bellemva/CCS/data/interp_satellite_track/file.sh\",\"a\")\n",
    "    \n",
    "    file.write(command)\n",
    "\n",
    "    file.close()"
   ]
  },
  {
   "cell_type": "code",
   "execution_count": null,
   "metadata": {},
   "outputs": [],
   "source": [
    "ds_alg"
   ]
  },
  {
   "cell_type": "code",
   "execution_count": null,
   "metadata": {},
   "outputs": [],
   "source": [
    "ds_alg = xr.open_mfdataset([\"/bettik/bellemva/2022a_CCS_CalVal/dc_nadir/alg/ds_alg_20120604.nc\",\n",
    "                            \"/bettik/bellemva/2022a_CCS_CalVal/dc_nadir/alg/ds_alg_20120605.nc\"],combine='nested',concat_dim='time')"
   ]
  },
  {
   "attachments": {},
   "cell_type": "markdown",
   "metadata": {},
   "source": [
    "### Plot for Liège poster"
   ]
  },
  {
   "cell_type": "code",
   "execution_count": null,
   "metadata": {},
   "outputs": [],
   "source": [
    "#ds_alg = xr.open_dataset(\"/bettik/bellemva/2022a_CCS_CalVal/nadir/alg/ds_alg_20120604.nc\")\n",
    "ds_alg2 = xr.open_dataset(\"/bettik/bellemva/2022a_CCS_CalVal/nadir/alg/ds_alg_20120603.nc\")\n",
    "\n",
    "#ds_s3a = xr.open_dataset(\"/bettik/bellemva/2022a_CCS_CalVal/nadir/s3a/ds_s3a_20120604.nc\")\n",
    "ds_s3a2 = xr.open_dataset(\"/bettik/bellemva/2022a_CCS_CalVal/nadir/s3a/ds_s3a_20120603.nc\")\n",
    "\n",
    "#ds_s3b = xr.open_dataset(\"/bettik/bellemva/2022a_CCS_CalVal/nadir/s3b/ds_s3b_20120604.nc\")\n",
    "ds_s3b2 = xr.open_dataset(\"/bettik/bellemva/2022a_CCS_CalVal/nadir/s3b/ds_s3b_20120603.nc\")\n",
    "\n",
    "#ds_c2 = xr.open_dataset(\"/bettik/bellemva/2022a_CCS_CalVal/nadir/c2/ds_c2_20120604.nc\")\n",
    "ds_c22 = xr.open_dataset(\"/bettik/bellemva/2022a_CCS_CalVal/nadir/c2/ds_c2_20120603.nc\")\n",
    "\n",
    "#ds_j3 = xr.open_dataset(\"/bettik/bellemva/2022a_CCS_CalVal/nadir/j3/ds_j3_20120604.nc\")\n",
    "ds_j32 = xr.open_dataset(\"/bettik/bellemva/2022a_CCS_CalVal/nadir/j3/ds_j3_20120603.nc\")\n",
    "\n",
    "ds_swot = xr.open_dataset(\"/bettik/bellemva/2022a_CCS_CalVal/swot/ds_swot_20120603.nc\")\n",
    "\n",
    "fig, ax = plt.subplots(figsize=(9,4),dpi=200,subplot_kw={\"projection\": ccrs.PlateCarree(central_longitude=0.)})\n",
    "\n",
    "ax.set_extent([-130, -120,30, 40],crs=ccrs.PlateCarree())\n",
    "vmin=0.2\n",
    "vmax=0.6\n",
    "\n",
    "#for ssh in (ds_alg,ds_alg2,ds_j3,ds_j32,ds_s3a,ds_s3a2,ds_s3b,ds_s3b2,ds_c2,ds_c22):\n",
    "for ssh in (ds_alg2,ds_j32,ds_s3a2,ds_s3b2,ds_c22):\n",
    "    #mask = np.ones(len(ssh.longitude.values),dtype='int')\n",
    "    #map_ssh(ssh,mask,ax,vmin=vmin,vmax=vmax)\n",
    "\n",
    "    ax.scatter(ssh.longitude.values,\n",
    "           ssh.latitude.values,\n",
    "           c=ssh.ssh_cor.values,\n",
    "            cmap=\"Spectral\",\n",
    "            s=0.5,\n",
    "            vmin = vmin,\n",
    "            vmax = vmax\n",
    "            )\n",
    "\n",
    "\n",
    "map_swot = map_ssh_swot(ds_swot,ax,vmin=vmin,vmax=vmax)\n",
    "\n",
    "ax.add_feature(cfeature.LAND,color=\"lightgrey\",zorder=1)\n",
    "ax.add_feature(cfeature.OCEAN,color=\"black\",zorder=0)\n",
    "ax.coastlines(lw=0.5)\n",
    "ax.set_aspect(\"equal\")\n",
    "ax.set_title(\"Sea Surface Height (SSH) Observations\")\n",
    "\n",
    "gridlines = ax.gridlines(\n",
    "    alpha=0.5,\n",
    "    color=\"white\",\n",
    "    draw_labels=True,\n",
    "    xlocs=np.arange(-180,-115,2.5),\n",
    "    ylocs=np.arange(10,45,2.5),\n",
    "    # xformatter=cartopy.mpl.ticker.LongitudeFormatter(zero_direction_label=True,),\n",
    ")\n",
    "gridlines.right_labels = False\n",
    "gridlines.top_labels  = False\n",
    "gridlines.xlabel_style = {'size': 11}\n",
    "gridlines.ylabel_style = {'size': 11}\n",
    "ax.set_aspect(\"equal\")\n",
    "\n",
    "cbar = plt.colorbar(mappable=map_swot,)\n",
    "cbar.set_label(\"SSH [m]\")\n",
    "\n",
    "#ax.text(s=date.astype('str'),x=-123.5,y=44,c=\"black\",fontsize=8)\n",
    "\n",
    "# plt.savefig(\"/home/bellemva/CCS/data/interp_satellite_track/frames/\"+date.astype(\"str\")+\".png\")"
   ]
  },
  {
   "cell_type": "code",
   "execution_count": null,
   "metadata": {},
   "outputs": [],
   "source": [
    "plt.hist(ds_swot.ssh_cor.values.flatten())"
   ]
  },
  {
   "cell_type": "markdown",
   "metadata": {},
   "source": [
    "## 4. - Formatting "
   ]
  },
  {
   "cell_type": "markdown",
   "metadata": {},
   "source": [
    "This cell aims at formatting the SWOT data prior to its interpolation. During interpolation phase, gap between two swaths hasn't been masked by NaNs. This processing step will mask the data around Nadir according tot the mask on SWOT real Data. "
   ]
  },
  {
   "cell_type": "code",
   "execution_count": null,
   "metadata": {},
   "outputs": [],
   "source": [
    "ds_swot = xr.open_dataset(\"/bettik/bellemva/2022a_CCS_CalVal/swot/ds_swot_20120603.nc\")"
   ]
  },
  {
   "cell_type": "code",
   "execution_count": null,
   "metadata": {},
   "outputs": [],
   "source": [
    "# mask of measured values, taken from SWOT real data \n",
    "mask_line = np.array([ True,  True, False, False, False, False, False, False, False,False, False, False, False, False, False, False, False, False,False, False, False, False, False, False, False, False, False,False, False, False, False, False, False,  True,  True,  True,False, False, False, False, False, False, False, False, False,False, False, False, False, False, False, False, False, False,False, False, False, False, False, False, False, False, False,False, False, False, False,  True,  True])\n",
    "# transfering it into 2d data array \n",
    "mask_array = np.repeat(np.expand_dims(mask_line,axis=0),axis=0,repeats=ds_swot.dims['num_lines'])"
   ]
  },
  {
   "cell_type": "code",
   "execution_count": null,
   "metadata": {},
   "outputs": [],
   "source": [
    "# function to save the masked data for a given date \n",
    "def save_masked_data(name_file,mask_array):\n",
    "    ds_swot = xr.open_dataset(name_file)\n",
    "    ds_swot.ssh_cor.values[mask_array]=np.nan\n",
    "    ds_swot.to_netcdf(name_file.replace(\"swot/\",\"swot_bis/\"))"
   ]
  },
  {
   "cell_type": "code",
   "execution_count": null,
   "metadata": {},
   "outputs": [],
   "source": [
    "# list of filenames \n",
    "list_file = !ls /bettik/bellemva/2022a_CCS_CalVal/swot/ds*.nc"
   ]
  },
  {
   "cell_type": "code",
   "execution_count": null,
   "metadata": {},
   "outputs": [],
   "source": [
    "# parallel computing\n",
    "res = np.array(Parallel(n_jobs=6,backend='multiprocessing')(jb_delayed(save_masked_data)(list_file[i],mask_array) for i in range(len(list_file))))"
   ]
  },
  {
   "cell_type": "code",
   "execution_count": null,
   "metadata": {},
   "outputs": [],
   "source": []
  },
  {
   "cell_type": "code",
   "execution_count": null,
   "metadata": {},
   "outputs": [],
   "source": []
  },
  {
   "cell_type": "markdown",
   "metadata": {},
   "source": [
    "## 5. - Comparison with SWOT real data (to debug interpolation problem)"
   ]
  },
  {
   "cell_type": "code",
   "execution_count": null,
   "metadata": {},
   "outputs": [],
   "source": [
    "import xarray as xr "
   ]
  },
  {
   "cell_type": "code",
   "execution_count": null,
   "metadata": {},
   "outputs": [],
   "source": [
    "ssh_swot_real = xr.open_dataset(\"/bettik/bellemva/obs_294_305_32_42_21600_SWOT_SSH_20231029_06h00_addmdt.nc\").load()\n"
   ]
  },
  {
   "cell_type": "code",
   "execution_count": null,
   "metadata": {},
   "outputs": [],
   "source": [
    "ssh_swot_model = xr.open_dataset(\"/bettik/bellemva/ocean_data_challenge/2023e_SSHmapping_HF_Hawaii/dc_obs_swot/SSH_SWOT_2012-06-10.nc\")"
   ]
  },
  {
   "cell_type": "code",
   "execution_count": null,
   "metadata": {},
   "outputs": [],
   "source": [
    "ssh_swot_new = xr.open_dataset(\"/bettik/bellemva/ocean_data_challenge/2023e_SSHmapping_HF_Hawaii_new/dc_obs_swot/SSH_SWOT_2012-06-01.nc\")\n",
    "ssh_swot_new"
   ]
  },
  {
   "cell_type": "code",
   "execution_count": null,
   "metadata": {},
   "outputs": [],
   "source": [
    "import matplotlib.pyplot as plt\n",
    "import numpy as np\n",
    "plt.plot(np.arange(ssh_swot_model.dims[\"num_pixels\"]),ssh_swot_model.ssh_it1[100,:])\n",
    "plt.scatter(np.arange(ssh_swot_model.dims[\"num_pixels\"]),np.isnan(ssh_swot_model.ssh_it1[100,:]))"
   ]
  },
  {
   "cell_type": "code",
   "execution_count": null,
   "metadata": {},
   "outputs": [],
   "source": [
    "import matplotlib.pyplot as plt\n",
    "import numpy as np\n",
    "plt.plot(np.arange(ssh_swot_real.dims[\"num_pixels\"]),ssh_swot_real.SSH[100,:])\n",
    "plt.plot(np.arange(ssh_swot_real.dims[\"num_pixels\"]),ssh_swot_real.longitude[100,:]/ssh_swot_real.longitude[100,:],c='red')\n",
    "\n",
    "plt.scatter(np.arange(ssh_swot_real.dims[\"num_pixels\"]),np.isnan(ssh_swot_real.SSH[100,:]))"
   ]
  },
  {
   "cell_type": "code",
   "execution_count": null,
   "metadata": {},
   "outputs": [],
   "source": [
    "import matplotlib.pyplot as plt\n",
    "import numpy as np\n",
    "plt.plot(np.arange(ssh_swot_new.dims[\"num_pixels\"]),ssh_swot_new.ssh[100,:])\n",
    "plt.plot(np.arange(ssh_swot_new.dims[\"num_pixels\"]),ssh_swot_new.longitude[100,:]/ssh_swot_new.longitude[100,:],c='red')\n",
    "\n",
    "plt.scatter(np.arange(ssh_swot_new.dims[\"num_pixels\"]),np.isnan(ssh_swot_new.ssh[100,:]))"
   ]
  },
  {
   "cell_type": "code",
   "execution_count": null,
   "metadata": {},
   "outputs": [],
   "source": []
  },
  {
   "cell_type": "code",
   "execution_count": null,
   "metadata": {},
   "outputs": [],
   "source": [
    "lon = np.arange(190,200,1/20)\n",
    "lat = np.arange(15,35,1/20)\n",
    "lon2d,lat2d = np.meshgrid(lon,lat)"
   ]
  },
  {
   "cell_type": "code",
   "execution_count": null,
   "metadata": {},
   "outputs": [],
   "source": [
    "longitudes = ssh_swot_new.longitude.values[0:1100,:]\n",
    "latitudes = ssh_swot_new.latitude.values[0:1100,:]\n",
    "values = ssh_swot_new.ssh_it1.values[0:1100,:]"
   ]
  },
  {
   "cell_type": "code",
   "execution_count": null,
   "metadata": {},
   "outputs": [],
   "source": [
    "from scipy.interpolate import griddata \n",
    "ssh_interp = griddata(points=(longitudes.ravel(), latitudes.ravel()),\n",
    "                      values = values.ravel(),\n",
    "                      xi=(lon2d.ravel(),lat2d.ravel()))"
   ]
  },
  {
   "cell_type": "code",
   "execution_count": null,
   "metadata": {},
   "outputs": [],
   "source": [
    "plt.pcolormesh(ssh_interp.reshape(lon2d.shape))"
   ]
  },
  {
   "cell_type": "code",
   "execution_count": null,
   "metadata": {},
   "outputs": [],
   "source": [
    "longitudes_model = ssh_swot_model.longitude.values[0:1100,:]\n",
    "latitudes_model = ssh_swot_model.latitude.values[0:1100,:]\n",
    "values_model = ssh_swot_model.ssh_it1.values[0:1100,:]"
   ]
  },
  {
   "cell_type": "code",
   "execution_count": null,
   "metadata": {},
   "outputs": [],
   "source": [
    "ssh_interp_model = griddata(points=(longitudes_model.ravel(), latitudes_model.ravel()),\n",
    "                      values = values_model.ravel(),\n",
    "                      xi=(lon2d.ravel(),lat2d.ravel()))"
   ]
  },
  {
   "cell_type": "code",
   "execution_count": null,
   "metadata": {},
   "outputs": [],
   "source": [
    "plt.pcolormesh(ssh_interp_model.reshape(lon2d.shape))"
   ]
  },
  {
   "cell_type": "code",
   "execution_count": null,
   "metadata": {},
   "outputs": [],
   "source": []
  }
 ],
 "metadata": {
  "kernelspec": {
   "display_name": "pangeo-forge",
   "language": "python",
   "name": "python3"
  },
  "language_info": {
   "codemirror_mode": {
    "name": "ipython",
    "version": 3
   },
   "file_extension": ".py",
   "mimetype": "text/x-python",
   "name": "python",
   "nbconvert_exporter": "python",
   "pygments_lexer": "ipython3",
   "version": "3.10.8"
  },
  "orig_nbformat": 4,
  "vscode": {
   "interpreter": {
    "hash": "7c23ec3ec738dd1576521582b0d5857622abaf70e6be4bb4aa32975471cea612"
   }
  }
 },
 "nbformat": 4,
 "nbformat_minor": 2
}
