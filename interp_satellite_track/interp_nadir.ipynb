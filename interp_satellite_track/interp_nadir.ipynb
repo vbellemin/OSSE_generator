{
 "cells": [
  {
   "attachments": {},
   "cell_type": "markdown",
   "metadata": {},
   "source": [
    "# File to generate Nadir OSSE tracks "
   ]
  },
  {
   "cell_type": "code",
   "execution_count": null,
   "metadata": {},
   "outputs": [],
   "source": [
    "import numpy as np \n",
    "import xarray as xr\n",
    "import glob \n",
    "import os \n",
    "from scipy import interpolate\n",
    "import random\n",
    "import datetime\n",
    "\n",
    "import matplotlib.pyplot as plt\n",
    "\n",
    "import cartopy.crs as ccrs\n",
    "import cartopy.feature as cfeature\n",
    "import cartopy\n",
    "\n",
    "import gc\n",
    "\n",
    "from joblib import Parallel\n",
    "from joblib import delayed as jb_delayed\n"
   ]
  },
  {
   "attachments": {},
   "cell_type": "markdown",
   "metadata": {},
   "source": [
    "## 1. - Functions "
   ]
  },
  {
   "cell_type": "code",
   "execution_count": null,
   "metadata": {},
   "outputs": [],
   "source": [
    "def open_satellite_data(date,str_satellite):\n",
    "\n",
    "    dir_input = \"/bettik/bellemva/satellite_track\"\n",
    "\n",
    "    date_split = date.astype('str').split(\"-\")\n",
    "\n",
    "    path_obs = os.path.join(dir_input,str_satellite,\"2019\",\"dt_global_*\"+date_split[1]+date_split[2]+\"*.nc\")\n",
    "\n",
    "    ds = xr.open_mfdataset(path_obs,combine='nested',concat_dim=\"time\")\n",
    "\n",
    "    empty_array = xr.DataArray(np.empty(ds.time.shape), dims=['time'])\n",
    "\n",
    "    track = xr.Dataset({'point':(('time'),empty_array.data)},\n",
    "                       coords={'time':('time',ds.time.values),'latitude':('latitude',ds.latitude.values),'longitude':('longitude',ds.longitude.values)})\n",
    "    \n",
    "    new_time_array = np.array([np.datetime64(t.astype('str').replace(\"2019\",\"2012\")).astype('datetime64[s]') for t in track.time.values])\n",
    "    new_time_array_float = np.array([t.astype('float64') for t in new_time_array])\n",
    "    track = track.assign_coords({\"time\":new_time_array_float})\n",
    "\n",
    "    return track, new_time_array\n"
   ]
  },
  {
   "cell_type": "code",
   "execution_count": null,
   "metadata": {},
   "outputs": [],
   "source": [
    "def open_model_data(date):\n",
    "\n",
    "    dir_input_ssh = \"/bettik/bellemva/MITgcm/MITgcm_filtered_final\"\n",
    "\n",
    "    path = os.path.join(dir_input_ssh,\"MITgcm_filt_\"+date.astype('str').replace(\"-\",\"\")+\"*.nc\")\n",
    "\n",
    "    ds_ssh = xr.open_mfdataset(path,combine='nested',concat_dim=\"time\")\n",
    "\n",
    "    time_array_float = np.array([t.astype(\"datetime64[s]\").astype('float64') for t in ds_ssh.time.values])\n",
    "    ds_ssh = ds_ssh.assign_coords({\"time\":time_array_float})\n",
    "\n",
    "\n",
    "    finterp = interpolate.RegularGridInterpolator([ds_ssh.time.values,ds_ssh.latitude.values,ds_ssh.longitude.values],\n",
    "                                              ds_ssh.ssh_cor.values,\n",
    "                                              bounds_error=False)\n",
    "    \n",
    "    return ds_ssh, finterp "
   ]
  },
  {
   "cell_type": "code",
   "execution_count": null,
   "metadata": {},
   "outputs": [],
   "source": [
    "def interp_satellite(track,new_time_array,interp):\n",
    "    ssh_interp = interp(np.transpose([track.time.values, track.latitude.values,track.longitude.values]))\n",
    "\n",
    "    ds = xr.Dataset({'ssh_cor':(('time'),ssh_interp[np.invert(np.isnan(ssh_interp))]),}, # don't forger to add 'time',\n",
    "                    coords={'time':('time',new_time_array[np.invert(np.isnan(ssh_interp))]),\n",
    "                            'latitude':('time',track.latitude.values[np.invert(np.isnan(ssh_interp))]),\n",
    "                            'longitude':('time',track.longitude.values[np.invert(np.isnan(ssh_interp))])} \n",
    "                    )\n",
    "    \n",
    "    return ds \n"
   ]
  },
  {
   "cell_type": "code",
   "execution_count": null,
   "metadata": {},
   "outputs": [],
   "source": [
    "def create_dataset (date):\n",
    "\n",
    "    ds_ssh, finterp = open_model_data(date)\n",
    "\n",
    "    for sat in [\"alg\",\"c2\",\"j3\",\"s3a\",\"s3b\"]:\n",
    "        \n",
    "        track, new_time_array = open_satellite_data(date,sat)\n",
    "\n",
    "        ds = interp_satellite(track,new_time_array,finterp)\n",
    "\n",
    "        ds.to_netcdf(\"/bettik/bellemva/2022a_CCS_CalVal/nadir/\"+sat+\"/ds_\"+sat+\"_\"+date.astype('str').replace(\"-\",\"\")+\".nc\")\n",
    "\n",
    "        del track, ds, new_time_array \n",
    "        #gc.collect()\n",
    "    \n",
    "    del ds_ssh, finterp \n",
    "    #gc.collect()\n",
    "    \n",
    "    print(date,\"done\")\n",
    "\n",
    "    return None "
   ]
  },
  {
   "attachments": {},
   "cell_type": "markdown",
   "metadata": {},
   "source": [
    "## 2. - Track interpolating "
   ]
  },
  {
   "cell_type": "code",
   "execution_count": null,
   "metadata": {},
   "outputs": [],
   "source": [
    "dates = np.arange(np.datetime64(\"2012-06-02\"),np.datetime64(\"2012-07-01\"))\n",
    "#dates = np.arange(np.datetime64(\"2012-06-04\"),np.datetime64(\"2012-06-04\"))\n",
    "\n",
    "for d in dates : \n",
    "    create_dataset(d)"
   ]
  },
  {
   "cell_type": "code",
   "execution_count": null,
   "metadata": {},
   "outputs": [],
   "source": [
    "longitude = np.arange(180,245.01,1/48)\n",
    "latitude = np.arange(10,45.01,1/48)\n",
    "\n",
    "fig, ax = plt.subplots(figsize=(9,4),dpi=200,subplot_kw={\"projection\": ccrs.PlateCarree(central_longitude=0.)})\n",
    "\n",
    "ax.set_extent([-180, -115,10, 45],crs=ccrs.PlateCarree())\n",
    "map_diff = ax.scatter(ds_alg.longitude.values,\n",
    "                      ds_alg.latitude.values,\n",
    "                      c=ds_alg.ssh_cor.values,cmap=\"Spectral\",vmin=-1,vmax=1)\n",
    "\n",
    "ax.add_feature(cfeature.LAND,color=\"lightgrey\",zorder=1)\n",
    "ax.add_feature(cfeature.OCEAN,color=\"black\",zorder=0)\n",
    "ax.coastlines(lw=0.5)\n",
    "ax.set_aspect(\"equal\")\n",
    "ax.set_title(\"Altika OSSE tracks\")\n",
    "\n",
    "gridlines = ax.gridlines(\n",
    "    alpha=0.3,\n",
    "    color=\"white\",\n",
    "    draw_labels=True,\n",
    "    xlocs=np.arange(-180,-115,10),\n",
    "    ylocs=np.arange(10,45,5),\n",
    "    # xformatter=cartopy.mpl.ticker.LongitudeFormatter(zero_direction_label=True,),\n",
    ")\n",
    "gridlines.right_labels = False\n",
    "gridlines.top_labels  = False\n",
    "gridlines.xlabel_style = {'size': 11}\n",
    "gridlines.ylabel_style = {'size': 11}\n",
    "ax.set_aspect(\"equal\")\n"
   ]
  },
  {
   "cell_type": "code",
   "execution_count": null,
   "metadata": {},
   "outputs": [],
   "source": []
  }
 ],
 "metadata": {
  "kernelspec": {
   "display_name": "pangeo-forge",
   "language": "python",
   "name": "python3"
  },
  "language_info": {
   "codemirror_mode": {
    "name": "ipython",
    "version": 3
   },
   "file_extension": ".py",
   "mimetype": "text/x-python",
   "name": "python",
   "nbconvert_exporter": "python",
   "pygments_lexer": "ipython3",
   "version": "3.10.8"
  },
  "orig_nbformat": 4,
  "vscode": {
   "interpreter": {
    "hash": "7c23ec3ec738dd1576521582b0d5857622abaf70e6be4bb4aa32975471cea612"
   }
  }
 },
 "nbformat": 4,
 "nbformat_minor": 2
}
