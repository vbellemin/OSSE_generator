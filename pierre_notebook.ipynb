{
 "cells": [
  {
   "cell_type": "code",
   "execution_count": null,
   "metadata": {},
   "outputs": [],
   "source": [
    "import numpy as np\n",
    "import scipy.fftpack as fp"
   ]
  },
  {
   "cell_type": "code",
   "execution_count": null,
   "metadata": {},
   "outputs": [],
   "source": [
    "def extract_it(array_ssh,wint,H): \n",
    "    array_ssh=array_ssh.values\n",
    "    ssh_extended = np.concatenate((np.flip(array_ssh),\n",
    "                                   array_ssh,\n",
    "                                   np.flip(array_ssh)))\n",
    "    ssh_win = wint * ssh_extended \n",
    "    ssh_f_t = fp.fft(ssh_win)\n",
    "    ssh_f_filtered =  H * ssh_f_t\n",
    "    ssh_filtered = np.real(fp.ifft(ssh_f_filtered))[nt:2*nt]\n",
    "    del array_ssh\n",
    "    return ssh_filtered"
   ]
  },
  {
   "cell_type": "code",
   "execution_count": null,
   "metadata": {},
   "outputs": [],
   "source": [
    "def gaspari_cohn(array,distance,center):\n",
    "    \"\"\"\n",
    "    NAME \n",
    "        bfn_gaspari_cohn\n",
    "\n",
    "    DESCRIPTION \n",
    "        Gaspari-Cohn function. @vbellemin.\n",
    "        \n",
    "        Args: \n",
    "            array : array of value whose the Gaspari-Cohn function will be applied\n",
    "            center : centered value of the function \n",
    "            distance : Distance above which the return values are zeros\n",
    "\n",
    "\n",
    "        Returns:  smoothed values \n",
    "            \n",
    "    \"\"\" \n",
    "    if type(array) is float or type(array) is int:\n",
    "        array = np.array([array])\n",
    "    else:\n",
    "        array = array\n",
    "    if distance<=0:\n",
    "        return np.zeros_like(array)\n",
    "    else:\n",
    "        array = 2*np.abs(array-center*np.ones_like(array))/distance\n",
    "        gp = np.zeros_like(array)\n",
    "        i= np.where(array<=1.)[0]\n",
    "        gp[i]=-0.25*array[i]**5+0.5*array[i]**4+0.625*array[i]**3-5./3.*array[i]**2+1.\n",
    "        i =np.where((array>1.)*(array<=2.))[0]\n",
    "        gp[i] = 1./12.*array[i]**5-0.5*array[i]**4+0.625*array[i]**3+5./3.*array[i]**2-5.*array[i]+4.-2./3./array[i]\n",
    "        #if type(r) is float:\n",
    "        #    gp = gp[0]\n",
    "    return gp"
   ]
  },
  {
   "cell_type": "code",
   "execution_count": null,
   "metadata": {},
   "outputs": [],
   "source": [
    "# PARAMETERS # \n",
    "wint = np.ones(3*nt)\n",
    "gaspari = gaspari_cohn(np.arange(0,2*nt,1),nt,nt)\n",
    "wint[:nt]=gaspari[:nt]\n",
    "wint[2*nt:]=gaspari[nt:]\n",
    "\n",
    "dt = 3600 # seconds\n",
    "\n",
    "w = fp.fftfreq(3*nt,dt)# seconds^-1\n",
    "nw = w.size\n",
    "\n",
    "w_cut = 1/15/3600\n",
    "H = (np.abs(w)<w_cut) \n",
    "w_filtered = H*w"
   ]
  },
  {
   "cell_type": "code",
   "execution_count": null,
   "metadata": {},
   "outputs": [],
   "source": [
    "for i in range (0,nx): \n",
    "    for j in range (0,ny):\n",
    "        extract_it(ds[:,i,j],wint,H)"
   ]
  }
 ],
 "metadata": {
  "language_info": {
   "name": "python"
  }
 },
 "nbformat": 4,
 "nbformat_minor": 2
}
