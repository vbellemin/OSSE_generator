{
 "cells": [
  {
   "cell_type": "code",
   "execution_count": 4,
   "metadata": {},
   "outputs": [],
   "source": [
    "import numpy as np \n",
    "\n",
    "# deleting the content of file.sh \n",
    "file = open(\"./bash.sh\",\"w\")\n",
    "file.close()\n",
    "\n",
    "array_date = np.arange(np.datetime64(\"2012-05-01\"),np.datetime64(\"2012-08-01\"))\n",
    "\n",
    "for d in array_date : \n",
    "    file = open(\"./bash.sh\",\"a\")\n",
    "\n",
    "    command = \"\"\n",
    "\n",
    "    for sat in [\"alg\",\"c2\",\"j3\",\"s3a\",\"s3b\"]:\n",
    "\n",
    "        command = \"mv /bettik/bellemva/ocean_data_challenge/2023b_SSHmapping_HF_California/dc_obs_nadirs/\"+sat+\"/dt_global_\"+d.astype('str').replace(\"-\",\"\")+\".nc \"\n",
    "        command += \"/bettik/bellemva/ocean_data_challenge/2023b_SSHmapping_HF_California/dc_obs_nadirs/\"+sat+\"/dt_global_\"+d.astype('str')+ \".nc\\n\"\n",
    "\n",
    "        file.write(command)\n",
    "\n",
    "    file.close()\n"
   ]
  },
  {
   "cell_type": "code",
   "execution_count": 4,
   "metadata": {},
   "outputs": [],
   "source": [
    "import numpy as np \n",
    "\n",
    "# deleting the content of file.sh \n",
    "file = open(\"./bash.sh\",\"w\")\n",
    "file.close()\n",
    "\n",
    "array_date = np.arange(np.datetime64(\"2012-05-01\"),np.datetime64(\"2012-08-01\"))\n",
    "\n",
    "for d in array_date : \n",
    "    file = open(\"./bash.sh\",\"a\")\n",
    "\n",
    "    command = \"\"\n",
    "\n",
    "    command = \"mv /bettik/bellemva/ocean_data_challenge/2023b_SSHmapping_HF_California/dc_obs_nadirs/swot/SSH_NADIR_California_\"+d.astype('str')+\".nc \"\n",
    "    command += \"/bettik/bellemva/ocean_data_challenge/2023b_SSHmapping_HF_California/dc_obs_nadirs/swot/SSH_NADIR_\"+d.astype('str')+ \".nc\\n\"\n",
    "\n",
    "    file.write(command)\n",
    "\n",
    "    file.close()"
   ]
  },
  {
   "cell_type": "code",
   "execution_count": 2,
   "metadata": {},
   "outputs": [],
   "source": [
    "import numpy as np \n",
    "\n",
    "# deleting the content of file.sh \n",
    "file = open(\"./bash.sh\",\"w\")\n",
    "file.close()\n",
    "\n",
    "array_date = np.arange(np.datetime64(\"2012-05-01\"),np.datetime64(\"2012-07-31\"))\n",
    "\n",
    "for d in array_date : \n",
    "    file = open(\"./bash.sh\",\"a\")\n",
    "\n",
    "    command = \"\"\n",
    "\n",
    "    command = \"mv /bettik/bellemva/ocean_data_challenge/2023b_SSHmapping_HF_California/dc_obs_swot/SSH_SWOT\"+d.astype('str')+\".nc \"\n",
    "    command += \"/bettik/bellemva/ocean_data_challenge/2023b_SSHmapping_HF_California/dc_obs_swot/SSH_SWOT_\"+d.astype('str')+ \".nc\\n\"\n",
    "\n",
    "    file.write(command)\n",
    "\n",
    "    file.close()"
   ]
  },
  {
   "cell_type": "code",
   "execution_count": null,
   "metadata": {},
   "outputs": [],
   "source": []
  }
 ],
 "metadata": {
  "kernelspec": {
   "display_name": "pangeo-forge",
   "language": "python",
   "name": "python3"
  },
  "language_info": {
   "codemirror_mode": {
    "name": "ipython",
    "version": 3
   },
   "file_extension": ".py",
   "mimetype": "text/x-python",
   "name": "python",
   "nbconvert_exporter": "python",
   "pygments_lexer": "ipython3",
   "version": "3.10.8"
  }
 },
 "nbformat": 4,
 "nbformat_minor": 2
}
